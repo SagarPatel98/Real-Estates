{
 "cells": [
  {
   "cell_type": "markdown",
   "metadata": {},
   "source": [
    "# 1. Business Problem\n",
    "## 1.1 Problem Context\n",
    "\n",
    "Our client is a large Real Estate Investment Trust (REIT).\n",
    "* They invest in houses, apartments, and condos(complex of buildings) within a small county in New York state.\n",
    "* As part of their business, they try to predict the fair transaction price of a property before it's sold.\n",
    "* They do so to calibrate their internal pricing models and keep a pulse on the market.\n",
    "\n",
    "## 1.2 Problem Statement\n",
    "The REIT has hired us to find a data-driven approach to valuing properties.\n",
    "* They currently have an untapped dataset of transaction prices for previous properties on the market.\n",
    "* The data was collected in 2016.\n",
    "* Our task is to build a real-estate pricing model using that dataset.\n",
    "* If we can build a model to predict transaction prices with an average error of under US Dollars 70,000, then our client will be very satisfied with the our resultant model.\n",
    "\n",
    "## 1.3 Business Objectives and Constraints\n",
    "* Deliverable: Trained model file\n",
    "* Win condition: Avg. prediction error < \\$70,000\n",
    "* Model Interpretability will be useful\n",
    "* No latency requirement"
   ]
  },
  {
   "cell_type": "markdown",
   "metadata": {},
   "source": [
    "# 2. Machine Learning Problem\n",
    "## 2.1 Data Overview\n",
    "\n",
    "For this project:\n",
    "1. The dataset has 1883 observations in the county where the REIT operates.\n",
    "2. Each observation is for the transaction of one property only.\n",
    "3. Each transaction was between \\$200,000 and \\$800,000.\n",
    "\n",
    "#### Target Variable\n",
    "* 'tx_price' - Transaction price in USD\n",
    "\n",
    "#### Features of the data:\n",
    "\n",
    "Public records:\n",
    "* 'tx_year' - Year the transaction took place\n",
    "* 'property_tax' - Monthly property tax\n",
    "* 'insurance' - Cost of monthly homeowner's insurance\n",
    "\n",
    "Property characteristics:\n",
    "* 'beds' - Number of bedrooms\n",
    "* 'baths' - Number of bathrooms\n",
    "* 'sqft' - Total floor area in squared feet\n",
    "* 'lot_size' - Total outside area in squared feet\n",
    "* 'year_built' - Year property was built\n",
    "* 'active_life' - Number of gyms, yoga studios, and sports venues within 1 mile\n",
    "* 'basement' - Does the property have a basement?\n",
    "* 'exterior_walls' - The material used for constructing walls of the house\n",
    "* 'roof' - The material used for constructing the roof\n",
    "\n",
    "Location convenience scores:\n",
    "* 'restaurants' - Number of restaurants within 1 mile\n",
    "* 'groceries' - Number of grocery stores within 1 mile\n",
    "* 'nightlife' - Number of nightlife venues within 1 mile\n",
    "* 'cafes' - Number of cafes within 1 mile\n",
    "* 'shopping' - Number of stores within 1 mile\n",
    "* 'arts_entertainment' - Number of arts and entertainment venues within 1 mile\n",
    "* 'beauty_spas' - Number of beauty and spa locations within 1 mile\n",
    "* 'active_life' - Number of gyms, yoga studios, and sports venues within 1 mile\n",
    "\n",
    "Neighborhood demographics:\n",
    "* 'median_age' - Median age of the neighborhood\n",
    "* 'married' - Percent of neighborhood who are married\n",
    "* 'college_grad' - Percent of neighborhood who graduated college\n",
    "\n",
    "Schools:\n",
    "* 'num_schools' - Number of public schools within district\n",
    "* 'median_school' - Median score of the public schools within district, on the range 1 - 10\n",
    "\n",
    "## 2.2 Mapping business problem to ML problem\n",
    "### 2.2.1 Type of Machine Learning Problem\n",
    "It is a regression problem, where given the above set of features, we need to predict the transaction price of the house.\n",
    "\n",
    "### 2.2.2 Performance Metric (KPI)\n",
    "**Since it is a regression problem, we will use the following regression metrics:**\n",
    "#### 2.2.2.1 Root Mean Squared Error (RMSE)"
   ]
  },
  {
   "cell_type": "markdown",
   "metadata": {},
   "source": [
    "![title](Images/rmse.gif)"
   ]
  },
  {
   "cell_type": "markdown",
   "metadata": {},
   "source": [
    "#### 2.2.2.2 R-squared\n",
    "![title](Images/r_squared.png)\n",
    "\n",
    "Just remember the value of R suared must be at least greater than 0 and 1 in the best case"
   ]
  },
  {
   "cell_type": "markdown",
   "metadata": {},
   "source": [
    "## 2.3 Train-Test Splits\n",
    "**80-20**"
   ]
  },
  {
   "cell_type": "markdown",
   "metadata": {},
   "source": [
    "# 3. Exploratory Data Analysis"
   ]
  },
  {
   "cell_type": "markdown",
   "metadata": {},
   "source": [
    "#### Import the libraries"
   ]
  },
  {
   "cell_type": "code",
   "execution_count": 1,
   "metadata": {},
   "outputs": [
    {
     "name": "stderr",
     "output_type": "stream",
     "text": [
      "C:\\Users\\abc\\Anaconda3\\lib\\site-packages\\sklearn\\cross_validation.py:41: DeprecationWarning: This module was deprecated in version 0.18 in favor of the model_selection module into which all the refactored classes and functions are moved. Also note that the interface of the new CV iterators are different from that of this module. This module will be removed in 0.20.\n",
      "  \"This module will be removed in 0.20.\", DeprecationWarning)\n"
     ]
    }
   ],
   "source": [
    "# NumPy for numerical computing\n",
    "import numpy as np\n",
    "\n",
    "# Pandas for DataFrames\n",
    "import pandas as pd\n",
    "\n",
    "# Matplotlib for visualization\n",
    "from matplotlib import pyplot as plt\n",
    "# display plots in the notebook\n",
    "%matplotlib inline\n",
    "# import color maps\n",
    "from matplotlib.colors import ListedColormap\n",
    "\n",
    "# Seaborn for easier visualization\n",
    "import seaborn as sns\n",
    "\n",
    "# Ignore Warnings\n",
    "import warnings\n",
    "warnings.filterwarnings(\"ignore\")\n",
    "\n",
    "from math import sqrt\n",
    "\n",
    "# Function for splitting training and test set\n",
    "from sklearn.model_selection import train_test_split\n",
    "\n",
    "# Function to perform data standardization \n",
    "from sklearn.preprocessing import StandardScaler\n",
    "\n",
    "# Libraries to perform hyperparameter tuning\n",
    "from sklearn.model_selection import GridSearchCV\n",
    "from sklearn.model_selection import RandomizedSearchCV\n",
    "\n",
    "# Import classes for ML Models\n",
    "from sklearn.linear_model import Ridge  ## Linear Regression + L2 regularization\n",
    "from sklearn.linear_model import Lasso ##Linear Regression + L1 regularizatio\n",
    "from sklearn.svm import SVR ## Support Vector Regressor\n",
    "from sklearn.ensemble import RandomForestRegressor\n",
    "from sklearn.neighbors import KNeighborsRegressor \n",
    "from sklearn.cross_validation import cross_val_score\n",
    "from sklearn.tree import DecisionTreeRegressor\n",
    "\n",
    "# Evaluation Metrics\n",
    "from sklearn.metrics import mean_squared_error as mse\n",
    "from sklearn.metrics import r2_score\n",
    "from sklearn.metrics import mean_absolute_error as mae\n",
    "\n",
    "## import xgboost\n",
    "import os\n",
    "mingw_path = 'C:\\\\Program Files\\\\mingw-w64\\\\x86_64-5.3.0-posix-seh-rt_v4-rev0\\\\mingw64\\\\bin'\n",
    "os.environ['PATH'] = mingw_path + ';' + os.environ['PATH']\n",
    "from xgboost import XGBRegressor\n",
    "from xgboost import plot_importance  ## to plot feature importance\n",
    "\n",
    "# To save the final model on disk\n",
    "from sklearn.externals import joblib  ## Reference http://scikit-learn.org/stable/modules/model_persistence.html"
   ]
  },
  {
   "cell_type": "code",
   "execution_count": 3,
   "metadata": {
    "collapsed": true
   },
   "outputs": [],
   "source": [
    "np.set_printoptions(precision=2, suppress=True)"
   ]
  },
  {
   "cell_type": "markdown",
   "metadata": {},
   "source": [
    "## 3.1 Load real estate data from CSV"
   ]
  },
  {
   "cell_type": "code",
   "execution_count": 7,
   "metadata": {
    "collapsed": true
   },
   "outputs": [],
   "source": [
    "df = pd.read_csv('Files/real_estate_data.csv')"
   ]
  },
  {
   "cell_type": "markdown",
   "metadata": {},
   "source": [
    "###### Display the dimensions of the dataset."
   ]
  },
  {
   "cell_type": "code",
   "execution_count": 8,
   "metadata": {},
   "outputs": [
    {
     "data": {
      "text/plain": [
       "(1883, 26)"
      ]
     },
     "execution_count": 8,
     "metadata": {},
     "output_type": "execute_result"
    }
   ],
   "source": [
    "df.shape"
   ]
  },
  {
   "cell_type": "markdown",
   "metadata": {},
   "source": [
    "###### Given features of  dataset."
   ]
  },
  {
   "cell_type": "code",
   "execution_count": 9,
   "metadata": {},
   "outputs": [
    {
     "data": {
      "text/plain": [
       "Index(['tx_price', 'beds', 'baths', 'sqft', 'year_built', 'lot_size',\n",
       "       'property_type', 'exterior_walls', 'roof', 'basement', 'restaurants',\n",
       "       'groceries', 'nightlife', 'cafes', 'shopping', 'arts_entertainment',\n",
       "       'beauty_spas', 'active_life', 'median_age', 'married', 'college_grad',\n",
       "       'property_tax', 'insurance', 'median_school', 'num_schools', 'tx_year'],\n",
       "      dtype='object')"
      ]
     },
     "execution_count": 9,
     "metadata": {},
     "output_type": "execute_result"
    }
   ],
   "source": [
    "df.columns"
   ]
  },
  {
   "cell_type": "markdown",
   "metadata": {},
   "source": [
    "##### Display the first 5 rows for observation"
   ]
  },
  {
   "cell_type": "code",
   "execution_count": 10,
   "metadata": {},
   "outputs": [
    {
     "data": {
      "text/html": [
       "<div>\n",
       "<style>\n",
       "    .dataframe thead tr:only-child th {\n",
       "        text-align: right;\n",
       "    }\n",
       "\n",
       "    .dataframe thead th {\n",
       "        text-align: left;\n",
       "    }\n",
       "\n",
       "    .dataframe tbody tr th {\n",
       "        vertical-align: top;\n",
       "    }\n",
       "</style>\n",
       "<table border=\"1\" class=\"dataframe\">\n",
       "  <thead>\n",
       "    <tr style=\"text-align: right;\">\n",
       "      <th></th>\n",
       "      <th>tx_price</th>\n",
       "      <th>beds</th>\n",
       "      <th>baths</th>\n",
       "      <th>sqft</th>\n",
       "      <th>year_built</th>\n",
       "      <th>lot_size</th>\n",
       "      <th>property_type</th>\n",
       "      <th>exterior_walls</th>\n",
       "      <th>roof</th>\n",
       "      <th>basement</th>\n",
       "      <th>restaurants</th>\n",
       "      <th>groceries</th>\n",
       "      <th>nightlife</th>\n",
       "      <th>cafes</th>\n",
       "      <th>shopping</th>\n",
       "      <th>arts_entertainment</th>\n",
       "      <th>beauty_spas</th>\n",
       "      <th>active_life</th>\n",
       "      <th>median_age</th>\n",
       "      <th>married</th>\n",
       "      <th>college_grad</th>\n",
       "      <th>property_tax</th>\n",
       "      <th>insurance</th>\n",
       "      <th>median_school</th>\n",
       "      <th>num_schools</th>\n",
       "      <th>tx_year</th>\n",
       "    </tr>\n",
       "  </thead>\n",
       "  <tbody>\n",
       "    <tr>\n",
       "      <th>0</th>\n",
       "      <td>295850</td>\n",
       "      <td>1</td>\n",
       "      <td>1</td>\n",
       "      <td>584</td>\n",
       "      <td>2013</td>\n",
       "      <td>0</td>\n",
       "      <td>Apartment / Condo / Townhouse</td>\n",
       "      <td>Wood Siding</td>\n",
       "      <td>NaN</td>\n",
       "      <td>NaN</td>\n",
       "      <td>107</td>\n",
       "      <td>9</td>\n",
       "      <td>30</td>\n",
       "      <td>19</td>\n",
       "      <td>89</td>\n",
       "      <td>6</td>\n",
       "      <td>47</td>\n",
       "      <td>58</td>\n",
       "      <td>33.0</td>\n",
       "      <td>65.0</td>\n",
       "      <td>84.0</td>\n",
       "      <td>234.0</td>\n",
       "      <td>81.0</td>\n",
       "      <td>9.0</td>\n",
       "      <td>3.0</td>\n",
       "      <td>2013</td>\n",
       "    </tr>\n",
       "    <tr>\n",
       "      <th>1</th>\n",
       "      <td>216500</td>\n",
       "      <td>1</td>\n",
       "      <td>1</td>\n",
       "      <td>612</td>\n",
       "      <td>1965</td>\n",
       "      <td>0</td>\n",
       "      <td>Apartment / Condo / Townhouse</td>\n",
       "      <td>Brick</td>\n",
       "      <td>Composition Shingle</td>\n",
       "      <td>1.0</td>\n",
       "      <td>105</td>\n",
       "      <td>15</td>\n",
       "      <td>6</td>\n",
       "      <td>13</td>\n",
       "      <td>87</td>\n",
       "      <td>2</td>\n",
       "      <td>26</td>\n",
       "      <td>14</td>\n",
       "      <td>39.0</td>\n",
       "      <td>73.0</td>\n",
       "      <td>69.0</td>\n",
       "      <td>169.0</td>\n",
       "      <td>51.0</td>\n",
       "      <td>3.0</td>\n",
       "      <td>3.0</td>\n",
       "      <td>2006</td>\n",
       "    </tr>\n",
       "    <tr>\n",
       "      <th>2</th>\n",
       "      <td>279900</td>\n",
       "      <td>1</td>\n",
       "      <td>1</td>\n",
       "      <td>615</td>\n",
       "      <td>1963</td>\n",
       "      <td>0</td>\n",
       "      <td>Apartment / Condo / Townhouse</td>\n",
       "      <td>Wood Siding</td>\n",
       "      <td>NaN</td>\n",
       "      <td>NaN</td>\n",
       "      <td>183</td>\n",
       "      <td>13</td>\n",
       "      <td>31</td>\n",
       "      <td>30</td>\n",
       "      <td>101</td>\n",
       "      <td>10</td>\n",
       "      <td>74</td>\n",
       "      <td>62</td>\n",
       "      <td>28.0</td>\n",
       "      <td>15.0</td>\n",
       "      <td>86.0</td>\n",
       "      <td>216.0</td>\n",
       "      <td>74.0</td>\n",
       "      <td>8.0</td>\n",
       "      <td>3.0</td>\n",
       "      <td>2012</td>\n",
       "    </tr>\n",
       "    <tr>\n",
       "      <th>3</th>\n",
       "      <td>379900</td>\n",
       "      <td>1</td>\n",
       "      <td>1</td>\n",
       "      <td>618</td>\n",
       "      <td>2000</td>\n",
       "      <td>33541</td>\n",
       "      <td>Apartment / Condo / Townhouse</td>\n",
       "      <td>Wood Siding</td>\n",
       "      <td>NaN</td>\n",
       "      <td>NaN</td>\n",
       "      <td>198</td>\n",
       "      <td>9</td>\n",
       "      <td>38</td>\n",
       "      <td>25</td>\n",
       "      <td>127</td>\n",
       "      <td>11</td>\n",
       "      <td>72</td>\n",
       "      <td>83</td>\n",
       "      <td>36.0</td>\n",
       "      <td>25.0</td>\n",
       "      <td>91.0</td>\n",
       "      <td>265.0</td>\n",
       "      <td>92.0</td>\n",
       "      <td>9.0</td>\n",
       "      <td>3.0</td>\n",
       "      <td>2005</td>\n",
       "    </tr>\n",
       "    <tr>\n",
       "      <th>4</th>\n",
       "      <td>340000</td>\n",
       "      <td>1</td>\n",
       "      <td>1</td>\n",
       "      <td>634</td>\n",
       "      <td>1992</td>\n",
       "      <td>0</td>\n",
       "      <td>Apartment / Condo / Townhouse</td>\n",
       "      <td>Brick</td>\n",
       "      <td>NaN</td>\n",
       "      <td>NaN</td>\n",
       "      <td>149</td>\n",
       "      <td>7</td>\n",
       "      <td>22</td>\n",
       "      <td>20</td>\n",
       "      <td>83</td>\n",
       "      <td>10</td>\n",
       "      <td>50</td>\n",
       "      <td>73</td>\n",
       "      <td>37.0</td>\n",
       "      <td>20.0</td>\n",
       "      <td>75.0</td>\n",
       "      <td>88.0</td>\n",
       "      <td>30.0</td>\n",
       "      <td>9.0</td>\n",
       "      <td>3.0</td>\n",
       "      <td>2002</td>\n",
       "    </tr>\n",
       "  </tbody>\n",
       "</table>\n",
       "</div>"
      ],
      "text/plain": [
       "   tx_price  beds  baths  sqft  year_built  lot_size  \\\n",
       "0    295850     1      1   584        2013         0   \n",
       "1    216500     1      1   612        1965         0   \n",
       "2    279900     1      1   615        1963         0   \n",
       "3    379900     1      1   618        2000     33541   \n",
       "4    340000     1      1   634        1992         0   \n",
       "\n",
       "                   property_type exterior_walls                 roof  \\\n",
       "0  Apartment / Condo / Townhouse    Wood Siding                  NaN   \n",
       "1  Apartment / Condo / Townhouse          Brick  Composition Shingle   \n",
       "2  Apartment / Condo / Townhouse    Wood Siding                  NaN   \n",
       "3  Apartment / Condo / Townhouse    Wood Siding                  NaN   \n",
       "4  Apartment / Condo / Townhouse          Brick                  NaN   \n",
       "\n",
       "   basement  restaurants  groceries  nightlife  cafes  shopping  \\\n",
       "0       NaN          107          9         30     19        89   \n",
       "1       1.0          105         15          6     13        87   \n",
       "2       NaN          183         13         31     30       101   \n",
       "3       NaN          198          9         38     25       127   \n",
       "4       NaN          149          7         22     20        83   \n",
       "\n",
       "   arts_entertainment  beauty_spas  active_life  median_age  married  \\\n",
       "0                   6           47           58        33.0     65.0   \n",
       "1                   2           26           14        39.0     73.0   \n",
       "2                  10           74           62        28.0     15.0   \n",
       "3                  11           72           83        36.0     25.0   \n",
       "4                  10           50           73        37.0     20.0   \n",
       "\n",
       "   college_grad  property_tax  insurance  median_school  num_schools  tx_year  \n",
       "0          84.0         234.0       81.0            9.0          3.0     2013  \n",
       "1          69.0         169.0       51.0            3.0          3.0     2006  \n",
       "2          86.0         216.0       74.0            8.0          3.0     2012  \n",
       "3          91.0         265.0       92.0            9.0          3.0     2005  \n",
       "4          75.0          88.0       30.0            9.0          3.0     2002  "
      ]
     },
     "execution_count": 10,
     "metadata": {},
     "output_type": "execute_result"
    }
   ],
   "source": [
    "pd.set_option('display.max_columns', 100) ## display max 100 columns\n",
    "df.head()"
   ]
  },
  {
   "cell_type": "markdown",
   "metadata": {},
   "source": [
    "Some feaures are numeric and some are categorical\n",
    "\n",
    "###### Filtering the categorical features:"
   ]
  },
  {
   "cell_type": "code",
   "execution_count": 11,
   "metadata": {},
   "outputs": [
    {
     "data": {
      "text/plain": [
       "property_type     object\n",
       "exterior_walls    object\n",
       "roof              object\n",
       "dtype: object"
      ]
     },
     "execution_count": 11,
     "metadata": {},
     "output_type": "execute_result"
    }
   ],
   "source": [
    "df.dtypes[df.dtypes=='object']"
   ]
  },
  {
   "cell_type": "markdown",
   "metadata": {},
   "source": [
    "## 3.2 Distribution of Numeric Features"
   ]
  },
  {
   "cell_type": "markdown",
   "metadata": {},
   "source": [
    "One of the most enlightening data exploration tasks is plotting the distributions of your features"
   ]
  },
  {
   "cell_type": "code",
   "execution_count": 12,
   "metadata": {},
   "outputs": [
    {
     "data": {
      "image/png": "[encoded data removed]",
      "text/plain": [
       "<matplotlib.figure.Figure at 0xc2c4c18>"
      ]
     },
     "metadata": {},
     "output_type": "display_data"
    }
   ],
   "source": [
    "# Plot histogram grid\n",
    "df.hist(figsize=(16,16), xrot=-45) ## Display the labels rotated by 45 degress\n",
    "\n",
    "# Clear the text \"residue\"\n",
    "plt.show()"
   ]
  },
  {
   "cell_type": "markdown",
   "metadata": {},
   "source": [
    "**Observations:**\n",
    "We can make out quite a few observations:\n",
    "\n",
    "For example, consider the histogram for beds:\n",
    "* Over 600 houses have 4 bedrooms, and similar number of houses have 3 bedrooms.\n",
    "* Less than 100 houses have one bedroom and so on.\n",
    "\n",
    "For example, consider the histogram for sqft:\n",
    "* Over 600 house having sqft less then 2500.\n",
    "* Over 200 having the sqft less 5000 & few no of house having sqft greater then 7500.\n",
    "\n",
    "\n",
    "Also, look at the plot for the 'year_built' feature:\n",
    "* The last bin in the histogram represents the range 2010-2020.\n",
    "* Since this dataset was pulled in 2016, we should not have properties built in 2019.\n",
    "* A property built after 2016 would be a measurement error.\n",
    "* However, because of the 10-year bins, it's hard to tell if there's a measurement error just from the plot above."
   ]
  },
  {
   "cell_type": "markdown",
   "metadata": {
    "collapsed": true
   },
   "source": [
    "##### Display summary statistics for numeric features"
   ]
  },
  {
   "cell_type": "code",
   "execution_count": 13,
   "metadata": {},
   "outputs": [
    {
     "data": {
      "text/html": [
       "<div>\n",
       "<style>\n",
       "    .dataframe thead tr:only-child th {\n",
       "        text-align: right;\n",
       "    }\n",
       "\n",
       "    .dataframe thead th {\n",
       "        text-align: left;\n",
       "    }\n",
       "\n",
       "    .dataframe tbody tr th {\n",
       "        vertical-align: top;\n",
       "    }\n",
       "</style>\n",
       "<table border=\"1\" class=\"dataframe\">\n",
       "  <thead>\n",
       "    <tr style=\"text-align: right;\">\n",
       "      <th></th>\n",
       "      <th>tx_price</th>\n",
       "      <th>beds</th>\n",
       "      <th>baths</th>\n",
       "      <th>sqft</th>\n",
       "      <th>year_built</th>\n",
       "      <th>lot_size</th>\n",
       "      <th>basement</th>\n",
       "      <th>restaurants</th>\n",
       "      <th>groceries</th>\n",
       "      <th>nightlife</th>\n",
       "      <th>cafes</th>\n",
       "      <th>shopping</th>\n",
       "      <th>arts_entertainment</th>\n",
       "      <th>beauty_spas</th>\n",
       "      <th>active_life</th>\n",
       "      <th>median_age</th>\n",
       "      <th>married</th>\n",
       "      <th>college_grad</th>\n",
       "      <th>property_tax</th>\n",
       "      <th>insurance</th>\n",
       "      <th>median_school</th>\n",
       "      <th>num_schools</th>\n",
       "      <th>tx_year</th>\n",
       "    </tr>\n",
       "  </thead>\n",
       "  <tbody>\n",
       "    <tr>\n",
       "      <th>count</th>\n",
       "      <td>1883.000000</td>\n",
       "      <td>1883.000000</td>\n",
       "      <td>1883.000000</td>\n",
       "      <td>1883.000000</td>\n",
       "      <td>1883.000000</td>\n",
       "      <td>1.883000e+03</td>\n",
       "      <td>1657.0</td>\n",
       "      <td>1883.000000</td>\n",
       "      <td>1883.000000</td>\n",
       "      <td>1883.000000</td>\n",
       "      <td>1883.000000</td>\n",
       "      <td>1883.000000</td>\n",
       "      <td>1883.000000</td>\n",
       "      <td>1883.000000</td>\n",
       "      <td>1883.000000</td>\n",
       "      <td>1883.000000</td>\n",
       "      <td>1883.000000</td>\n",
       "      <td>1883.000000</td>\n",
       "      <td>1883.000000</td>\n",
       "      <td>1883.000000</td>\n",
       "      <td>1883.000000</td>\n",
       "      <td>1883.000000</td>\n",
       "      <td>1883.000000</td>\n",
       "    </tr>\n",
       "    <tr>\n",
       "      <th>mean</th>\n",
       "      <td>422839.807754</td>\n",
       "      <td>3.420605</td>\n",
       "      <td>2.579926</td>\n",
       "      <td>2329.398832</td>\n",
       "      <td>1982.963887</td>\n",
       "      <td>1.339262e+04</td>\n",
       "      <td>1.0</td>\n",
       "      <td>40.210303</td>\n",
       "      <td>4.505045</td>\n",
       "      <td>5.074881</td>\n",
       "      <td>5.325013</td>\n",
       "      <td>40.802443</td>\n",
       "      <td>3.394052</td>\n",
       "      <td>23.416888</td>\n",
       "      <td>15.835369</td>\n",
       "      <td>38.601168</td>\n",
       "      <td>69.091875</td>\n",
       "      <td>65.085502</td>\n",
       "      <td>466.777483</td>\n",
       "      <td>140.454063</td>\n",
       "      <td>6.502921</td>\n",
       "      <td>2.793415</td>\n",
       "      <td>2007.111524</td>\n",
       "    </tr>\n",
       "    <tr>\n",
       "      <th>std</th>\n",
       "      <td>151462.593276</td>\n",
       "      <td>1.068554</td>\n",
       "      <td>0.945576</td>\n",
       "      <td>1336.991858</td>\n",
       "      <td>20.295945</td>\n",
       "      <td>4.494930e+04</td>\n",
       "      <td>0.0</td>\n",
       "      <td>46.867012</td>\n",
       "      <td>4.491029</td>\n",
       "      <td>8.464668</td>\n",
       "      <td>7.539309</td>\n",
       "      <td>53.539296</td>\n",
       "      <td>4.699787</td>\n",
       "      <td>25.776916</td>\n",
       "      <td>17.667717</td>\n",
       "      <td>6.634110</td>\n",
       "      <td>19.659767</td>\n",
       "      <td>16.953165</td>\n",
       "      <td>231.656645</td>\n",
       "      <td>72.929765</td>\n",
       "      <td>1.996109</td>\n",
       "      <td>0.505358</td>\n",
       "      <td>5.196898</td>\n",
       "    </tr>\n",
       "    <tr>\n",
       "      <th>min</th>\n",
       "      <td>200000.000000</td>\n",
       "      <td>1.000000</td>\n",
       "      <td>1.000000</td>\n",
       "      <td>500.000000</td>\n",
       "      <td>1880.000000</td>\n",
       "      <td>0.000000e+00</td>\n",
       "      <td>1.0</td>\n",
       "      <td>0.000000</td>\n",
       "      <td>0.000000</td>\n",
       "      <td>0.000000</td>\n",
       "      <td>0.000000</td>\n",
       "      <td>0.000000</td>\n",
       "      <td>0.000000</td>\n",
       "      <td>0.000000</td>\n",
       "      <td>0.000000</td>\n",
       "      <td>22.000000</td>\n",
       "      <td>11.000000</td>\n",
       "      <td>5.000000</td>\n",
       "      <td>88.000000</td>\n",
       "      <td>30.000000</td>\n",
       "      <td>1.000000</td>\n",
       "      <td>1.000000</td>\n",
       "      <td>1993.000000</td>\n",
       "    </tr>\n",
       "    <tr>\n",
       "      <th>25%</th>\n",
       "      <td>300000.000000</td>\n",
       "      <td>3.000000</td>\n",
       "      <td>2.000000</td>\n",
       "      <td>1345.000000</td>\n",
       "      <td>1970.000000</td>\n",
       "      <td>1.542000e+03</td>\n",
       "      <td>1.0</td>\n",
       "      <td>7.000000</td>\n",
       "      <td>1.000000</td>\n",
       "      <td>0.000000</td>\n",
       "      <td>0.000000</td>\n",
       "      <td>6.000000</td>\n",
       "      <td>0.000000</td>\n",
       "      <td>4.000000</td>\n",
       "      <td>4.000000</td>\n",
       "      <td>33.000000</td>\n",
       "      <td>58.000000</td>\n",
       "      <td>54.000000</td>\n",
       "      <td>320.000000</td>\n",
       "      <td>94.000000</td>\n",
       "      <td>5.000000</td>\n",
       "      <td>3.000000</td>\n",
       "      <td>2004.000000</td>\n",
       "    </tr>\n",
       "    <tr>\n",
       "      <th>50%</th>\n",
       "      <td>392000.000000</td>\n",
       "      <td>3.000000</td>\n",
       "      <td>3.000000</td>\n",
       "      <td>1907.000000</td>\n",
       "      <td>1986.000000</td>\n",
       "      <td>6.098000e+03</td>\n",
       "      <td>1.0</td>\n",
       "      <td>23.000000</td>\n",
       "      <td>3.000000</td>\n",
       "      <td>2.000000</td>\n",
       "      <td>3.000000</td>\n",
       "      <td>22.000000</td>\n",
       "      <td>2.000000</td>\n",
       "      <td>15.000000</td>\n",
       "      <td>10.000000</td>\n",
       "      <td>38.000000</td>\n",
       "      <td>73.000000</td>\n",
       "      <td>66.000000</td>\n",
       "      <td>426.000000</td>\n",
       "      <td>125.000000</td>\n",
       "      <td>7.000000</td>\n",
       "      <td>3.000000</td>\n",
       "      <td>2007.000000</td>\n",
       "    </tr>\n",
       "    <tr>\n",
       "      <th>75%</th>\n",
       "      <td>525000.000000</td>\n",
       "      <td>4.000000</td>\n",
       "      <td>3.000000</td>\n",
       "      <td>3005.000000</td>\n",
       "      <td>2000.000000</td>\n",
       "      <td>1.176100e+04</td>\n",
       "      <td>1.0</td>\n",
       "      <td>58.000000</td>\n",
       "      <td>7.000000</td>\n",
       "      <td>6.000000</td>\n",
       "      <td>6.000000</td>\n",
       "      <td>51.000000</td>\n",
       "      <td>5.000000</td>\n",
       "      <td>35.000000</td>\n",
       "      <td>21.000000</td>\n",
       "      <td>43.000000</td>\n",
       "      <td>84.000000</td>\n",
       "      <td>78.000000</td>\n",
       "      <td>569.000000</td>\n",
       "      <td>169.000000</td>\n",
       "      <td>8.000000</td>\n",
       "      <td>3.000000</td>\n",
       "      <td>2011.000000</td>\n",
       "    </tr>\n",
       "    <tr>\n",
       "      <th>max</th>\n",
       "      <td>800000.000000</td>\n",
       "      <td>5.000000</td>\n",
       "      <td>6.000000</td>\n",
       "      <td>8450.000000</td>\n",
       "      <td>2015.000000</td>\n",
       "      <td>1.220551e+06</td>\n",
       "      <td>1.0</td>\n",
       "      <td>266.000000</td>\n",
       "      <td>24.000000</td>\n",
       "      <td>54.000000</td>\n",
       "      <td>47.000000</td>\n",
       "      <td>340.000000</td>\n",
       "      <td>35.000000</td>\n",
       "      <td>177.000000</td>\n",
       "      <td>94.000000</td>\n",
       "      <td>69.000000</td>\n",
       "      <td>100.000000</td>\n",
       "      <td>100.000000</td>\n",
       "      <td>4508.000000</td>\n",
       "      <td>1374.000000</td>\n",
       "      <td>10.000000</td>\n",
       "      <td>4.000000</td>\n",
       "      <td>2016.000000</td>\n",
       "    </tr>\n",
       "  </tbody>\n",
       "</table>\n",
       "</div>"
      ],
      "text/plain": [
       "            tx_price         beds        baths         sqft   year_built  \\\n",
       "count    1883.000000  1883.000000  1883.000000  1883.000000  1883.000000   \n",
       "mean   422839.807754     3.420605     2.579926  2329.398832  1982.963887   \n",
       "std    151462.593276     1.068554     0.945576  1336.991858    20.295945   \n",
       "min    200000.000000     1.000000     1.000000   500.000000  1880.000000   \n",
       "25%    300000.000000     3.000000     2.000000  1345.000000  1970.000000   \n",
       "50%    392000.000000     3.000000     3.000000  1907.000000  1986.000000   \n",
       "75%    525000.000000     4.000000     3.000000  3005.000000  2000.000000   \n",
       "max    800000.000000     5.000000     6.000000  8450.000000  2015.000000   \n",
       "\n",
       "           lot_size  basement  restaurants    groceries    nightlife  \\\n",
       "count  1.883000e+03    1657.0  1883.000000  1883.000000  1883.000000   \n",
       "mean   1.339262e+04       1.0    40.210303     4.505045     5.074881   \n",
       "std    4.494930e+04       0.0    46.867012     4.491029     8.464668   \n",
       "min    0.000000e+00       1.0     0.000000     0.000000     0.000000   \n",
       "25%    1.542000e+03       1.0     7.000000     1.000000     0.000000   \n",
       "50%    6.098000e+03       1.0    23.000000     3.000000     2.000000   \n",
       "75%    1.176100e+04       1.0    58.000000     7.000000     6.000000   \n",
       "max    1.220551e+06       1.0   266.000000    24.000000    54.000000   \n",
       "\n",
       "             cafes     shopping  arts_entertainment  beauty_spas  active_life  \\\n",
       "count  1883.000000  1883.000000         1883.000000  1883.000000  1883.000000   \n",
       "mean      5.325013    40.802443            3.394052    23.416888    15.835369   \n",
       "std       7.539309    53.539296            4.699787    25.776916    17.667717   \n",
       "min       0.000000     0.000000            0.000000     0.000000     0.000000   \n",
       "25%       0.000000     6.000000            0.000000     4.000000     4.000000   \n",
       "50%       3.000000    22.000000            2.000000    15.000000    10.000000   \n",
       "75%       6.000000    51.000000            5.000000    35.000000    21.000000   \n",
       "max      47.000000   340.000000           35.000000   177.000000    94.000000   \n",
       "\n",
       "        median_age      married  college_grad  property_tax    insurance  \\\n",
       "count  1883.000000  1883.000000   1883.000000   1883.000000  1883.000000   \n",
       "mean     38.601168    69.091875     65.085502    466.777483   140.454063   \n",
       "std       6.634110    19.659767     16.953165    231.656645    72.929765   \n",
       "min      22.000000    11.000000      5.000000     88.000000    30.000000   \n",
       "25%      33.000000    58.000000     54.000000    320.000000    94.000000   \n",
       "50%      38.000000    73.000000     66.000000    426.000000   125.000000   \n",
       "75%      43.000000    84.000000     78.000000    569.000000   169.000000   \n",
       "max      69.000000   100.000000    100.000000   4508.000000  1374.000000   \n",
       "\n",
       "       median_school  num_schools      tx_year  \n",
       "count    1883.000000  1883.000000  1883.000000  \n",
       "mean        6.502921     2.793415  2007.111524  \n",
       "std         1.996109     0.505358     5.196898  \n",
       "min         1.000000     1.000000  1993.000000  \n",
       "25%         5.000000     3.000000  2004.000000  \n",
       "50%         7.000000     3.000000  2007.000000  \n",
       "75%         8.000000     3.000000  2011.000000  \n",
       "max        10.000000     4.000000  2016.000000  "
      ]
     },
     "execution_count": 13,
     "metadata": {},
     "output_type": "execute_result"
    }
   ],
   "source": [
    "df.describe()"
   ]
  },
  {
   "cell_type": "markdown",
   "metadata": {},
   "source": [
    "**Obeservation:**\n",
    "* Look at the 'year_built' column, we can see that its max value is 2015.\n",
    "* The 'basement' feature has some missing values, also its standard deviation is 0.0, while its min and max are both 1.0. Maybe this is a feature that should be binary?\n",
    "* Just note the mean values of all the parameters and get a sense whether the values look reasonable"
   ]
  },
  {
   "cell_type": "markdown",
   "metadata": {},
   "source": [
    "## 3.3 Distributions of categorical features\n",
    "Display summary statistics for categorical features."
   ]
  },
  {
   "cell_type": "code",
   "execution_count": 14,
   "metadata": {},
   "outputs": [
    {
     "data": {
      "text/html": [
       "<div>\n",
       "<style>\n",
       "    .dataframe thead tr:only-child th {\n",
       "        text-align: right;\n",
       "    }\n",
       "\n",
       "    .dataframe thead th {\n",
       "        text-align: left;\n",
       "    }\n",
       "\n",
       "    .dataframe tbody tr th {\n",
       "        vertical-align: top;\n",
       "    }\n",
       "</style>\n",
       "<table border=\"1\" class=\"dataframe\">\n",
       "  <thead>\n",
       "    <tr style=\"text-align: right;\">\n",
       "      <th></th>\n",
       "      <th>property_type</th>\n",
       "      <th>exterior_walls</th>\n",
       "      <th>roof</th>\n",
       "    </tr>\n",
       "  </thead>\n",
       "  <tbody>\n",
       "    <tr>\n",
       "      <th>count</th>\n",
       "      <td>1883</td>\n",
       "      <td>1660</td>\n",
       "      <td>1529</td>\n",
       "    </tr>\n",
       "    <tr>\n",
       "      <th>unique</th>\n",
       "      <td>2</td>\n",
       "      <td>16</td>\n",
       "      <td>16</td>\n",
       "    </tr>\n",
       "    <tr>\n",
       "      <th>top</th>\n",
       "      <td>Single-Family</td>\n",
       "      <td>Brick</td>\n",
       "      <td>Composition Shingle</td>\n",
       "    </tr>\n",
       "    <tr>\n",
       "      <th>freq</th>\n",
       "      <td>1080</td>\n",
       "      <td>687</td>\n",
       "      <td>1179</td>\n",
       "    </tr>\n",
       "  </tbody>\n",
       "</table>\n",
       "</div>"
      ],
      "text/plain": [
       "        property_type exterior_walls                 roof\n",
       "count            1883           1660                 1529\n",
       "unique              2             16                   16\n",
       "top     Single-Family          Brick  Composition Shingle\n",
       "freq             1080            687                 1179"
      ]
     },
     "execution_count": 14,
     "metadata": {},
     "output_type": "execute_result"
    }
   ],
   "source": [
    "df.describe(include=['object'])"
   ]
  },
  {
   "cell_type": "markdown",
   "metadata": {},
   "source": [
    "**Obeservation:**\n",
    "* exterior_walls and roof having some of the missing values.\n",
    "* There are 16 unique classes for 'exterior_walls', and the most frequent one is 'Brick'.\n",
    "    "
   ]
  },
  {
   "cell_type": "markdown",
   "metadata": {},
   "source": [
    "###### Plot bar plot for the 'exterior_walls' feature."
   ]
  },
  {
   "cell_type": "code",
   "execution_count": 15,
   "metadata": {},
   "outputs": [
    {
     "data": {
      "text/plain": [
       "<matplotlib.axes._subplots.AxesSubplot at 0x1e82748>"
      ]
     },
     "execution_count": 15,
     "metadata": {},
     "output_type": "execute_result"
    },
    {
     "data": {
      "image/png": "[encoded data removed]",
      "text/plain": [
       "<matplotlib.figure.Figure at 0xcc08dd8>"
      ]
     },
     "metadata": {},
     "output_type": "display_data"
    }
   ],
   "source": [
    "plt.figure(figsize=(10,8))\n",
    "sns.countplot(y='exterior_walls',data=df)"
   ]
  },
  {
   "cell_type": "markdown",
   "metadata": {},
   "source": [
    "**Observations:**\n",
    "Take a look at the frequencies of the classes.\n",
    "\n",
    "Several classes are quite prevalent in the dataset. They have long bars. Those include:\n",
    "* 'Brick'\n",
    "* 'Siding (Alum/Vinyl)'\n",
    "* 'Metal'\n",
    "* 'Combination'\n",
    "\n",
    "On the flipside, some classes have really short bars. For example:\n",
    "* 'Concrete Block'\n",
    "* 'Concrete'\n",
    "* 'Block'\n",
    "* 'Wood Shingle'\n",
    "* etc...\n",
    "* These don't have many observations, and they are called sparse classes."
   ]
  },
  {
   "cell_type": "markdown",
   "metadata": {},
   "source": [
    "## 3.4 Sparse Classes\n",
    "Sparse classes are classes in categorical features that have a very small number of observations.\n",
    "\n",
    "They tend to be problematic when we get to building models.\n",
    "* In the best case, they don't influence the model much.\n",
    "* In the worst case, they can cause the model to be overfit.\n",
    "\n",
    "Let's make a mental note to combine or reassign some of these classes later."
   ]
  },
  {
   "cell_type": "markdown",
   "metadata": {},
   "source": [
    "#### Bar plot for each categorical feature"
   ]
  },
  {
   "cell_type": "code",
   "execution_count": 16,
   "metadata": {},
   "outputs": [
    {
     "data": {
      "text/plain": [
       "<matplotlib.axes._subplots.AxesSubplot at 0xd6ae128>"
      ]
     },
     "execution_count": 16,
     "metadata": {},
     "output_type": "execute_result"
    },
    {
     "data": {
      "image/png": "[encoded data removed]",
      "text/plain": [
       "<matplotlib.figure.Figure at 0xcc081d0>"
      ]
     },
     "metadata": {},
     "output_type": "display_data"
    }
   ],
   "source": [
    "plt.figure(figsize=(5,2))\n",
    "sns.countplot(y='property_type',data=df)"
   ]
  },
  {
   "cell_type": "code",
   "execution_count": 17,
   "metadata": {},
   "outputs": [
    {
     "data": {
      "text/plain": [
       "<matplotlib.axes._subplots.AxesSubplot at 0xd6b1860>"
      ]
     },
     "execution_count": 17,
     "metadata": {},
     "output_type": "execute_result"
    },
    {
     "data": {
      "image/png": "[encoded data removed]",
      "text/plain": [
       "<matplotlib.figure.Figure at 0xd6b1240>"
      ]
     },
     "metadata": {},
     "output_type": "display_data"
    }
   ],
   "source": [
    "plt.figure(figsize=(6,8))\n",
    "sns.countplot(y='exterior_walls', data=df)"
   ]
  },
  {
   "cell_type": "code",
   "execution_count": 18,
   "metadata": {},
   "outputs": [
    {
     "data": {
      "text/plain": [
       "<matplotlib.axes._subplots.AxesSubplot at 0xce7a588>"
      ]
     },
     "execution_count": 18,
     "metadata": {},
     "output_type": "execute_result"
    },
    {
     "data": {
      "image/png": "[encoded data removed]",
      "text/plain": [
       "<matplotlib.figure.Figure at 0xc27ba58>"
      ]
     },
     "metadata": {},
     "output_type": "display_data"
    }
   ],
   "source": [
    "plt.figure(figsize=(6,8))\n",
    "sns.countplot(y='roof', data=df)"
   ]
  },
  {
   "cell_type": "markdown",
   "metadata": {},
   "source": [
    "**Observations:** In both 'exterior_walls' and 'roof' as well we have many sparse classes"
   ]
  },
  {
   "cell_type": "markdown",
   "metadata": {},
   "source": [
    "## 3.5 Segmentations\n",
    "Segmentations are powerful ways to cut the data to observe the relationship between categorical features and numeric features."
   ]
  },
  {
   "cell_type": "markdown",
   "metadata": {},
   "source": [
    "Segmenting the target variable by key categorical features."
   ]
  },
  {
   "cell_type": "code",
   "execution_count": 15,
   "metadata": {},
   "outputs": [
    {
     "data": {
      "text/plain": [
       "<matplotlib.axes._subplots.AxesSubplot at 0xade5bf0>"
      ]
     },
     "execution_count": 15,
     "metadata": {},
     "output_type": "execute_result"
    },
    {
     "data": {
      "image/png": "[encoded data removed]",
      "text/plain": [
       "<matplotlib.figure.Figure at 0xae76590>"
      ]
     },
     "metadata": {},
     "output_type": "display_data"
    }
   ],
   "source": [
    "sns.boxplot(y='property_type',x='tx_price',data=df)"
   ]
  },
  {
   "cell_type": "markdown",
   "metadata": {},
   "source": [
    "**Observation:** In general, it looks like single family homes are more expensive then the apartment/condo/Townhouse."
   ]
  },
  {
   "cell_type": "markdown",
   "metadata": {},
   "source": [
    "Let's compare the two property types across other features as well"
   ]
  },
  {
   "cell_type": "code",
   "execution_count": 16,
   "metadata": {},
   "outputs": [
    {
     "data": {
      "text/html": [
       "<div>\n",
       "<style>\n",
       "    .dataframe thead tr:only-child th {\n",
       "        text-align: right;\n",
       "    }\n",
       "\n",
       "    .dataframe thead th {\n",
       "        text-align: left;\n",
       "    }\n",
       "\n",
       "    .dataframe tbody tr th {\n",
       "        vertical-align: top;\n",
       "    }\n",
       "</style>\n",
       "<table border=\"1\" class=\"dataframe\">\n",
       "  <thead>\n",
       "    <tr style=\"text-align: right;\">\n",
       "      <th></th>\n",
       "      <th>tx_price</th>\n",
       "      <th>beds</th>\n",
       "      <th>baths</th>\n",
       "      <th>sqft</th>\n",
       "      <th>year_built</th>\n",
       "      <th>lot_size</th>\n",
       "      <th>basement</th>\n",
       "      <th>restaurants</th>\n",
       "      <th>groceries</th>\n",
       "      <th>nightlife</th>\n",
       "      <th>cafes</th>\n",
       "      <th>shopping</th>\n",
       "      <th>arts_entertainment</th>\n",
       "      <th>beauty_spas</th>\n",
       "      <th>active_life</th>\n",
       "      <th>median_age</th>\n",
       "      <th>married</th>\n",
       "      <th>college_grad</th>\n",
       "      <th>property_tax</th>\n",
       "      <th>insurance</th>\n",
       "      <th>median_school</th>\n",
       "      <th>num_schools</th>\n",
       "      <th>tx_year</th>\n",
       "    </tr>\n",
       "    <tr>\n",
       "      <th>property_type</th>\n",
       "      <th></th>\n",
       "      <th></th>\n",
       "      <th></th>\n",
       "      <th></th>\n",
       "      <th></th>\n",
       "      <th></th>\n",
       "      <th></th>\n",
       "      <th></th>\n",
       "      <th></th>\n",
       "      <th></th>\n",
       "      <th></th>\n",
       "      <th></th>\n",
       "      <th></th>\n",
       "      <th></th>\n",
       "      <th></th>\n",
       "      <th></th>\n",
       "      <th></th>\n",
       "      <th></th>\n",
       "      <th></th>\n",
       "      <th></th>\n",
       "      <th></th>\n",
       "      <th></th>\n",
       "      <th></th>\n",
       "    </tr>\n",
       "  </thead>\n",
       "  <tbody>\n",
       "    <tr>\n",
       "      <th>Apartment / Condo / Townhouse</th>\n",
       "      <td>366614.034869</td>\n",
       "      <td>2.601494</td>\n",
       "      <td>2.200498</td>\n",
       "      <td>1513.727273</td>\n",
       "      <td>1988.936488</td>\n",
       "      <td>3944.239103</td>\n",
       "      <td>1.0</td>\n",
       "      <td>58.418431</td>\n",
       "      <td>5.919054</td>\n",
       "      <td>7.855542</td>\n",
       "      <td>8.037360</td>\n",
       "      <td>57.631382</td>\n",
       "      <td>4.840598</td>\n",
       "      <td>32.087173</td>\n",
       "      <td>22.410959</td>\n",
       "      <td>37.199253</td>\n",
       "      <td>57.534247</td>\n",
       "      <td>66.372354</td>\n",
       "      <td>346.261519</td>\n",
       "      <td>105.652553</td>\n",
       "      <td>6.382316</td>\n",
       "      <td>2.831880</td>\n",
       "      <td>2007.941469</td>\n",
       "    </tr>\n",
       "    <tr>\n",
       "      <th>Single-Family</th>\n",
       "      <td>464644.711111</td>\n",
       "      <td>4.029630</td>\n",
       "      <td>2.862037</td>\n",
       "      <td>2935.865741</td>\n",
       "      <td>1978.523148</td>\n",
       "      <td>20417.666667</td>\n",
       "      <td>1.0</td>\n",
       "      <td>26.672222</td>\n",
       "      <td>3.453704</td>\n",
       "      <td>3.007407</td>\n",
       "      <td>3.308333</td>\n",
       "      <td>28.289815</td>\n",
       "      <td>2.318519</td>\n",
       "      <td>16.970370</td>\n",
       "      <td>10.946296</td>\n",
       "      <td>39.643519</td>\n",
       "      <td>77.685185</td>\n",
       "      <td>64.128704</td>\n",
       "      <td>556.383333</td>\n",
       "      <td>166.329630</td>\n",
       "      <td>6.592593</td>\n",
       "      <td>2.764815</td>\n",
       "      <td>2006.494444</td>\n",
       "    </tr>\n",
       "  </tbody>\n",
       "</table>\n",
       "</div>"
      ],
      "text/plain": [
       "                                    tx_price      beds     baths         sqft  \\\n",
       "property_type                                                                   \n",
       "Apartment / Condo / Townhouse  366614.034869  2.601494  2.200498  1513.727273   \n",
       "Single-Family                  464644.711111  4.029630  2.862037  2935.865741   \n",
       "\n",
       "                                year_built      lot_size  basement  \\\n",
       "property_type                                                        \n",
       "Apartment / Condo / Townhouse  1988.936488   3944.239103       1.0   \n",
       "Single-Family                  1978.523148  20417.666667       1.0   \n",
       "\n",
       "                               restaurants  groceries  nightlife     cafes  \\\n",
       "property_type                                                                \n",
       "Apartment / Condo / Townhouse    58.418431   5.919054   7.855542  8.037360   \n",
       "Single-Family                    26.672222   3.453704   3.007407  3.308333   \n",
       "\n",
       "                                shopping  arts_entertainment  beauty_spas  \\\n",
       "property_type                                                               \n",
       "Apartment / Condo / Townhouse  57.631382            4.840598    32.087173   \n",
       "Single-Family                  28.289815            2.318519    16.970370   \n",
       "\n",
       "                               active_life  median_age    married  \\\n",
       "property_type                                                       \n",
       "Apartment / Condo / Townhouse    22.410959   37.199253  57.534247   \n",
       "Single-Family                    10.946296   39.643519  77.685185   \n",
       "\n",
       "                               college_grad  property_tax   insurance  \\\n",
       "property_type                                                           \n",
       "Apartment / Condo / Townhouse     66.372354    346.261519  105.652553   \n",
       "Single-Family                     64.128704    556.383333  166.329630   \n",
       "\n",
       "                               median_school  num_schools      tx_year  \n",
       "property_type                                                           \n",
       "Apartment / Condo / Townhouse       6.382316     2.831880  2007.941469  \n",
       "Single-Family                       6.592593     2.764815  2006.494444  "
      ]
     },
     "execution_count": 16,
     "metadata": {},
     "output_type": "execute_result"
    }
   ],
   "source": [
    "df.groupby('property_type').mean()"
   ]
  },
  {
   "cell_type": "markdown",
   "metadata": {},
   "source": [
    "Some questions to consider include:\n",
    "* On average, which type of property is larger?\n",
    "* Which type of property is has larger lots?\n",
    "* Which type of property is in areas with more nightlife options/more restaurants/more grocery stores?\n",
    "* Do these relationships make intuitive sense, or are any surprising to you?"
   ]
  },
  {
   "cell_type": "markdown",
   "metadata": {},
   "source": [
    "Segment 'sqft' by 'property_type' and plot the boxplots"
   ]
  },
  {
   "cell_type": "code",
   "execution_count": 17,
   "metadata": {},
   "outputs": [
    {
     "data": {
      "text/plain": [
       "<matplotlib.axes._subplots.AxesSubplot at 0xb517290>"
      ]
     },
     "execution_count": 17,
     "metadata": {},
     "output_type": "execute_result"
    },
    {
     "data": {
      "image/png": "[encoded data removed]",
      "text/plain": [
       "<matplotlib.figure.Figure at 0xad80d70>"
      ]
     },
     "metadata": {},
     "output_type": "display_data"
    }
   ],
   "source": [
    "sns.boxplot(y='property_type',x='sqft',data=df)"
   ]
  },
  {
   "cell_type": "markdown",
   "metadata": {},
   "source": [
    "After producing the plot, consider these questions:\n",
    "* Which type of property is larger, on average?\n",
    "* Which type of property sees greater variance in sizes?\n",
    "* Does the difference in distributions between classes make intuitive sense?"
   ]
  },
  {
   "cell_type": "markdown",
   "metadata": {},
   "source": [
    "Segment by property_type and display the means and standard deviations within each class"
   ]
  },
  {
   "cell_type": "code",
   "execution_count": 18,
   "metadata": {},
   "outputs": [
    {
     "data": {
      "text/html": [
       "<div>\n",
       "<style>\n",
       "    .dataframe thead tr:only-child th {\n",
       "        text-align: right;\n",
       "    }\n",
       "\n",
       "    .dataframe thead th {\n",
       "        text-align: left;\n",
       "    }\n",
       "\n",
       "    .dataframe tbody tr th {\n",
       "        vertical-align: top;\n",
       "    }\n",
       "</style>\n",
       "<table border=\"1\" class=\"dataframe\">\n",
       "  <thead>\n",
       "    <tr>\n",
       "      <th></th>\n",
       "      <th colspan=\"2\" halign=\"left\">tx_price</th>\n",
       "      <th colspan=\"2\" halign=\"left\">beds</th>\n",
       "      <th colspan=\"2\" halign=\"left\">baths</th>\n",
       "      <th colspan=\"2\" halign=\"left\">sqft</th>\n",
       "      <th colspan=\"2\" halign=\"left\">year_built</th>\n",
       "      <th colspan=\"2\" halign=\"left\">lot_size</th>\n",
       "      <th colspan=\"2\" halign=\"left\">basement</th>\n",
       "      <th colspan=\"2\" halign=\"left\">restaurants</th>\n",
       "      <th colspan=\"2\" halign=\"left\">groceries</th>\n",
       "      <th colspan=\"2\" halign=\"left\">nightlife</th>\n",
       "      <th colspan=\"2\" halign=\"left\">cafes</th>\n",
       "      <th colspan=\"2\" halign=\"left\">shopping</th>\n",
       "      <th colspan=\"2\" halign=\"left\">arts_entertainment</th>\n",
       "      <th colspan=\"2\" halign=\"left\">beauty_spas</th>\n",
       "      <th colspan=\"2\" halign=\"left\">active_life</th>\n",
       "      <th colspan=\"2\" halign=\"left\">median_age</th>\n",
       "      <th colspan=\"2\" halign=\"left\">married</th>\n",
       "      <th colspan=\"2\" halign=\"left\">college_grad</th>\n",
       "      <th colspan=\"2\" halign=\"left\">property_tax</th>\n",
       "      <th colspan=\"2\" halign=\"left\">insurance</th>\n",
       "      <th colspan=\"2\" halign=\"left\">median_school</th>\n",
       "      <th colspan=\"2\" halign=\"left\">num_schools</th>\n",
       "      <th colspan=\"2\" halign=\"left\">tx_year</th>\n",
       "    </tr>\n",
       "    <tr>\n",
       "      <th></th>\n",
       "      <th>mean</th>\n",
       "      <th>std</th>\n",
       "      <th>mean</th>\n",
       "      <th>std</th>\n",
       "      <th>mean</th>\n",
       "      <th>std</th>\n",
       "      <th>mean</th>\n",
       "      <th>std</th>\n",
       "      <th>mean</th>\n",
       "      <th>std</th>\n",
       "      <th>mean</th>\n",
       "      <th>std</th>\n",
       "      <th>mean</th>\n",
       "      <th>std</th>\n",
       "      <th>mean</th>\n",
       "      <th>std</th>\n",
       "      <th>mean</th>\n",
       "      <th>std</th>\n",
       "      <th>mean</th>\n",
       "      <th>std</th>\n",
       "      <th>mean</th>\n",
       "      <th>std</th>\n",
       "      <th>mean</th>\n",
       "      <th>std</th>\n",
       "      <th>mean</th>\n",
       "      <th>std</th>\n",
       "      <th>mean</th>\n",
       "      <th>std</th>\n",
       "      <th>mean</th>\n",
       "      <th>std</th>\n",
       "      <th>mean</th>\n",
       "      <th>std</th>\n",
       "      <th>mean</th>\n",
       "      <th>std</th>\n",
       "      <th>mean</th>\n",
       "      <th>std</th>\n",
       "      <th>mean</th>\n",
       "      <th>std</th>\n",
       "      <th>mean</th>\n",
       "      <th>std</th>\n",
       "      <th>mean</th>\n",
       "      <th>std</th>\n",
       "      <th>mean</th>\n",
       "      <th>std</th>\n",
       "      <th>mean</th>\n",
       "      <th>std</th>\n",
       "    </tr>\n",
       "    <tr>\n",
       "      <th>property_type</th>\n",
       "      <th></th>\n",
       "      <th></th>\n",
       "      <th></th>\n",
       "      <th></th>\n",
       "      <th></th>\n",
       "      <th></th>\n",
       "      <th></th>\n",
       "      <th></th>\n",
       "      <th></th>\n",
       "      <th></th>\n",
       "      <th></th>\n",
       "      <th></th>\n",
       "      <th></th>\n",
       "      <th></th>\n",
       "      <th></th>\n",
       "      <th></th>\n",
       "      <th></th>\n",
       "      <th></th>\n",
       "      <th></th>\n",
       "      <th></th>\n",
       "      <th></th>\n",
       "      <th></th>\n",
       "      <th></th>\n",
       "      <th></th>\n",
       "      <th></th>\n",
       "      <th></th>\n",
       "      <th></th>\n",
       "      <th></th>\n",
       "      <th></th>\n",
       "      <th></th>\n",
       "      <th></th>\n",
       "      <th></th>\n",
       "      <th></th>\n",
       "      <th></th>\n",
       "      <th></th>\n",
       "      <th></th>\n",
       "      <th></th>\n",
       "      <th></th>\n",
       "      <th></th>\n",
       "      <th></th>\n",
       "      <th></th>\n",
       "      <th></th>\n",
       "      <th></th>\n",
       "      <th></th>\n",
       "      <th></th>\n",
       "      <th></th>\n",
       "    </tr>\n",
       "  </thead>\n",
       "  <tbody>\n",
       "    <tr>\n",
       "      <th>Apartment / Condo / Townhouse</th>\n",
       "      <td>366614.034869</td>\n",
       "      <td>121784.490486</td>\n",
       "      <td>2.601494</td>\n",
       "      <td>0.810220</td>\n",
       "      <td>2.200498</td>\n",
       "      <td>0.815009</td>\n",
       "      <td>1513.727273</td>\n",
       "      <td>556.286650</td>\n",
       "      <td>1988.936488</td>\n",
       "      <td>15.513640</td>\n",
       "      <td>3944.239103</td>\n",
       "      <td>44284.168767</td>\n",
       "      <td>1.0</td>\n",
       "      <td>0.0</td>\n",
       "      <td>58.418431</td>\n",
       "      <td>54.343594</td>\n",
       "      <td>5.919054</td>\n",
       "      <td>4.645774</td>\n",
       "      <td>7.855542</td>\n",
       "      <td>10.643816</td>\n",
       "      <td>8.037360</td>\n",
       "      <td>9.077038</td>\n",
       "      <td>57.631382</td>\n",
       "      <td>61.852299</td>\n",
       "      <td>4.840598</td>\n",
       "      <td>5.234834</td>\n",
       "      <td>32.087173</td>\n",
       "      <td>26.910443</td>\n",
       "      <td>22.410959</td>\n",
       "      <td>21.058178</td>\n",
       "      <td>37.199253</td>\n",
       "      <td>6.906584</td>\n",
       "      <td>57.534247</td>\n",
       "      <td>20.372706</td>\n",
       "      <td>66.372354</td>\n",
       "      <td>17.095874</td>\n",
       "      <td>346.261519</td>\n",
       "      <td>142.292282</td>\n",
       "      <td>105.652553</td>\n",
       "      <td>47.118015</td>\n",
       "      <td>6.382316</td>\n",
       "      <td>1.941998</td>\n",
       "      <td>2.831880</td>\n",
       "      <td>0.455370</td>\n",
       "      <td>2007.941469</td>\n",
       "      <td>4.099487</td>\n",
       "    </tr>\n",
       "    <tr>\n",
       "      <th>Single-Family</th>\n",
       "      <td>464644.711111</td>\n",
       "      <td>157758.739013</td>\n",
       "      <td>4.029630</td>\n",
       "      <td>0.795639</td>\n",
       "      <td>2.862037</td>\n",
       "      <td>0.937551</td>\n",
       "      <td>2935.865741</td>\n",
       "      <td>1422.871169</td>\n",
       "      <td>1978.523148</td>\n",
       "      <td>22.210582</td>\n",
       "      <td>20417.666667</td>\n",
       "      <td>44165.529302</td>\n",
       "      <td>1.0</td>\n",
       "      <td>0.0</td>\n",
       "      <td>26.672222</td>\n",
       "      <td>34.726416</td>\n",
       "      <td>3.453704</td>\n",
       "      <td>4.067285</td>\n",
       "      <td>3.007407</td>\n",
       "      <td>5.543822</td>\n",
       "      <td>3.308333</td>\n",
       "      <td>5.325053</td>\n",
       "      <td>28.289815</td>\n",
       "      <td>42.292313</td>\n",
       "      <td>2.318519</td>\n",
       "      <td>3.929691</td>\n",
       "      <td>16.970370</td>\n",
       "      <td>22.872112</td>\n",
       "      <td>10.946296</td>\n",
       "      <td>12.599296</td>\n",
       "      <td>39.643519</td>\n",
       "      <td>6.225732</td>\n",
       "      <td>77.685185</td>\n",
       "      <td>13.868205</td>\n",
       "      <td>64.128704</td>\n",
       "      <td>16.790347</td>\n",
       "      <td>556.383333</td>\n",
       "      <td>244.351559</td>\n",
       "      <td>166.329630</td>\n",
       "      <td>77.816022</td>\n",
       "      <td>6.592593</td>\n",
       "      <td>2.031663</td>\n",
       "      <td>2.764815</td>\n",
       "      <td>0.537959</td>\n",
       "      <td>2006.494444</td>\n",
       "      <td>5.807059</td>\n",
       "    </tr>\n",
       "  </tbody>\n",
       "</table>\n",
       "</div>"
      ],
      "text/plain": [
       "                                    tx_price                     beds  \\\n",
       "                                        mean            std      mean   \n",
       "property_type                                                           \n",
       "Apartment / Condo / Townhouse  366614.034869  121784.490486  2.601494   \n",
       "Single-Family                  464644.711111  157758.739013  4.029630   \n",
       "\n",
       "                                            baths                   sqft  \\\n",
       "                                    std      mean       std         mean   \n",
       "property_type                                                              \n",
       "Apartment / Condo / Townhouse  0.810220  2.200498  0.815009  1513.727273   \n",
       "Single-Family                  0.795639  2.862037  0.937551  2935.865741   \n",
       "\n",
       "                                             year_built             \\\n",
       "                                       std         mean        std   \n",
       "property_type                                                        \n",
       "Apartment / Condo / Townhouse   556.286650  1988.936488  15.513640   \n",
       "Single-Family                  1422.871169  1978.523148  22.210582   \n",
       "\n",
       "                                   lot_size               basement       \\\n",
       "                                       mean           std     mean  std   \n",
       "property_type                                                             \n",
       "Apartment / Condo / Townhouse   3944.239103  44284.168767      1.0  0.0   \n",
       "Single-Family                  20417.666667  44165.529302      1.0  0.0   \n",
       "\n",
       "                              restaurants            groceries            \\\n",
       "                                     mean        std      mean       std   \n",
       "property_type                                                              \n",
       "Apartment / Condo / Townhouse   58.418431  54.343594  5.919054  4.645774   \n",
       "Single-Family                   26.672222  34.726416  3.453704  4.067285   \n",
       "\n",
       "                              nightlife                cafes            \\\n",
       "                                   mean        std      mean       std   \n",
       "property_type                                                            \n",
       "Apartment / Condo / Townhouse  7.855542  10.643816  8.037360  9.077038   \n",
       "Single-Family                  3.007407   5.543822  3.308333  5.325053   \n",
       "\n",
       "                                shopping            arts_entertainment  \\\n",
       "                                    mean        std               mean   \n",
       "property_type                                                            \n",
       "Apartment / Condo / Townhouse  57.631382  61.852299           4.840598   \n",
       "Single-Family                  28.289815  42.292313           2.318519   \n",
       "\n",
       "                                        beauty_spas            active_life  \\\n",
       "                                    std        mean        std        mean   \n",
       "property_type                                                                \n",
       "Apartment / Condo / Townhouse  5.234834   32.087173  26.910443   22.410959   \n",
       "Single-Family                  3.929691   16.970370  22.872112   10.946296   \n",
       "\n",
       "                                         median_age              married  \\\n",
       "                                     std       mean       std       mean   \n",
       "property_type                                                              \n",
       "Apartment / Condo / Townhouse  21.058178  37.199253  6.906584  57.534247   \n",
       "Single-Family                  12.599296  39.643519  6.225732  77.685185   \n",
       "\n",
       "                                         college_grad            property_tax  \\\n",
       "                                     std         mean        std         mean   \n",
       "property_type                                                                   \n",
       "Apartment / Condo / Townhouse  20.372706    66.372354  17.095874   346.261519   \n",
       "Single-Family                  13.868205    64.128704  16.790347   556.383333   \n",
       "\n",
       "                                            insurance             \\\n",
       "                                      std        mean        std   \n",
       "property_type                                                      \n",
       "Apartment / Condo / Townhouse  142.292282  105.652553  47.118015   \n",
       "Single-Family                  244.351559  166.329630  77.816022   \n",
       "\n",
       "                              median_school           num_schools            \\\n",
       "                                       mean       std        mean       std   \n",
       "property_type                                                                 \n",
       "Apartment / Condo / Townhouse      6.382316  1.941998    2.831880  0.455370   \n",
       "Single-Family                      6.592593  2.031663    2.764815  0.537959   \n",
       "\n",
       "                                   tx_year            \n",
       "                                      mean       std  \n",
       "property_type                                         \n",
       "Apartment / Condo / Townhouse  2007.941469  4.099487  \n",
       "Single-Family                  2006.494444  5.807059  "
      ]
     },
     "execution_count": 18,
     "metadata": {},
     "output_type": "execute_result"
    }
   ],
   "source": [
    "df.groupby('property_type').agg([np.mean,np.std])"
   ]
  },
  {
   "cell_type": "markdown",
   "metadata": {},
   "source": [
    "## 3.6 Correlations\n",
    "* Finally, let's take a look at the relationships between numeric features and other numeric features.\n",
    "* ***Correlation*** is a value between -1 and 1 that represents how closely values for two separate features move in unison.\n",
    "* Positive correlation means that as one feature increases, the other increases; eg. a child's age and her height.\n",
    "* Negative correlation means that as one feature increases, the other decreases; eg. hours spent studying and number of parties attended.\n",
    "* Correlations near -1 or 1 indicate a strong relationship.\n",
    "* Those closer to 0 indicate a weak relationship.\n",
    "* 0 indicates no relationship."
   ]
  },
  {
   "cell_type": "code",
   "execution_count": 19,
   "metadata": {},
   "outputs": [
    {
     "data": {
      "text/html": [
       "<div>\n",
       "<style>\n",
       "    .dataframe thead tr:only-child th {\n",
       "        text-align: right;\n",
       "    }\n",
       "\n",
       "    .dataframe thead th {\n",
       "        text-align: left;\n",
       "    }\n",
       "\n",
       "    .dataframe tbody tr th {\n",
       "        vertical-align: top;\n",
       "    }\n",
       "</style>\n",
       "<table border=\"1\" class=\"dataframe\">\n",
       "  <thead>\n",
       "    <tr style=\"text-align: right;\">\n",
       "      <th></th>\n",
       "      <th>tx_price</th>\n",
       "      <th>beds</th>\n",
       "      <th>baths</th>\n",
       "      <th>sqft</th>\n",
       "      <th>year_built</th>\n",
       "      <th>lot_size</th>\n",
       "      <th>basement</th>\n",
       "      <th>restaurants</th>\n",
       "      <th>groceries</th>\n",
       "      <th>nightlife</th>\n",
       "      <th>cafes</th>\n",
       "      <th>shopping</th>\n",
       "      <th>arts_entertainment</th>\n",
       "      <th>beauty_spas</th>\n",
       "      <th>active_life</th>\n",
       "      <th>median_age</th>\n",
       "      <th>married</th>\n",
       "      <th>college_grad</th>\n",
       "      <th>property_tax</th>\n",
       "      <th>insurance</th>\n",
       "      <th>median_school</th>\n",
       "      <th>num_schools</th>\n",
       "      <th>tx_year</th>\n",
       "    </tr>\n",
       "  </thead>\n",
       "  <tbody>\n",
       "    <tr>\n",
       "      <th>tx_price</th>\n",
       "      <td>1.000000</td>\n",
       "      <td>0.384046</td>\n",
       "      <td>0.389375</td>\n",
       "      <td>0.469573</td>\n",
       "      <td>0.033138</td>\n",
       "      <td>0.130558</td>\n",
       "      <td>NaN</td>\n",
       "      <td>-0.038027</td>\n",
       "      <td>-0.094314</td>\n",
       "      <td>0.009361</td>\n",
       "      <td>-0.001398</td>\n",
       "      <td>-0.038246</td>\n",
       "      <td>-0.021076</td>\n",
       "      <td>-0.054349</td>\n",
       "      <td>-0.001165</td>\n",
       "      <td>0.126335</td>\n",
       "      <td>0.200494</td>\n",
       "      <td>0.268577</td>\n",
       "      <td>0.535148</td>\n",
       "      <td>0.532947</td>\n",
       "      <td>0.175762</td>\n",
       "      <td>-0.014380</td>\n",
       "      <td>0.108782</td>\n",
       "    </tr>\n",
       "    <tr>\n",
       "      <th>beds</th>\n",
       "      <td>0.384046</td>\n",
       "      <td>1.000000</td>\n",
       "      <td>0.644572</td>\n",
       "      <td>0.691039</td>\n",
       "      <td>-0.011844</td>\n",
       "      <td>0.164399</td>\n",
       "      <td>NaN</td>\n",
       "      <td>-0.495834</td>\n",
       "      <td>-0.421412</td>\n",
       "      <td>-0.440844</td>\n",
       "      <td>-0.464289</td>\n",
       "      <td>-0.388670</td>\n",
       "      <td>-0.442168</td>\n",
       "      <td>-0.419832</td>\n",
       "      <td>-0.486957</td>\n",
       "      <td>0.133711</td>\n",
       "      <td>0.643240</td>\n",
       "      <td>-0.082354</td>\n",
       "      <td>0.547643</td>\n",
       "      <td>0.485776</td>\n",
       "      <td>0.137309</td>\n",
       "      <td>-0.124359</td>\n",
       "      <td>-0.174081</td>\n",
       "    </tr>\n",
       "    <tr>\n",
       "      <th>baths</th>\n",
       "      <td>0.389375</td>\n",
       "      <td>0.644572</td>\n",
       "      <td>1.000000</td>\n",
       "      <td>0.682060</td>\n",
       "      <td>0.206141</td>\n",
       "      <td>0.132976</td>\n",
       "      <td>NaN</td>\n",
       "      <td>-0.350210</td>\n",
       "      <td>-0.340024</td>\n",
       "      <td>-0.306686</td>\n",
       "      <td>-0.316836</td>\n",
       "      <td>-0.259603</td>\n",
       "      <td>-0.305885</td>\n",
       "      <td>-0.282008</td>\n",
       "      <td>-0.329736</td>\n",
       "      <td>0.095844</td>\n",
       "      <td>0.442225</td>\n",
       "      <td>0.016097</td>\n",
       "      <td>0.525776</td>\n",
       "      <td>0.475430</td>\n",
       "      <td>0.163365</td>\n",
       "      <td>-0.088299</td>\n",
       "      <td>-0.132110</td>\n",
       "    </tr>\n",
       "    <tr>\n",
       "      <th>sqft</th>\n",
       "      <td>0.469573</td>\n",
       "      <td>0.691039</td>\n",
       "      <td>0.682060</td>\n",
       "      <td>1.000000</td>\n",
       "      <td>0.254589</td>\n",
       "      <td>0.246016</td>\n",
       "      <td>NaN</td>\n",
       "      <td>-0.353759</td>\n",
       "      <td>-0.371167</td>\n",
       "      <td>-0.281540</td>\n",
       "      <td>-0.300969</td>\n",
       "      <td>-0.275586</td>\n",
       "      <td>-0.293402</td>\n",
       "      <td>-0.310465</td>\n",
       "      <td>-0.332663</td>\n",
       "      <td>0.109811</td>\n",
       "      <td>0.480167</td>\n",
       "      <td>0.065343</td>\n",
       "      <td>0.660264</td>\n",
       "      <td>0.594049</td>\n",
       "      <td>0.220669</td>\n",
       "      <td>-0.102032</td>\n",
       "      <td>-0.236190</td>\n",
       "    </tr>\n",
       "    <tr>\n",
       "      <th>year_built</th>\n",
       "      <td>0.033138</td>\n",
       "      <td>-0.011844</td>\n",
       "      <td>0.206141</td>\n",
       "      <td>0.254589</td>\n",
       "      <td>1.000000</td>\n",
       "      <td>0.000068</td>\n",
       "      <td>NaN</td>\n",
       "      <td>-0.106948</td>\n",
       "      <td>-0.222443</td>\n",
       "      <td>-0.080006</td>\n",
       "      <td>-0.102209</td>\n",
       "      <td>-0.121684</td>\n",
       "      <td>-0.195141</td>\n",
       "      <td>-0.163670</td>\n",
       "      <td>-0.134919</td>\n",
       "      <td>-0.237152</td>\n",
       "      <td>0.038208</td>\n",
       "      <td>-0.014204</td>\n",
       "      <td>-0.046504</td>\n",
       "      <td>-0.109521</td>\n",
       "      <td>0.155835</td>\n",
       "      <td>-0.188106</td>\n",
       "      <td>-0.043301</td>\n",
       "    </tr>\n",
       "    <tr>\n",
       "      <th>lot_size</th>\n",
       "      <td>0.130558</td>\n",
       "      <td>0.164399</td>\n",
       "      <td>0.132976</td>\n",
       "      <td>0.246016</td>\n",
       "      <td>0.000068</td>\n",
       "      <td>1.000000</td>\n",
       "      <td>NaN</td>\n",
       "      <td>-0.113887</td>\n",
       "      <td>-0.118574</td>\n",
       "      <td>-0.072224</td>\n",
       "      <td>-0.098182</td>\n",
       "      <td>-0.116560</td>\n",
       "      <td>-0.067189</td>\n",
       "      <td>-0.121075</td>\n",
       "      <td>-0.092668</td>\n",
       "      <td>0.099140</td>\n",
       "      <td>0.122028</td>\n",
       "      <td>-0.030725</td>\n",
       "      <td>0.165800</td>\n",
       "      <td>0.146579</td>\n",
       "      <td>0.096551</td>\n",
       "      <td>-0.031535</td>\n",
       "      <td>-0.048207</td>\n",
       "    </tr>\n",
       "    <tr>\n",
       "      <th>basement</th>\n",
       "      <td>NaN</td>\n",
       "      <td>NaN</td>\n",
       "      <td>NaN</td>\n",
       "      <td>NaN</td>\n",
       "      <td>NaN</td>\n",
       "      <td>NaN</td>\n",
       "      <td>NaN</td>\n",
       "      <td>NaN</td>\n",
       "      <td>NaN</td>\n",
       "      <td>NaN</td>\n",
       "      <td>NaN</td>\n",
       "      <td>NaN</td>\n",
       "      <td>NaN</td>\n",
       "      <td>NaN</td>\n",
       "      <td>NaN</td>\n",
       "      <td>NaN</td>\n",
       "      <td>NaN</td>\n",
       "      <td>NaN</td>\n",
       "      <td>NaN</td>\n",
       "      <td>NaN</td>\n",
       "      <td>NaN</td>\n",
       "      <td>NaN</td>\n",
       "      <td>NaN</td>\n",
       "    </tr>\n",
       "    <tr>\n",
       "      <th>restaurants</th>\n",
       "      <td>-0.038027</td>\n",
       "      <td>-0.495834</td>\n",
       "      <td>-0.350210</td>\n",
       "      <td>-0.353759</td>\n",
       "      <td>-0.106948</td>\n",
       "      <td>-0.113887</td>\n",
       "      <td>NaN</td>\n",
       "      <td>1.000000</td>\n",
       "      <td>0.701462</td>\n",
       "      <td>0.926675</td>\n",
       "      <td>0.937616</td>\n",
       "      <td>0.818815</td>\n",
       "      <td>0.726907</td>\n",
       "      <td>0.867829</td>\n",
       "      <td>0.881799</td>\n",
       "      <td>-0.063816</td>\n",
       "      <td>-0.615584</td>\n",
       "      <td>0.214260</td>\n",
       "      <td>-0.100821</td>\n",
       "      <td>-0.019925</td>\n",
       "      <td>-0.068425</td>\n",
       "      <td>0.251171</td>\n",
       "      <td>0.044739</td>\n",
       "    </tr>\n",
       "    <tr>\n",
       "      <th>groceries</th>\n",
       "      <td>-0.094314</td>\n",
       "      <td>-0.421412</td>\n",
       "      <td>-0.340024</td>\n",
       "      <td>-0.371167</td>\n",
       "      <td>-0.222443</td>\n",
       "      <td>-0.118574</td>\n",
       "      <td>NaN</td>\n",
       "      <td>0.701462</td>\n",
       "      <td>1.000000</td>\n",
       "      <td>0.565003</td>\n",
       "      <td>0.602857</td>\n",
       "      <td>0.526356</td>\n",
       "      <td>0.502837</td>\n",
       "      <td>0.626850</td>\n",
       "      <td>0.574532</td>\n",
       "      <td>-0.022377</td>\n",
       "      <td>-0.508793</td>\n",
       "      <td>-0.006025</td>\n",
       "      <td>-0.159506</td>\n",
       "      <td>-0.093974</td>\n",
       "      <td>-0.354553</td>\n",
       "      <td>0.272856</td>\n",
       "      <td>0.115674</td>\n",
       "    </tr>\n",
       "    <tr>\n",
       "      <th>nightlife</th>\n",
       "      <td>0.009361</td>\n",
       "      <td>-0.440844</td>\n",
       "      <td>-0.306686</td>\n",
       "      <td>-0.281540</td>\n",
       "      <td>-0.080006</td>\n",
       "      <td>-0.072224</td>\n",
       "      <td>NaN</td>\n",
       "      <td>0.926675</td>\n",
       "      <td>0.565003</td>\n",
       "      <td>1.000000</td>\n",
       "      <td>0.923901</td>\n",
       "      <td>0.743321</td>\n",
       "      <td>0.703038</td>\n",
       "      <td>0.777461</td>\n",
       "      <td>0.858836</td>\n",
       "      <td>-0.028611</td>\n",
       "      <td>-0.568811</td>\n",
       "      <td>0.253717</td>\n",
       "      <td>-0.054386</td>\n",
       "      <td>0.024551</td>\n",
       "      <td>-0.036948</td>\n",
       "      <td>0.196399</td>\n",
       "      <td>0.027495</td>\n",
       "    </tr>\n",
       "    <tr>\n",
       "      <th>cafes</th>\n",
       "      <td>-0.001398</td>\n",
       "      <td>-0.464289</td>\n",
       "      <td>-0.316836</td>\n",
       "      <td>-0.300969</td>\n",
       "      <td>-0.102209</td>\n",
       "      <td>-0.098182</td>\n",
       "      <td>NaN</td>\n",
       "      <td>0.937616</td>\n",
       "      <td>0.602857</td>\n",
       "      <td>0.923901</td>\n",
       "      <td>1.000000</td>\n",
       "      <td>0.837058</td>\n",
       "      <td>0.694575</td>\n",
       "      <td>0.822541</td>\n",
       "      <td>0.826648</td>\n",
       "      <td>0.026400</td>\n",
       "      <td>-0.581850</td>\n",
       "      <td>0.266652</td>\n",
       "      <td>-0.044410</td>\n",
       "      <td>0.036502</td>\n",
       "      <td>-0.027868</td>\n",
       "      <td>0.224312</td>\n",
       "      <td>0.013558</td>\n",
       "    </tr>\n",
       "    <tr>\n",
       "      <th>shopping</th>\n",
       "      <td>-0.038246</td>\n",
       "      <td>-0.388670</td>\n",
       "      <td>-0.259603</td>\n",
       "      <td>-0.275586</td>\n",
       "      <td>-0.121684</td>\n",
       "      <td>-0.116560</td>\n",
       "      <td>NaN</td>\n",
       "      <td>0.818815</td>\n",
       "      <td>0.526356</td>\n",
       "      <td>0.743321</td>\n",
       "      <td>0.837058</td>\n",
       "      <td>1.000000</td>\n",
       "      <td>0.653803</td>\n",
       "      <td>0.860987</td>\n",
       "      <td>0.678515</td>\n",
       "      <td>0.032339</td>\n",
       "      <td>-0.454072</td>\n",
       "      <td>0.177383</td>\n",
       "      <td>-0.040556</td>\n",
       "      <td>0.018846</td>\n",
       "      <td>-0.048058</td>\n",
       "      <td>0.228988</td>\n",
       "      <td>-0.000324</td>\n",
       "    </tr>\n",
       "    <tr>\n",
       "      <th>arts_entertainment</th>\n",
       "      <td>-0.021076</td>\n",
       "      <td>-0.442168</td>\n",
       "      <td>-0.305885</td>\n",
       "      <td>-0.293402</td>\n",
       "      <td>-0.195141</td>\n",
       "      <td>-0.067189</td>\n",
       "      <td>NaN</td>\n",
       "      <td>0.726907</td>\n",
       "      <td>0.502837</td>\n",
       "      <td>0.703038</td>\n",
       "      <td>0.694575</td>\n",
       "      <td>0.653803</td>\n",
       "      <td>1.000000</td>\n",
       "      <td>0.757860</td>\n",
       "      <td>0.800994</td>\n",
       "      <td>-0.014640</td>\n",
       "      <td>-0.554533</td>\n",
       "      <td>0.239129</td>\n",
       "      <td>-0.066346</td>\n",
       "      <td>0.015380</td>\n",
       "      <td>-0.138266</td>\n",
       "      <td>0.214163</td>\n",
       "      <td>0.034356</td>\n",
       "    </tr>\n",
       "    <tr>\n",
       "      <th>beauty_spas</th>\n",
       "      <td>-0.054349</td>\n",
       "      <td>-0.419832</td>\n",
       "      <td>-0.282008</td>\n",
       "      <td>-0.310465</td>\n",
       "      <td>-0.163670</td>\n",
       "      <td>-0.121075</td>\n",
       "      <td>NaN</td>\n",
       "      <td>0.867829</td>\n",
       "      <td>0.626850</td>\n",
       "      <td>0.777461</td>\n",
       "      <td>0.822541</td>\n",
       "      <td>0.860987</td>\n",
       "      <td>0.757860</td>\n",
       "      <td>1.000000</td>\n",
       "      <td>0.785920</td>\n",
       "      <td>-0.002961</td>\n",
       "      <td>-0.510331</td>\n",
       "      <td>0.177066</td>\n",
       "      <td>-0.057293</td>\n",
       "      <td>0.010980</td>\n",
       "      <td>-0.098727</td>\n",
       "      <td>0.262651</td>\n",
       "      <td>0.008066</td>\n",
       "    </tr>\n",
       "    <tr>\n",
       "      <th>active_life</th>\n",
       "      <td>-0.001165</td>\n",
       "      <td>-0.486957</td>\n",
       "      <td>-0.329736</td>\n",
       "      <td>-0.332663</td>\n",
       "      <td>-0.134919</td>\n",
       "      <td>-0.092668</td>\n",
       "      <td>NaN</td>\n",
       "      <td>0.881799</td>\n",
       "      <td>0.574532</td>\n",
       "      <td>0.858836</td>\n",
       "      <td>0.826648</td>\n",
       "      <td>0.678515</td>\n",
       "      <td>0.800994</td>\n",
       "      <td>0.785920</td>\n",
       "      <td>1.000000</td>\n",
       "      <td>-0.081159</td>\n",
       "      <td>-0.632052</td>\n",
       "      <td>0.323985</td>\n",
       "      <td>-0.057646</td>\n",
       "      <td>0.030911</td>\n",
       "      <td>0.007675</td>\n",
       "      <td>0.235246</td>\n",
       "      <td>0.028759</td>\n",
       "    </tr>\n",
       "    <tr>\n",
       "      <th>median_age</th>\n",
       "      <td>0.126335</td>\n",
       "      <td>0.133711</td>\n",
       "      <td>0.095844</td>\n",
       "      <td>0.109811</td>\n",
       "      <td>-0.237152</td>\n",
       "      <td>0.099140</td>\n",
       "      <td>NaN</td>\n",
       "      <td>-0.063816</td>\n",
       "      <td>-0.022377</td>\n",
       "      <td>-0.028611</td>\n",
       "      <td>0.026400</td>\n",
       "      <td>0.032339</td>\n",
       "      <td>-0.014640</td>\n",
       "      <td>-0.002961</td>\n",
       "      <td>-0.081159</td>\n",
       "      <td>1.000000</td>\n",
       "      <td>0.045555</td>\n",
       "      <td>0.169749</td>\n",
       "      <td>0.215435</td>\n",
       "      <td>0.232503</td>\n",
       "      <td>-0.002861</td>\n",
       "      <td>0.071455</td>\n",
       "      <td>-0.118490</td>\n",
       "    </tr>\n",
       "    <tr>\n",
       "      <th>married</th>\n",
       "      <td>0.200494</td>\n",
       "      <td>0.643240</td>\n",
       "      <td>0.442225</td>\n",
       "      <td>0.480167</td>\n",
       "      <td>0.038208</td>\n",
       "      <td>0.122028</td>\n",
       "      <td>NaN</td>\n",
       "      <td>-0.615584</td>\n",
       "      <td>-0.508793</td>\n",
       "      <td>-0.568811</td>\n",
       "      <td>-0.581850</td>\n",
       "      <td>-0.454072</td>\n",
       "      <td>-0.554533</td>\n",
       "      <td>-0.510331</td>\n",
       "      <td>-0.632052</td>\n",
       "      <td>0.045555</td>\n",
       "      <td>1.000000</td>\n",
       "      <td>-0.143461</td>\n",
       "      <td>0.305330</td>\n",
       "      <td>0.233701</td>\n",
       "      <td>0.169439</td>\n",
       "      <td>-0.212870</td>\n",
       "      <td>-0.134787</td>\n",
       "    </tr>\n",
       "    <tr>\n",
       "      <th>college_grad</th>\n",
       "      <td>0.268577</td>\n",
       "      <td>-0.082354</td>\n",
       "      <td>0.016097</td>\n",
       "      <td>0.065343</td>\n",
       "      <td>-0.014204</td>\n",
       "      <td>-0.030725</td>\n",
       "      <td>NaN</td>\n",
       "      <td>0.214260</td>\n",
       "      <td>-0.006025</td>\n",
       "      <td>0.253717</td>\n",
       "      <td>0.266652</td>\n",
       "      <td>0.177383</td>\n",
       "      <td>0.239129</td>\n",
       "      <td>0.177066</td>\n",
       "      <td>0.323985</td>\n",
       "      <td>0.169749</td>\n",
       "      <td>-0.143461</td>\n",
       "      <td>1.000000</td>\n",
       "      <td>0.287933</td>\n",
       "      <td>0.326057</td>\n",
       "      <td>0.400306</td>\n",
       "      <td>0.049756</td>\n",
       "      <td>-0.189932</td>\n",
       "    </tr>\n",
       "    <tr>\n",
       "      <th>property_tax</th>\n",
       "      <td>0.535148</td>\n",
       "      <td>0.547643</td>\n",
       "      <td>0.525776</td>\n",
       "      <td>0.660264</td>\n",
       "      <td>-0.046504</td>\n",
       "      <td>0.165800</td>\n",
       "      <td>NaN</td>\n",
       "      <td>-0.100821</td>\n",
       "      <td>-0.159506</td>\n",
       "      <td>-0.054386</td>\n",
       "      <td>-0.044410</td>\n",
       "      <td>-0.040556</td>\n",
       "      <td>-0.066346</td>\n",
       "      <td>-0.057293</td>\n",
       "      <td>-0.057646</td>\n",
       "      <td>0.215435</td>\n",
       "      <td>0.305330</td>\n",
       "      <td>0.287933</td>\n",
       "      <td>1.000000</td>\n",
       "      <td>0.984724</td>\n",
       "      <td>0.237455</td>\n",
       "      <td>0.037342</td>\n",
       "      <td>-0.257703</td>\n",
       "    </tr>\n",
       "    <tr>\n",
       "      <th>insurance</th>\n",
       "      <td>0.532947</td>\n",
       "      <td>0.485776</td>\n",
       "      <td>0.475430</td>\n",
       "      <td>0.594049</td>\n",
       "      <td>-0.109521</td>\n",
       "      <td>0.146579</td>\n",
       "      <td>NaN</td>\n",
       "      <td>-0.019925</td>\n",
       "      <td>-0.093974</td>\n",
       "      <td>0.024551</td>\n",
       "      <td>0.036502</td>\n",
       "      <td>0.018846</td>\n",
       "      <td>0.015380</td>\n",
       "      <td>0.010980</td>\n",
       "      <td>0.030911</td>\n",
       "      <td>0.232503</td>\n",
       "      <td>0.233701</td>\n",
       "      <td>0.326057</td>\n",
       "      <td>0.984724</td>\n",
       "      <td>1.000000</td>\n",
       "      <td>0.234889</td>\n",
       "      <td>0.056985</td>\n",
       "      <td>-0.254706</td>\n",
       "    </tr>\n",
       "    <tr>\n",
       "      <th>median_school</th>\n",
       "      <td>0.175762</td>\n",
       "      <td>0.137309</td>\n",
       "      <td>0.163365</td>\n",
       "      <td>0.220669</td>\n",
       "      <td>0.155835</td>\n",
       "      <td>0.096551</td>\n",
       "      <td>NaN</td>\n",
       "      <td>-0.068425</td>\n",
       "      <td>-0.354553</td>\n",
       "      <td>-0.036948</td>\n",
       "      <td>-0.027868</td>\n",
       "      <td>-0.048058</td>\n",
       "      <td>-0.138266</td>\n",
       "      <td>-0.098727</td>\n",
       "      <td>0.007675</td>\n",
       "      <td>-0.002861</td>\n",
       "      <td>0.169439</td>\n",
       "      <td>0.400306</td>\n",
       "      <td>0.237455</td>\n",
       "      <td>0.234889</td>\n",
       "      <td>1.000000</td>\n",
       "      <td>-0.145572</td>\n",
       "      <td>-0.167141</td>\n",
       "    </tr>\n",
       "    <tr>\n",
       "      <th>num_schools</th>\n",
       "      <td>-0.014380</td>\n",
       "      <td>-0.124359</td>\n",
       "      <td>-0.088299</td>\n",
       "      <td>-0.102032</td>\n",
       "      <td>-0.188106</td>\n",
       "      <td>-0.031535</td>\n",
       "      <td>NaN</td>\n",
       "      <td>0.251171</td>\n",
       "      <td>0.272856</td>\n",
       "      <td>0.196399</td>\n",
       "      <td>0.224312</td>\n",
       "      <td>0.228988</td>\n",
       "      <td>0.214163</td>\n",
       "      <td>0.262651</td>\n",
       "      <td>0.235246</td>\n",
       "      <td>0.071455</td>\n",
       "      <td>-0.212870</td>\n",
       "      <td>0.049756</td>\n",
       "      <td>0.037342</td>\n",
       "      <td>0.056985</td>\n",
       "      <td>-0.145572</td>\n",
       "      <td>1.000000</td>\n",
       "      <td>0.007361</td>\n",
       "    </tr>\n",
       "    <tr>\n",
       "      <th>tx_year</th>\n",
       "      <td>0.108782</td>\n",
       "      <td>-0.174081</td>\n",
       "      <td>-0.132110</td>\n",
       "      <td>-0.236190</td>\n",
       "      <td>-0.043301</td>\n",
       "      <td>-0.048207</td>\n",
       "      <td>NaN</td>\n",
       "      <td>0.044739</td>\n",
       "      <td>0.115674</td>\n",
       "      <td>0.027495</td>\n",
       "      <td>0.013558</td>\n",
       "      <td>-0.000324</td>\n",
       "      <td>0.034356</td>\n",
       "      <td>0.008066</td>\n",
       "      <td>0.028759</td>\n",
       "      <td>-0.118490</td>\n",
       "      <td>-0.134787</td>\n",
       "      <td>-0.189932</td>\n",
       "      <td>-0.257703</td>\n",
       "      <td>-0.254706</td>\n",
       "      <td>-0.167141</td>\n",
       "      <td>0.007361</td>\n",
       "      <td>1.000000</td>\n",
       "    </tr>\n",
       "  </tbody>\n",
       "</table>\n",
       "</div>"
      ],
      "text/plain": [
       "                    tx_price      beds     baths      sqft  year_built  \\\n",
       "tx_price            1.000000  0.384046  0.389375  0.469573    0.033138   \n",
       "beds                0.384046  1.000000  0.644572  0.691039   -0.011844   \n",
       "baths               0.389375  0.644572  1.000000  0.682060    0.206141   \n",
       "sqft                0.469573  0.691039  0.682060  1.000000    0.254589   \n",
       "year_built          0.033138 -0.011844  0.206141  0.254589    1.000000   \n",
       "lot_size            0.130558  0.164399  0.132976  0.246016    0.000068   \n",
       "basement                 NaN       NaN       NaN       NaN         NaN   \n",
       "restaurants        -0.038027 -0.495834 -0.350210 -0.353759   -0.106948   \n",
       "groceries          -0.094314 -0.421412 -0.340024 -0.371167   -0.222443   \n",
       "nightlife           0.009361 -0.440844 -0.306686 -0.281540   -0.080006   \n",
       "cafes              -0.001398 -0.464289 -0.316836 -0.300969   -0.102209   \n",
       "shopping           -0.038246 -0.388670 -0.259603 -0.275586   -0.121684   \n",
       "arts_entertainment -0.021076 -0.442168 -0.305885 -0.293402   -0.195141   \n",
       "beauty_spas        -0.054349 -0.419832 -0.282008 -0.310465   -0.163670   \n",
       "active_life        -0.001165 -0.486957 -0.329736 -0.332663   -0.134919   \n",
       "median_age          0.126335  0.133711  0.095844  0.109811   -0.237152   \n",
       "married             0.200494  0.643240  0.442225  0.480167    0.038208   \n",
       "college_grad        0.268577 -0.082354  0.016097  0.065343   -0.014204   \n",
       "property_tax        0.535148  0.547643  0.525776  0.660264   -0.046504   \n",
       "insurance           0.532947  0.485776  0.475430  0.594049   -0.109521   \n",
       "median_school       0.175762  0.137309  0.163365  0.220669    0.155835   \n",
       "num_schools        -0.014380 -0.124359 -0.088299 -0.102032   -0.188106   \n",
       "tx_year             0.108782 -0.174081 -0.132110 -0.236190   -0.043301   \n",
       "\n",
       "                    lot_size  basement  restaurants  groceries  nightlife  \\\n",
       "tx_price            0.130558       NaN    -0.038027  -0.094314   0.009361   \n",
       "beds                0.164399       NaN    -0.495834  -0.421412  -0.440844   \n",
       "baths               0.132976       NaN    -0.350210  -0.340024  -0.306686   \n",
       "sqft                0.246016       NaN    -0.353759  -0.371167  -0.281540   \n",
       "year_built          0.000068       NaN    -0.106948  -0.222443  -0.080006   \n",
       "lot_size            1.000000       NaN    -0.113887  -0.118574  -0.072224   \n",
       "basement                 NaN       NaN          NaN        NaN        NaN   \n",
       "restaurants        -0.113887       NaN     1.000000   0.701462   0.926675   \n",
       "groceries          -0.118574       NaN     0.701462   1.000000   0.565003   \n",
       "nightlife          -0.072224       NaN     0.926675   0.565003   1.000000   \n",
       "cafes              -0.098182       NaN     0.937616   0.602857   0.923901   \n",
       "shopping           -0.116560       NaN     0.818815   0.526356   0.743321   \n",
       "arts_entertainment -0.067189       NaN     0.726907   0.502837   0.703038   \n",
       "beauty_spas        -0.121075       NaN     0.867829   0.626850   0.777461   \n",
       "active_life        -0.092668       NaN     0.881799   0.574532   0.858836   \n",
       "median_age          0.099140       NaN    -0.063816  -0.022377  -0.028611   \n",
       "married             0.122028       NaN    -0.615584  -0.508793  -0.568811   \n",
       "college_grad       -0.030725       NaN     0.214260  -0.006025   0.253717   \n",
       "property_tax        0.165800       NaN    -0.100821  -0.159506  -0.054386   \n",
       "insurance           0.146579       NaN    -0.019925  -0.093974   0.024551   \n",
       "median_school       0.096551       NaN    -0.068425  -0.354553  -0.036948   \n",
       "num_schools        -0.031535       NaN     0.251171   0.272856   0.196399   \n",
       "tx_year            -0.048207       NaN     0.044739   0.115674   0.027495   \n",
       "\n",
       "                       cafes  shopping  arts_entertainment  beauty_spas  \\\n",
       "tx_price           -0.001398 -0.038246           -0.021076    -0.054349   \n",
       "beds               -0.464289 -0.388670           -0.442168    -0.419832   \n",
       "baths              -0.316836 -0.259603           -0.305885    -0.282008   \n",
       "sqft               -0.300969 -0.275586           -0.293402    -0.310465   \n",
       "year_built         -0.102209 -0.121684           -0.195141    -0.163670   \n",
       "lot_size           -0.098182 -0.116560           -0.067189    -0.121075   \n",
       "basement                 NaN       NaN                 NaN          NaN   \n",
       "restaurants         0.937616  0.818815            0.726907     0.867829   \n",
       "groceries           0.602857  0.526356            0.502837     0.626850   \n",
       "nightlife           0.923901  0.743321            0.703038     0.777461   \n",
       "cafes               1.000000  0.837058            0.694575     0.822541   \n",
       "shopping            0.837058  1.000000            0.653803     0.860987   \n",
       "arts_entertainment  0.694575  0.653803            1.000000     0.757860   \n",
       "beauty_spas         0.822541  0.860987            0.757860     1.000000   \n",
       "active_life         0.826648  0.678515            0.800994     0.785920   \n",
       "median_age          0.026400  0.032339           -0.014640    -0.002961   \n",
       "married            -0.581850 -0.454072           -0.554533    -0.510331   \n",
       "college_grad        0.266652  0.177383            0.239129     0.177066   \n",
       "property_tax       -0.044410 -0.040556           -0.066346    -0.057293   \n",
       "insurance           0.036502  0.018846            0.015380     0.010980   \n",
       "median_school      -0.027868 -0.048058           -0.138266    -0.098727   \n",
       "num_schools         0.224312  0.228988            0.214163     0.262651   \n",
       "tx_year             0.013558 -0.000324            0.034356     0.008066   \n",
       "\n",
       "                    active_life  median_age   married  college_grad  \\\n",
       "tx_price              -0.001165    0.126335  0.200494      0.268577   \n",
       "beds                  -0.486957    0.133711  0.643240     -0.082354   \n",
       "baths                 -0.329736    0.095844  0.442225      0.016097   \n",
       "sqft                  -0.332663    0.109811  0.480167      0.065343   \n",
       "year_built            -0.134919   -0.237152  0.038208     -0.014204   \n",
       "lot_size              -0.092668    0.099140  0.122028     -0.030725   \n",
       "basement                    NaN         NaN       NaN           NaN   \n",
       "restaurants            0.881799   -0.063816 -0.615584      0.214260   \n",
       "groceries              0.574532   -0.022377 -0.508793     -0.006025   \n",
       "nightlife              0.858836   -0.028611 -0.568811      0.253717   \n",
       "cafes                  0.826648    0.026400 -0.581850      0.266652   \n",
       "shopping               0.678515    0.032339 -0.454072      0.177383   \n",
       "arts_entertainment     0.800994   -0.014640 -0.554533      0.239129   \n",
       "beauty_spas            0.785920   -0.002961 -0.510331      0.177066   \n",
       "active_life            1.000000   -0.081159 -0.632052      0.323985   \n",
       "median_age            -0.081159    1.000000  0.045555      0.169749   \n",
       "married               -0.632052    0.045555  1.000000     -0.143461   \n",
       "college_grad           0.323985    0.169749 -0.143461      1.000000   \n",
       "property_tax          -0.057646    0.215435  0.305330      0.287933   \n",
       "insurance              0.030911    0.232503  0.233701      0.326057   \n",
       "median_school          0.007675   -0.002861  0.169439      0.400306   \n",
       "num_schools            0.235246    0.071455 -0.212870      0.049756   \n",
       "tx_year                0.028759   -0.118490 -0.134787     -0.189932   \n",
       "\n",
       "                    property_tax  insurance  median_school  num_schools  \\\n",
       "tx_price                0.535148   0.532947       0.175762    -0.014380   \n",
       "beds                    0.547643   0.485776       0.137309    -0.124359   \n",
       "baths                   0.525776   0.475430       0.163365    -0.088299   \n",
       "sqft                    0.660264   0.594049       0.220669    -0.102032   \n",
       "year_built             -0.046504  -0.109521       0.155835    -0.188106   \n",
       "lot_size                0.165800   0.146579       0.096551    -0.031535   \n",
       "basement                     NaN        NaN            NaN          NaN   \n",
       "restaurants            -0.100821  -0.019925      -0.068425     0.251171   \n",
       "groceries              -0.159506  -0.093974      -0.354553     0.272856   \n",
       "nightlife              -0.054386   0.024551      -0.036948     0.196399   \n",
       "cafes                  -0.044410   0.036502      -0.027868     0.224312   \n",
       "shopping               -0.040556   0.018846      -0.048058     0.228988   \n",
       "arts_entertainment     -0.066346   0.015380      -0.138266     0.214163   \n",
       "beauty_spas            -0.057293   0.010980      -0.098727     0.262651   \n",
       "active_life            -0.057646   0.030911       0.007675     0.235246   \n",
       "median_age              0.215435   0.232503      -0.002861     0.071455   \n",
       "married                 0.305330   0.233701       0.169439    -0.212870   \n",
       "college_grad            0.287933   0.326057       0.400306     0.049756   \n",
       "property_tax            1.000000   0.984724       0.237455     0.037342   \n",
       "insurance               0.984724   1.000000       0.234889     0.056985   \n",
       "median_school           0.237455   0.234889       1.000000    -0.145572   \n",
       "num_schools             0.037342   0.056985      -0.145572     1.000000   \n",
       "tx_year                -0.257703  -0.254706      -0.167141     0.007361   \n",
       "\n",
       "                     tx_year  \n",
       "tx_price            0.108782  \n",
       "beds               -0.174081  \n",
       "baths              -0.132110  \n",
       "sqft               -0.236190  \n",
       "year_built         -0.043301  \n",
       "lot_size           -0.048207  \n",
       "basement                 NaN  \n",
       "restaurants         0.044739  \n",
       "groceries           0.115674  \n",
       "nightlife           0.027495  \n",
       "cafes               0.013558  \n",
       "shopping           -0.000324  \n",
       "arts_entertainment  0.034356  \n",
       "beauty_spas         0.008066  \n",
       "active_life         0.028759  \n",
       "median_age         -0.118490  \n",
       "married            -0.134787  \n",
       "college_grad       -0.189932  \n",
       "property_tax       -0.257703  \n",
       "insurance          -0.254706  \n",
       "median_school      -0.167141  \n",
       "num_schools         0.007361  \n",
       "tx_year             1.000000  "
      ]
     },
     "execution_count": 19,
     "metadata": {},
     "output_type": "execute_result"
    }
   ],
   "source": [
    "df.corr()"
   ]
  },
  {
   "cell_type": "markdown",
   "metadata": {},
   "source": [
    "#### A lot of numbers make things difficult to read. So let's visualize this.\n",
    "But first, it's important to notice that the correlations for 'basement' all show as NaN. This is expected because right now that feature doesn't vary at all (its standard deviation is 0), as we saw all the way back in step 2. We'll fix this later."
   ]
  },
  {
   "cell_type": "code",
   "execution_count": 20,
   "metadata": {},
   "outputs": [
    {
     "data": {
      "text/plain": [
       "<matplotlib.axes._subplots.AxesSubplot at 0xad15170>"
      ]
     },
     "execution_count": 20,
     "metadata": {},
     "output_type": "execute_result"
    },
    {
     "data": {
      "image/png": "[encoded data removed]",
      "text/plain": [
       "<matplotlib.figure.Figure at 0xadd1b30>"
      ]
     },
     "metadata": {},
     "output_type": "display_data"
    }
   ],
   "source": [
    "plt.figure(figsize=(10,8))\n",
    "sns.heatmap(df.corr())"
   ]
  },
  {
   "cell_type": "markdown",
   "metadata": {},
   "source": [
    "**What to look for?**\n",
    "* The colorbar on the right explains the meaning of the heatmap - Dark colors indicate **strong negative correlations** and light colors indicate **strong positive correlations**.\n",
    "* Perhaps the most helpful way to interpret this correlation heatmap is to first find features that are correlated with our target variable by scanning the first column.\n",
    "* In this case, it doesn't look like many features are strongly correlated with the target variable.\n",
    "* There is a weak positive correlation between 'tx_price' and 'property_tax'."
   ]
  },
  {
   "cell_type": "markdown",
   "metadata": {},
   "source": [
    "**Just making the heatmap visualization more fancy**"
   ]
  },
  {
   "cell_type": "code",
   "execution_count": 21,
   "metadata": {},
   "outputs": [
    {
     "data": {
      "image/png": "[encoded data removed]",
      "text/plain": [
       "<matplotlib.figure.Figure at 0xae0e2f0>"
      ]
     },
     "metadata": {},
     "output_type": "display_data"
    }
   ],
   "source": [
    "mask=np.zeros_like(df.corr())\n",
    "mask[np.triu_indices_from(mask)] = True\n",
    "plt.figure(figsize=(15,10))\n",
    "with sns.axes_style(\"white\"):\n",
    "    ax = sns.heatmap(df.corr()*100, mask=mask, fmt='.0f', annot=True, lw=1, cmap=ListedColormap(['green', 'yellow', 'red','blue']))\n"
   ]
  },
  {
   "cell_type": "markdown",
   "metadata": {},
   "source": [
    "# 4. Data Cleaning"
   ]
  },
  {
   "cell_type": "markdown",
   "metadata": {},
   "source": [
    "## 4.1 Dropping the duplicates (De-duplication)\n",
    "Duplicate observations most frequently arise during data collection, such as when you:\n",
    "* Combine datasets from multiple places\n",
    "* Scrape data\n",
    "* Receive data from clients/other departments"
   ]
  },
  {
   "cell_type": "code",
   "execution_count": 19,
   "metadata": {},
   "outputs": [
    {
     "name": "stdout",
     "output_type": "stream",
     "text": [
      "(1883, 26)\n"
     ]
    }
   ],
   "source": [
    "df=df.drop_duplicates()\n",
    "print(df.shape)"
   ]
  },
  {
   "cell_type": "markdown",
   "metadata": {},
   "source": [
    "It looks like we didn't have any duplicates in our original dataset. Even so, it's a good idea to check this as an easy first step for cleaning your dataset."
   ]
  },
  {
   "cell_type": "markdown",
   "metadata": {},
   "source": [
    "## 4.2 Fix structural errors\n",
    "* Recall, the basement features had some nan values"
   ]
  },
  {
   "cell_type": "code",
   "execution_count": 20,
   "metadata": {},
   "outputs": [
    {
     "data": {
      "text/plain": [
       "array([ nan,   1.])"
      ]
     },
     "execution_count": 20,
     "metadata": {},
     "output_type": "execute_result"
    }
   ],
   "source": [
    "df.basement.unique()"
   ]
  },
  {
   "cell_type": "markdown",
   "metadata": {},
   "source": [
    "* Even though NaN represents \"missing\" values, those are actually meant to indicate properties without basements.\n",
    "* Fill missing 'basement' values with the value 0 to turn 'basement' into a true indicator variable.\n",
    "\n",
    "**Note** - Nan in basement doesn't means that value is missing, their Nan represent that praticular property donot having basement."
   ]
  },
  {
   "cell_type": "code",
   "execution_count": 21,
   "metadata": {
    "collapsed": true
   },
   "outputs": [],
   "source": [
    "df.basement.fillna(0, inplace=True)"
   ]
  },
  {
   "cell_type": "code",
   "execution_count": 22,
   "metadata": {},
   "outputs": [
    {
     "data": {
      "text/plain": [
       "array([ 0.,  1.])"
      ]
     },
     "execution_count": 22,
     "metadata": {},
     "output_type": "execute_result"
    }
   ],
   "source": [
    "df.basement.unique()"
   ]
  },
  {
   "cell_type": "markdown",
   "metadata": {},
   "source": [
    "## 4.3 Typos and capitalization"
   ]
  },
  {
   "cell_type": "code",
   "execution_count": 23,
   "metadata": {},
   "outputs": [
    {
     "data": {
      "text/plain": [
       "<matplotlib.axes._subplots.AxesSubplot at 0xd6bdc88>"
      ]
     },
     "execution_count": 23,
     "metadata": {},
     "output_type": "execute_result"
    },
    {
     "data": {
      "image/png": "[encoded data removed]",
      "text/plain": [
       "<matplotlib.figure.Figure at 0xc416a90>"
      ]
     },
     "metadata": {},
     "output_type": "display_data"
    }
   ],
   "source": [
    "# Class distributions for 'roof'\n",
    "sns.countplot(y='roof', data=df)"
   ]
  },
  {
   "cell_type": "markdown",
   "metadata": {},
   "source": [
    "Using this plot, we can easily catch typos and inconsistent capitalization. For example:\n",
    "* 'composition' should be 'Composition'\n",
    "* 'asphalt' should be 'Asphalt'\n",
    "* 'shake-shingle' should be 'Shake Shingle'\n",
    "* 'asphalt,shake-shingle' could probably just be 'Shake Shingle'"
   ]
  },
  {
   "cell_type": "code",
   "execution_count": 24,
   "metadata": {
    "collapsed": true
   },
   "outputs": [],
   "source": [
    "df.roof.replace('composition', 'Composition', inplace=True)\n",
    "df.roof.replace('asphalt', 'Asphalt', inplace=True)\n",
    "df.roof.replace(['shake-shingle', 'asphalt,shake-shingle'], 'Shake Shingle', inplace=True)"
   ]
  },
  {
   "cell_type": "code",
   "execution_count": 25,
   "metadata": {},
   "outputs": [
    {
     "data": {
      "text/plain": [
       "<matplotlib.axes._subplots.AxesSubplot at 0xc41fb00>"
      ]
     },
     "execution_count": 25,
     "metadata": {},
     "output_type": "execute_result"
    },
    {
     "data": {
      "image/png": "[encoded data removed]",
      "text/plain": [
       "<matplotlib.figure.Figure at 0xcd11fd0>"
      ]
     },
     "metadata": {},
     "output_type": "display_data"
    }
   ],
   "source": [
    "# Class distribution for 'roof' after the modifications\n",
    "sns.countplot(y='roof', data=df)"
   ]
  },
  {
   "cell_type": "markdown",
   "metadata": {},
   "source": [
    "## 4.4 Mislabeled classes\n",
    "Finally, we'll check for classes that are labeled as separate classes when they should really be the same.\n",
    "* e.g. If 'N/A' and 'Not Applicable' appear as two separate classes, we should combine them.\n",
    "* For example, let's plot the class distributions for 'exterior_walls':"
   ]
  },
  {
   "cell_type": "code",
   "execution_count": 26,
   "metadata": {},
   "outputs": [
    {
     "data": {
      "text/plain": [
       "<matplotlib.axes._subplots.AxesSubplot at 0xd5637b8>"
      ]
     },
     "execution_count": 26,
     "metadata": {},
     "output_type": "execute_result"
    },
    {
     "data": {
      "image/png": "[encoded data removed]",
      "text/plain": [
       "<matplotlib.figure.Figure at 0xceeaf98>"
      ]
     },
     "metadata": {},
     "output_type": "display_data"
    }
   ],
   "source": [
    "sns.countplot(y='exterior_walls', data=df)"
   ]
  },
  {
   "cell_type": "markdown",
   "metadata": {},
   "source": [
    "Using that chart, we can easily catch mislabeled classes. For example\n",
    "* 'Rock, Stone' should be 'Masonry'\n",
    "* 'Concrete' and 'Block' should both just be 'Concrete Block'"
   ]
  },
  {
   "cell_type": "code",
   "execution_count": 27,
   "metadata": {},
   "outputs": [
    {
     "data": {
      "text/plain": [
       "<matplotlib.axes._subplots.AxesSubplot at 0xcee7160>"
      ]
     },
     "execution_count": 27,
     "metadata": {},
     "output_type": "execute_result"
    },
    {
     "data": {
      "image/png": "[encoded data removed]",
      "text/plain": [
       "<matplotlib.figure.Figure at 0xccf72b0>"
      ]
     },
     "metadata": {},
     "output_type": "display_data"
    }
   ],
   "source": [
    "df.exterior_walls.replace(['Rock, Stone'], 'Masonry', inplace=True)\n",
    "df.exterior_walls.replace(['Concrete', 'Block'], 'Concrete Block', inplace=True)\n",
    "sns.countplot(y='exterior_walls', data=df)"
   ]
  },
  {
   "cell_type": "markdown",
   "metadata": {},
   "source": [
    "## 4.5 Removing Outliers\n",
    "* Outliers can cause problems with certain types of models.\n",
    "* Boxplots are a nice way to detect outliers\n",
    "* Let's start with a box plot of your target variable, since that's what you're actually trying to predict."
   ]
  },
  {
   "cell_type": "code",
   "execution_count": 28,
   "metadata": {},
   "outputs": [
    {
     "data": {
      "text/plain": [
       "<matplotlib.axes._subplots.AxesSubplot at 0xcf1ea20>"
      ]
     },
     "execution_count": 28,
     "metadata": {},
     "output_type": "execute_result"
    },
    {
     "data": {
      "image/png": "[encoded data removed]",
      "text/plain": [
       "<matplotlib.figure.Figure at 0xce12240>"
      ]
     },
     "metadata": {},
     "output_type": "display_data"
    }
   ],
   "source": [
    "sns.boxplot(df.tx_price)"
   ]
  },
  {
   "cell_type": "markdown",
   "metadata": {},
   "source": [
    "**Interpretation**\n",
    "\n",
    "* The two vertical bars on the ends are the min and max values. All properties sold for between \\$200,000 and \\$800,000.\n",
    "* The box in the middle is the interquartile range (25th percentile to 75th percentile).\n",
    "* Half of all observations fall in that box.\n",
    "* Finally, the vertical bar in the middle of the box is the median."
   ]
  },
  {
   "cell_type": "code",
   "execution_count": 29,
   "metadata": {},
   "outputs": [
    {
     "data": {
      "text/plain": [
       "<matplotlib.axes._subplots.AxesSubplot at 0xce125f8>"
      ]
     },
     "execution_count": 29,
     "metadata": {},
     "output_type": "execute_result"
    },
    {
     "data": {
      "image/png": "[encoded data removed]",
      "text/plain": [
       "<matplotlib.figure.Figure at 0xce7fcf8>"
      ]
     },
     "metadata": {},
     "output_type": "display_data"
    }
   ],
   "source": [
    "## Checking outliers in number of bedrooms\n",
    "sns.boxplot(df.beds)"
   ]
  },
  {
   "cell_type": "code",
   "execution_count": 30,
   "metadata": {},
   "outputs": [
    {
     "data": {
      "text/plain": [
       "<matplotlib.axes._subplots.AxesSubplot at 0xcdc5518>"
      ]
     },
     "execution_count": 30,
     "metadata": {},
     "output_type": "execute_result"
    },
    {
     "data": {
      "image/png": "[encoded data removed]",
      "text/plain": [
       "<matplotlib.figure.Figure at 0xcc20c18>"
      ]
     },
     "metadata": {},
     "output_type": "display_data"
    }
   ],
   "source": [
    "## Checking outliers in size of the house\n",
    "sns.boxplot(df.sqft)"
   ]
  },
  {
   "cell_type": "code",
   "execution_count": 31,
   "metadata": {},
   "outputs": [
    {
     "data": {
      "text/plain": [
       "<matplotlib.axes._subplots.AxesSubplot at 0xcc5b3c8>"
      ]
     },
     "execution_count": 31,
     "metadata": {},
     "output_type": "execute_result"
    },
    {
     "data": {
      "image/png": "[encoded data removed]",
      "text/plain": [
       "<matplotlib.figure.Figure at 0xcc19080>"
      ]
     },
     "metadata": {},
     "output_type": "display_data"
    }
   ],
   "source": [
    "## Checking outliers in lot size\n",
    "sns.boxplot(df.lot_size)"
   ]
  },
  {
   "cell_type": "markdown",
   "metadata": {},
   "source": [
    "Look at the dot on the extreme right. This might indicate some erroneous point.\n",
    "\n",
    "Let's look at the largest 5 lot sizes just to confirm."
   ]
  },
  {
   "cell_type": "code",
   "execution_count": 32,
   "metadata": {},
   "outputs": [
    {
     "data": {
      "text/plain": [
       "102     1220551\n",
       "1111     436471\n",
       "1876     436035\n",
       "1832     436035\n",
       "1115     435600\n",
       "Name: lot_size, dtype: int64"
      ]
     },
     "execution_count": 32,
     "metadata": {},
     "output_type": "execute_result"
    }
   ],
   "source": [
    "df.lot_size.sort_values(ascending=False).head()"
   ]
  },
  {
   "cell_type": "markdown",
   "metadata": {},
   "source": [
    "The largest property has a lot_size of 1,220,551 sqft. The next largest has a lot_size of only 436,471 sqft.\n",
    "\n",
    "Because it's unlikely the REIT will ever invest in properties with lots that large, and because it's the only one in the dataset, let's remove it so it doesn't interfere with our ability to model normal size properties."
   ]
  },
  {
   "cell_type": "code",
   "execution_count": 33,
   "metadata": {},
   "outputs": [
    {
     "data": {
      "text/plain": [
       "(1882, 26)"
      ]
     },
     "execution_count": 33,
     "metadata": {},
     "output_type": "execute_result"
    }
   ],
   "source": [
    "## Remove observations with lot_size greater than 500,000 sqft.\n",
    "df = df[df.lot_size <= 500000]\n",
    "df.shape"
   ]
  },
  {
   "cell_type": "code",
   "execution_count": 34,
   "metadata": {},
   "outputs": [
    {
     "data": {
      "text/plain": [
       "<matplotlib.axes._subplots.AxesSubplot at 0xcbd2e48>"
      ]
     },
     "execution_count": 34,
     "metadata": {},
     "output_type": "execute_result"
    },
    {
     "data": {
      "image/png": "[encoded data removed]",
      "text/plain": [
       "<matplotlib.figure.Figure at 0xd5ecda0>"
      ]
     },
     "metadata": {},
     "output_type": "display_data"
    }
   ],
   "source": [
    "## Plotting the boxplot of lot size after the change\n",
    "sns.boxplot(df.lot_size)"
   ]
  },
  {
   "cell_type": "markdown",
   "metadata": {},
   "source": [
    "**Note:** Even though visually the plot looks the same but the x-axis dimensions have changed"
   ]
  },
  {
   "cell_type": "markdown",
   "metadata": {},
   "source": [
    "## 4.6 Label missing categorical data\n",
    "You cannot simply ignore missing values in your dataset. You must handle them in some way for the very practical reason that Scikit-Learn algorithms do not accept missing values."
   ]
  },
  {
   "cell_type": "code",
   "execution_count": 35,
   "metadata": {},
   "outputs": [
    {
     "data": {
      "text/plain": [
       "property_type       0\n",
       "exterior_walls    223\n",
       "roof              353\n",
       "dtype: int64"
      ]
     },
     "execution_count": 35,
     "metadata": {},
     "output_type": "execute_result"
    }
   ],
   "source": [
    "# Display number of missing values by categorical feature\n",
    "df.select_dtypes(include=['object']).isnull().sum()"
   ]
  },
  {
   "cell_type": "markdown",
   "metadata": {},
   "source": [
    "#### The best way to handle missing data for categorical features is to simply label them as 'Missing'!"
   ]
  },
  {
   "cell_type": "code",
   "execution_count": 36,
   "metadata": {},
   "outputs": [
    {
     "data": {
      "text/plain": [
       "property_type     0\n",
       "exterior_walls    0\n",
       "roof              0\n",
       "dtype: int64"
      ]
     },
     "execution_count": 36,
     "metadata": {},
     "output_type": "execute_result"
    }
   ],
   "source": [
    "df['exterior_walls'] = df['exterior_walls'].fillna('Missing')\n",
    "df['roof'] = df['roof'].fillna('Missing')\n",
    "df.select_dtypes(include=['object']).isnull().sum()"
   ]
  },
  {
   "cell_type": "markdown",
   "metadata": {},
   "source": [
    "## 4.7 Flag and fill missing numeric data"
   ]
  },
  {
   "cell_type": "code",
   "execution_count": 37,
   "metadata": {},
   "outputs": [
    {
     "data": {
      "text/plain": [
       "tx_price              0\n",
       "beds                  0\n",
       "baths                 0\n",
       "sqft                  0\n",
       "year_built            0\n",
       "lot_size              0\n",
       "basement              0\n",
       "restaurants           0\n",
       "groceries             0\n",
       "nightlife             0\n",
       "cafes                 0\n",
       "shopping              0\n",
       "arts_entertainment    0\n",
       "beauty_spas           0\n",
       "active_life           0\n",
       "median_age            0\n",
       "married               0\n",
       "college_grad          0\n",
       "property_tax          0\n",
       "insurance             0\n",
       "median_school         0\n",
       "num_schools           0\n",
       "tx_year               0\n",
       "dtype: int64"
      ]
     },
     "execution_count": 37,
     "metadata": {},
     "output_type": "execute_result"
    }
   ],
   "source": [
    "# Display number of missing values by numeric feature\n",
    "df.select_dtypes(exclude=['object']).isnull().sum()"
   ]
  },
  {
   "cell_type": "markdown",
   "metadata": {},
   "source": [
    "Well, it looks like we don't have any numerical features with missing values in this dataset."
   ]
  },
  {
   "cell_type": "markdown",
   "metadata": {},
   "source": [
    "### Before we move on to the next module, let's save the new dataframe we worked hard to clean.\n",
    "This makes sure we don't have to re-do all the cleaning after clossing the session"
   ]
  },
  {
   "cell_type": "code",
   "execution_count": 38,
   "metadata": {
    "collapsed": true
   },
   "outputs": [],
   "source": [
    "# Save cleaned dataframe to new file\n",
    "df.to_csv('Files/cleaned_df.csv', index=None)"
   ]
  },
  {
   "cell_type": "markdown",
   "metadata": {},
   "source": [
    "\n",
    "\n",
    "\n",
    "\n",
    "\n",
    "\n",
    "\n",
    "\n",
    "\n",
    "# 5. Feature Engineering\n",
    "* Feature engineering is the practice of creating new features from existing ones\n",
    "* The engineered features are often more specific or isolate key information.\n",
    "* Often, feature engineering is one of the most valuable tasks a data scientist can do to improve model effectiveness.\n",
    "\n",
    "**Note:** There are limitless possibilities for Feature Engineering, and it's a skill that will naturally improve as you gain more experience and domain expertise."
   ]
  },
  {
   "cell_type": "markdown",
   "metadata": {},
   "source": [
    "## 5.1 Indicator variables"
   ]
  },
  {
   "cell_type": "markdown",
   "metadata": {},
   "source": [
    "* For example, let's say you knew that homes with 2 bedrooms and 2 bathrooms are especially popular for investors.\n",
    "* Maybe you suspect these types of properties command premium prices. (You don't need to know for sure.)\n",
    "* Create an indicator variable to flag properties with 2 beds and 2 baths and name it 'two_and_two'."
   ]
  },
  {
   "cell_type": "code",
   "execution_count": 39,
   "metadata": {
    "collapsed": true
   },
   "outputs": [],
   "source": [
    "df['two_and_two'] = ((df.beds == 2) & (df.baths == 2)).astype(int)"
   ]
  },
  {
   "cell_type": "code",
   "execution_count": 40,
   "metadata": {},
   "outputs": [
    {
     "data": {
      "text/plain": [
       "0.09458023379383634"
      ]
     },
     "execution_count": 40,
     "metadata": {},
     "output_type": "execute_result"
    }
   ],
   "source": [
    "# Display percent of rows where two_and_two == 1\n",
    "df[df['two_and_two']==1].shape[0]/df.shape[0]"
   ]
  },
  {
   "cell_type": "markdown",
   "metadata": {},
   "source": [
    "The interpretation is that almost 9.5% of the observations in our dataset were for properties with 2 beds and 2 baths."
   ]
  },
  {
   "cell_type": "markdown",
   "metadata": {},
   "source": [
    "* There are some people which are inserted in 3 or 4 bed rooms Apartment, so lets try to figure it out "
   ]
  },
  {
   "cell_type": "code",
   "execution_count": 41,
   "metadata": {
    "collapsed": true
   },
   "outputs": [],
   "source": [
    "df['3-4 bed'] = (df.beds >2).astype(int)"
   ]
  },
  {
   "cell_type": "code",
   "execution_count": 42,
   "metadata": {},
   "outputs": [
    {
     "data": {
      "text/plain": [
       "0.8113708820403825"
      ]
     },
     "execution_count": 42,
     "metadata": {},
     "output_type": "execute_result"
    }
   ],
   "source": [
    "# Display percent of rows where 3-4 bed == 1\n",
    "df[df['3-4 bed']==1].shape[0]/df.shape[0]"
   ]
  },
  {
   "cell_type": "markdown",
   "metadata": {},
   "source": [
    "The interpretation is that almost 81.1% of the observations in our dataset were for properties with 3 &4 beds."
   ]
  },
  {
   "cell_type": "markdown",
   "metadata": {},
   "source": [
    "* There are many people who are inserted in new_property as compared to older property, so let us try to figure out the older property as one of the feature."
   ]
  },
  {
   "cell_type": "code",
   "execution_count": 43,
   "metadata": {
    "collapsed": true
   },
   "outputs": [],
   "source": [
    "df['older_property'] = (df.year_built < 1970).astype(int)"
   ]
  },
  {
   "cell_type": "code",
   "execution_count": 44,
   "metadata": {},
   "outputs": [
    {
     "data": {
      "text/plain": [
       "0.24920297555791712"
      ]
     },
     "execution_count": 44,
     "metadata": {},
     "output_type": "execute_result"
    }
   ],
   "source": [
    "# Display percent of rows where older_property == 1\n",
    "df[df['older_property']==1].shape[0]/df.shape[0]"
   ]
  },
  {
   "cell_type": "markdown",
   "metadata": {},
   "source": [
    "The interpretation is that almost 24.9% of the observations in our dataset were for properties which are older."
   ]
  },
  {
   "cell_type": "markdown",
   "metadata": {},
   "source": [
    "* \n",
    "Create a new feature containing tax and insurance which a propery holder will have to pay monthly"
   ]
  },
  {
   "cell_type": "code",
   "execution_count": 45,
   "metadata": {
    "collapsed": true
   },
   "outputs": [],
   "source": [
    "df['tax_and_insurance'] = df.property_tax + df.insurance"
   ]
  },
  {
   "cell_type": "markdown",
   "metadata": {},
   "source": [
    "### Example: housing market recession\n",
    "According to data from Zillow, the lowest housing prices were from 2010 to end of 2013 (country-wide).\n",
    "![title](Images/zillow-housing-prices.png)"
   ]
  },
  {
   "cell_type": "markdown",
   "metadata": {},
   "source": [
    "Create a new feature called 'during_recession' to indicate if a transaction falls between 2010 and 2013"
   ]
  },
  {
   "cell_type": "code",
   "execution_count": 46,
   "metadata": {
    "collapsed": true
   },
   "outputs": [],
   "source": [
    "df['during_recession'] = ((df.tx_year >= 2010) & (df.tx_year <= 2013)).astype(int)"
   ]
  },
  {
   "cell_type": "code",
   "execution_count": 47,
   "metadata": {},
   "outputs": [
    {
     "data": {
      "text/plain": [
       "0.2635494155154091"
      ]
     },
     "execution_count": 47,
     "metadata": {},
     "output_type": "execute_result"
    }
   ],
   "source": [
    "# Print percent of transactions where during_recession == 1\n",
    "df[df['during_recession']==1].shape[0]/df.shape[0]"
   ]
  },
  {
   "cell_type": "markdown",
   "metadata": {},
   "source": [
    "## 5.2 Interaction features\n",
    "* Interaction features are operations between two or more other features.\n",
    "* In some contexts, \"interaction terms\" must be products of two variables.\n",
    "* In our context, interaction features can be products, sums, or differences between two features."
   ]
  },
  {
   "cell_type": "markdown",
   "metadata": {},
   "source": [
    "* For example, in our dataset, we know the transaction year and the year the property was built in.\n",
    "* However, the more useful piece of information that combining these two features provides is the age of the property at the time of the transaction."
   ]
  },
  {
   "cell_type": "code",
   "execution_count": 48,
   "metadata": {
    "collapsed": true
   },
   "outputs": [],
   "source": [
    "# Create a property age feature\n",
    "df['property_age'] = df.tx_year - df.year_built"
   ]
  },
  {
   "cell_type": "markdown",
   "metadata": {},
   "source": [
    "**Note:** 'property_age' denotes the age of the property when it was sold and not how old it is today, since we want to predict the price at the time when the property is sold.\n",
    "\n",
    "**Sanity Check:** It's always nice to do a quick sanity check after creating a feature, which could save you headaches down the road. For example, 'property_age' should never be less than 0, right?"
   ]
  },
  {
   "cell_type": "code",
   "execution_count": 49,
   "metadata": {},
   "outputs": [
    {
     "name": "stdout",
     "output_type": "stream",
     "text": [
      "-8\n"
     ]
    }
   ],
   "source": [
    "print(df.property_age.min())"
   ]
  },
  {
   "cell_type": "markdown",
   "metadata": {},
   "source": [
    "Nice find. Something is definitely wrong. Age of property can never be negative."
   ]
  },
  {
   "cell_type": "code",
   "execution_count": 50,
   "metadata": {},
   "outputs": [
    {
     "name": "stdout",
     "output_type": "stream",
     "text": [
      "19\n"
     ]
    }
   ],
   "source": [
    "# Number of observations with 'property_age' < 0\n",
    "print(sum(df.property_age < 0))"
   ]
  },
  {
   "cell_type": "markdown",
   "metadata": {},
   "source": [
    "* On second thought, it's possible that some home owners bought houses before the construction company built them.\n",
    "* This is not uncommon, especially with single-family homes.\n",
    "* However, for this problem, **we are only interested in houses that already exist** because the REIT only buys existing ones!"
   ]
  },
  {
   "cell_type": "code",
   "execution_count": 51,
   "metadata": {},
   "outputs": [
    {
     "data": {
      "text/plain": [
       "(1863, 32)"
      ]
     },
     "execution_count": 51,
     "metadata": {},
     "output_type": "execute_result"
    }
   ],
   "source": [
    "# Remove rows where property_age is less than 0\n",
    "df = df[df.property_age >= 0]\n",
    "df.shape"
   ]
  },
  {
   "cell_type": "markdown",
   "metadata": {},
   "source": [
    "Now, let's add another interaction feature. How about the number of quality schools nearby?\n",
    "* Well, we do know the number of schools nearby (<code style=\"color:steelblue\">'num_schools'</code>) \n",
    "* We also have their median quality score (<code style=\"color:steelblue\">'median_schools'</code>)\n",
    "* But what if it's the **interaction** of those two factors that's really important? \n",
    "* In other words, what if it's good to have many school options, but only if they are good?\n",
    "\n",
    "We can represent this with an interaction feature."
   ]
  },
  {
   "cell_type": "code",
   "execution_count": 52,
   "metadata": {
    "collapsed": true
   },
   "outputs": [],
   "source": [
    "# Create a school score feature that num_schools * median_school\n",
    "df['school_score'] = df.num_schools * df.median_school"
   ]
  },
  {
   "cell_type": "code",
   "execution_count": 53,
   "metadata": {},
   "outputs": [
    {
     "data": {
      "text/plain": [
       "18.0"
      ]
     },
     "execution_count": 53,
     "metadata": {},
     "output_type": "execute_result"
    }
   ],
   "source": [
    "# Display median school score\n",
    "df.school_score.median()"
   ]
  },
  {
   "cell_type": "markdown",
   "metadata": {},
   "source": [
    "## 5.3 Handling Sparse Classes\n",
    "* Sparse classes are those that have very few total observations.\n",
    "* As mentioned earlier, they can be problematic for certain machine learning algorithms.\n",
    "* At best, they are ignored.\n",
    "* At worst, they can cause models to be overfit.\n",
    "\n",
    "The easiest way to check for sparse classes is simply by plotting the distributions of your categorical features. We already did this during exploratory analysis, but since we've done some data cleaning since then, let's plot them again."
   ]
  },
  {
   "cell_type": "code",
   "execution_count": 54,
   "metadata": {},
   "outputs": [
    {
     "data": {
      "text/plain": [
       "<matplotlib.axes._subplots.AxesSubplot at 0xcaef5c0>"
      ]
     },
     "execution_count": 54,
     "metadata": {},
     "output_type": "execute_result"
    },
    {
     "data": {
      "image/png": "[encoded data removed]",
      "text/plain": [
       "<matplotlib.figure.Figure at 0xd6600f0>"
      ]
     },
     "metadata": {},
     "output_type": "display_data"
    }
   ],
   "source": [
    "# Bar plot for exterior_walls\n",
    "sns.countplot(y='exterior_walls', data=df)"
   ]
  },
  {
   "cell_type": "markdown",
   "metadata": {},
   "source": [
    "Group 'Wood Siding', 'Wood Shingle', and 'Wood' together. Label all of them as 'Wood'."
   ]
  },
  {
   "cell_type": "code",
   "execution_count": 55,
   "metadata": {
    "collapsed": true
   },
   "outputs": [],
   "source": [
    "df.exterior_walls.replace(['Wood Siding', 'Wood Shingle', 'Wood'], 'Wood', inplace=True)"
   ]
  },
  {
   "cell_type": "markdown",
   "metadata": {},
   "source": [
    "Next, we can group the remaining sparse classes into a single 'Other' class, even though there's already an 'Other' class.\n",
    "Let's label 'Stucco', 'Other', 'Asbestos shingle', 'Concrete Block', and 'Masonry' as 'Other"
   ]
  },
  {
   "cell_type": "code",
   "execution_count": 56,
   "metadata": {
    "collapsed": true
   },
   "outputs": [],
   "source": [
    "other_exterior_walls = ['Concrete Block', 'Stucco', 'Masonry', 'Other', 'Asbestos shingle']\n",
    "df.exterior_walls.replace(other_exterior_walls, 'Other', inplace=True)"
   ]
  },
  {
   "cell_type": "markdown",
   "metadata": {},
   "source": [
    "Finally, now that we've grouped together sparse classes, let's look at the bar plot for exterior walls again."
   ]
  },
  {
   "cell_type": "code",
   "execution_count": 57,
   "metadata": {},
   "outputs": [
    {
     "data": {
      "text/plain": [
       "<matplotlib.axes._subplots.AxesSubplot at 0xcad85c0>"
      ]
     },
     "execution_count": 57,
     "metadata": {},
     "output_type": "execute_result"
    },
    {
     "data": {
      "image/png": "[encoded data removed]",
      "text/plain": [
       "<matplotlib.figure.Figure at 0xd6bde48>"
      ]
     },
     "metadata": {},
     "output_type": "display_data"
    }
   ],
   "source": [
    "sns.countplot(y='exterior_walls', data=df)"
   ]
  },
  {
   "cell_type": "markdown",
   "metadata": {},
   "source": [
    "Similarly we check for 'roof'"
   ]
  },
  {
   "cell_type": "code",
   "execution_count": 58,
   "metadata": {},
   "outputs": [
    {
     "data": {
      "text/plain": [
       "<matplotlib.axes._subplots.AxesSubplot at 0xc963ba8>"
      ]
     },
     "execution_count": 58,
     "metadata": {},
     "output_type": "execute_result"
    },
    {
     "data": {
      "image/png": "[encoded data removed]",
      "text/plain": [
       "<matplotlib.figure.Figure at 0xc97c978>"
      ]
     },
     "metadata": {},
     "output_type": "display_data"
    }
   ],
   "source": [
    "sns.countplot(y='roof', data=df)"
   ]
  },
  {
   "cell_type": "markdown",
   "metadata": {},
   "source": [
    "Group 'Composition' and 'Wood Shake/ Shingles' into the 'Composition Shingle' class."
   ]
  },
  {
   "cell_type": "code",
   "execution_count": 59,
   "metadata": {
    "collapsed": true
   },
   "outputs": [],
   "source": [
    "df.roof.replace(['Composition', 'Wood Shake/ Shingles'], 'Composition Shingle', inplace=True)"
   ]
  },
  {
   "cell_type": "markdown",
   "metadata": {},
   "source": [
    "Next, let's group remaining sparse classes into a single 'Other' class.\n",
    "\n",
    "Label 'Other', 'Gravel/Rock', 'Roll Composition', 'Slate', 'Built-up', 'Asbestos', and 'Metal' as 'Other'."
   ]
  },
  {
   "cell_type": "code",
   "execution_count": 60,
   "metadata": {
    "collapsed": true
   },
   "outputs": [],
   "source": [
    "other_roof = ['Other', 'Gravel/Rock', 'Roll Composition', 'Slate', 'Built-up', 'Asbestos', 'Metal']\n",
    "df.roof.replace(other_roof, 'Other', inplace=True)"
   ]
  },
  {
   "cell_type": "markdown",
   "metadata": {},
   "source": [
    "Finally, display bar plot again."
   ]
  },
  {
   "cell_type": "code",
   "execution_count": 61,
   "metadata": {},
   "outputs": [
    {
     "data": {
      "text/plain": [
       "<matplotlib.axes._subplots.AxesSubplot at 0xc705a58>"
      ]
     },
     "execution_count": 61,
     "metadata": {},
     "output_type": "execute_result"
    },
    {
     "data": {
      "image/png": "[encoded data removed]",
      "text/plain": [
       "<matplotlib.figure.Figure at 0xce12e10>"
      ]
     },
     "metadata": {},
     "output_type": "display_data"
    }
   ],
   "source": [
    "sns.countplot(y='roof', data=df)"
   ]
  },
  {
   "cell_type": "markdown",
   "metadata": {},
   "source": [
    "**Now these plots look much nicer**"
   ]
  },
  {
   "cell_type": "markdown",
   "metadata": {},
   "source": [
    "## 5.4 Encode dummy variables (One Hot Encoding)\n",
    "* Machine learning algorithms cannot directly handle categorical features. Specifically, they cannot handle text values.\n",
    "* Therefore, we need to create dummy variables for our categorical features.\n",
    "* *Dummy variables* are a set of binary (0 or 1) features that each represent a single class from a categorical feature.\n",
    "\n",
    "The information you represent is exactly the same, but this numeric representation allows you to pass Scikit-Learn's technical requirement."
   ]
  },
  {
   "cell_type": "code",
   "execution_count": 62,
   "metadata": {
    "collapsed": true
   },
   "outputs": [],
   "source": [
    "# Create a new dataframe with dummy variables for for our categorical features.\n",
    "df = pd.get_dummies(df, columns=['exterior_walls', 'roof', 'property_type'])"
   ]
  },
  {
   "cell_type": "markdown",
   "metadata": {},
   "source": [
    "**Note:** There are many ways to perform one-hot encoding, you can also use LabelEncoder and OneHotEncoder classes in SKLEARN or use the above pandas function."
   ]
  },
  {
   "cell_type": "markdown",
   "metadata": {},
   "source": [
    "Let's display the first 5 rows again to see these new features<br>\n",
    "Click the table and scroll over to the right.<br>\n",
    "Check dummy variables created for 'exterior_walls', 'roof' and 'property_type'"
   ]
  },
  {
   "cell_type": "code",
   "execution_count": 63,
   "metadata": {},
   "outputs": [
    {
     "data": {
      "text/html": [
       "<div>\n",
       "<style>\n",
       "    .dataframe thead tr:only-child th {\n",
       "        text-align: right;\n",
       "    }\n",
       "\n",
       "    .dataframe thead th {\n",
       "        text-align: left;\n",
       "    }\n",
       "\n",
       "    .dataframe tbody tr th {\n",
       "        vertical-align: top;\n",
       "    }\n",
       "</style>\n",
       "<table border=\"1\" class=\"dataframe\">\n",
       "  <thead>\n",
       "    <tr style=\"text-align: right;\">\n",
       "      <th></th>\n",
       "      <th>tx_price</th>\n",
       "      <th>beds</th>\n",
       "      <th>baths</th>\n",
       "      <th>sqft</th>\n",
       "      <th>year_built</th>\n",
       "      <th>lot_size</th>\n",
       "      <th>basement</th>\n",
       "      <th>restaurants</th>\n",
       "      <th>groceries</th>\n",
       "      <th>nightlife</th>\n",
       "      <th>cafes</th>\n",
       "      <th>shopping</th>\n",
       "      <th>arts_entertainment</th>\n",
       "      <th>beauty_spas</th>\n",
       "      <th>active_life</th>\n",
       "      <th>median_age</th>\n",
       "      <th>married</th>\n",
       "      <th>college_grad</th>\n",
       "      <th>property_tax</th>\n",
       "      <th>insurance</th>\n",
       "      <th>median_school</th>\n",
       "      <th>num_schools</th>\n",
       "      <th>tx_year</th>\n",
       "      <th>two_and_two</th>\n",
       "      <th>3-4 bed</th>\n",
       "      <th>older_property</th>\n",
       "      <th>tax_and_insurance</th>\n",
       "      <th>during_recession</th>\n",
       "      <th>property_age</th>\n",
       "      <th>school_score</th>\n",
       "      <th>exterior_walls_Brick</th>\n",
       "      <th>exterior_walls_Brick veneer</th>\n",
       "      <th>exterior_walls_Combination</th>\n",
       "      <th>exterior_walls_Metal</th>\n",
       "      <th>exterior_walls_Missing</th>\n",
       "      <th>exterior_walls_Other</th>\n",
       "      <th>exterior_walls_Siding (Alum/Vinyl)</th>\n",
       "      <th>exterior_walls_Wood</th>\n",
       "      <th>roof_Asphalt</th>\n",
       "      <th>roof_Composition Shingle</th>\n",
       "      <th>roof_Missing</th>\n",
       "      <th>roof_Other</th>\n",
       "      <th>roof_Shake Shingle</th>\n",
       "      <th>property_type_Apartment / Condo / Townhouse</th>\n",
       "      <th>property_type_Single-Family</th>\n",
       "    </tr>\n",
       "  </thead>\n",
       "  <tbody>\n",
       "    <tr>\n",
       "      <th>0</th>\n",
       "      <td>295850</td>\n",
       "      <td>1</td>\n",
       "      <td>1</td>\n",
       "      <td>584</td>\n",
       "      <td>2013</td>\n",
       "      <td>0</td>\n",
       "      <td>0.0</td>\n",
       "      <td>107</td>\n",
       "      <td>9</td>\n",
       "      <td>30</td>\n",
       "      <td>19</td>\n",
       "      <td>89</td>\n",
       "      <td>6</td>\n",
       "      <td>47</td>\n",
       "      <td>58</td>\n",
       "      <td>33.0</td>\n",
       "      <td>65.0</td>\n",
       "      <td>84.0</td>\n",
       "      <td>234.0</td>\n",
       "      <td>81.0</td>\n",
       "      <td>9.0</td>\n",
       "      <td>3.0</td>\n",
       "      <td>2013</td>\n",
       "      <td>0</td>\n",
       "      <td>0</td>\n",
       "      <td>0</td>\n",
       "      <td>315.0</td>\n",
       "      <td>1</td>\n",
       "      <td>0</td>\n",
       "      <td>27.0</td>\n",
       "      <td>0</td>\n",
       "      <td>0</td>\n",
       "      <td>0</td>\n",
       "      <td>0</td>\n",
       "      <td>0</td>\n",
       "      <td>0</td>\n",
       "      <td>0</td>\n",
       "      <td>1</td>\n",
       "      <td>0</td>\n",
       "      <td>0</td>\n",
       "      <td>1</td>\n",
       "      <td>0</td>\n",
       "      <td>0</td>\n",
       "      <td>1</td>\n",
       "      <td>0</td>\n",
       "    </tr>\n",
       "    <tr>\n",
       "      <th>1</th>\n",
       "      <td>216500</td>\n",
       "      <td>1</td>\n",
       "      <td>1</td>\n",
       "      <td>612</td>\n",
       "      <td>1965</td>\n",
       "      <td>0</td>\n",
       "      <td>1.0</td>\n",
       "      <td>105</td>\n",
       "      <td>15</td>\n",
       "      <td>6</td>\n",
       "      <td>13</td>\n",
       "      <td>87</td>\n",
       "      <td>2</td>\n",
       "      <td>26</td>\n",
       "      <td>14</td>\n",
       "      <td>39.0</td>\n",
       "      <td>73.0</td>\n",
       "      <td>69.0</td>\n",
       "      <td>169.0</td>\n",
       "      <td>51.0</td>\n",
       "      <td>3.0</td>\n",
       "      <td>3.0</td>\n",
       "      <td>2006</td>\n",
       "      <td>0</td>\n",
       "      <td>0</td>\n",
       "      <td>1</td>\n",
       "      <td>220.0</td>\n",
       "      <td>0</td>\n",
       "      <td>41</td>\n",
       "      <td>9.0</td>\n",
       "      <td>1</td>\n",
       "      <td>0</td>\n",
       "      <td>0</td>\n",
       "      <td>0</td>\n",
       "      <td>0</td>\n",
       "      <td>0</td>\n",
       "      <td>0</td>\n",
       "      <td>0</td>\n",
       "      <td>0</td>\n",
       "      <td>1</td>\n",
       "      <td>0</td>\n",
       "      <td>0</td>\n",
       "      <td>0</td>\n",
       "      <td>1</td>\n",
       "      <td>0</td>\n",
       "    </tr>\n",
       "    <tr>\n",
       "      <th>2</th>\n",
       "      <td>279900</td>\n",
       "      <td>1</td>\n",
       "      <td>1</td>\n",
       "      <td>615</td>\n",
       "      <td>1963</td>\n",
       "      <td>0</td>\n",
       "      <td>0.0</td>\n",
       "      <td>183</td>\n",
       "      <td>13</td>\n",
       "      <td>31</td>\n",
       "      <td>30</td>\n",
       "      <td>101</td>\n",
       "      <td>10</td>\n",
       "      <td>74</td>\n",
       "      <td>62</td>\n",
       "      <td>28.0</td>\n",
       "      <td>15.0</td>\n",
       "      <td>86.0</td>\n",
       "      <td>216.0</td>\n",
       "      <td>74.0</td>\n",
       "      <td>8.0</td>\n",
       "      <td>3.0</td>\n",
       "      <td>2012</td>\n",
       "      <td>0</td>\n",
       "      <td>0</td>\n",
       "      <td>1</td>\n",
       "      <td>290.0</td>\n",
       "      <td>1</td>\n",
       "      <td>49</td>\n",
       "      <td>24.0</td>\n",
       "      <td>0</td>\n",
       "      <td>0</td>\n",
       "      <td>0</td>\n",
       "      <td>0</td>\n",
       "      <td>0</td>\n",
       "      <td>0</td>\n",
       "      <td>0</td>\n",
       "      <td>1</td>\n",
       "      <td>0</td>\n",
       "      <td>0</td>\n",
       "      <td>1</td>\n",
       "      <td>0</td>\n",
       "      <td>0</td>\n",
       "      <td>1</td>\n",
       "      <td>0</td>\n",
       "    </tr>\n",
       "    <tr>\n",
       "      <th>3</th>\n",
       "      <td>379900</td>\n",
       "      <td>1</td>\n",
       "      <td>1</td>\n",
       "      <td>618</td>\n",
       "      <td>2000</td>\n",
       "      <td>33541</td>\n",
       "      <td>0.0</td>\n",
       "      <td>198</td>\n",
       "      <td>9</td>\n",
       "      <td>38</td>\n",
       "      <td>25</td>\n",
       "      <td>127</td>\n",
       "      <td>11</td>\n",
       "      <td>72</td>\n",
       "      <td>83</td>\n",
       "      <td>36.0</td>\n",
       "      <td>25.0</td>\n",
       "      <td>91.0</td>\n",
       "      <td>265.0</td>\n",
       "      <td>92.0</td>\n",
       "      <td>9.0</td>\n",
       "      <td>3.0</td>\n",
       "      <td>2005</td>\n",
       "      <td>0</td>\n",
       "      <td>0</td>\n",
       "      <td>0</td>\n",
       "      <td>357.0</td>\n",
       "      <td>0</td>\n",
       "      <td>5</td>\n",
       "      <td>27.0</td>\n",
       "      <td>0</td>\n",
       "      <td>0</td>\n",
       "      <td>0</td>\n",
       "      <td>0</td>\n",
       "      <td>0</td>\n",
       "      <td>0</td>\n",
       "      <td>0</td>\n",
       "      <td>1</td>\n",
       "      <td>0</td>\n",
       "      <td>0</td>\n",
       "      <td>1</td>\n",
       "      <td>0</td>\n",
       "      <td>0</td>\n",
       "      <td>1</td>\n",
       "      <td>0</td>\n",
       "    </tr>\n",
       "    <tr>\n",
       "      <th>4</th>\n",
       "      <td>340000</td>\n",
       "      <td>1</td>\n",
       "      <td>1</td>\n",
       "      <td>634</td>\n",
       "      <td>1992</td>\n",
       "      <td>0</td>\n",
       "      <td>0.0</td>\n",
       "      <td>149</td>\n",
       "      <td>7</td>\n",
       "      <td>22</td>\n",
       "      <td>20</td>\n",
       "      <td>83</td>\n",
       "      <td>10</td>\n",
       "      <td>50</td>\n",
       "      <td>73</td>\n",
       "      <td>37.0</td>\n",
       "      <td>20.0</td>\n",
       "      <td>75.0</td>\n",
       "      <td>88.0</td>\n",
       "      <td>30.0</td>\n",
       "      <td>9.0</td>\n",
       "      <td>3.0</td>\n",
       "      <td>2002</td>\n",
       "      <td>0</td>\n",
       "      <td>0</td>\n",
       "      <td>0</td>\n",
       "      <td>118.0</td>\n",
       "      <td>0</td>\n",
       "      <td>10</td>\n",
       "      <td>27.0</td>\n",
       "      <td>1</td>\n",
       "      <td>0</td>\n",
       "      <td>0</td>\n",
       "      <td>0</td>\n",
       "      <td>0</td>\n",
       "      <td>0</td>\n",
       "      <td>0</td>\n",
       "      <td>0</td>\n",
       "      <td>0</td>\n",
       "      <td>0</td>\n",
       "      <td>1</td>\n",
       "      <td>0</td>\n",
       "      <td>0</td>\n",
       "      <td>1</td>\n",
       "      <td>0</td>\n",
       "    </tr>\n",
       "  </tbody>\n",
       "</table>\n",
       "</div>"
      ],
      "text/plain": [
       "   tx_price  beds  baths  sqft  year_built  lot_size  basement  restaurants  \\\n",
       "0    295850     1      1   584        2013         0       0.0          107   \n",
       "1    216500     1      1   612        1965         0       1.0          105   \n",
       "2    279900     1      1   615        1963         0       0.0          183   \n",
       "3    379900     1      1   618        2000     33541       0.0          198   \n",
       "4    340000     1      1   634        1992         0       0.0          149   \n",
       "\n",
       "   groceries  nightlife  cafes  shopping  arts_entertainment  beauty_spas  \\\n",
       "0          9         30     19        89                   6           47   \n",
       "1         15          6     13        87                   2           26   \n",
       "2         13         31     30       101                  10           74   \n",
       "3          9         38     25       127                  11           72   \n",
       "4          7         22     20        83                  10           50   \n",
       "\n",
       "   active_life  median_age  married  college_grad  property_tax  insurance  \\\n",
       "0           58        33.0     65.0          84.0         234.0       81.0   \n",
       "1           14        39.0     73.0          69.0         169.0       51.0   \n",
       "2           62        28.0     15.0          86.0         216.0       74.0   \n",
       "3           83        36.0     25.0          91.0         265.0       92.0   \n",
       "4           73        37.0     20.0          75.0          88.0       30.0   \n",
       "\n",
       "   median_school  num_schools  tx_year  two_and_two  3-4 bed  older_property  \\\n",
       "0            9.0          3.0     2013            0        0               0   \n",
       "1            3.0          3.0     2006            0        0               1   \n",
       "2            8.0          3.0     2012            0        0               1   \n",
       "3            9.0          3.0     2005            0        0               0   \n",
       "4            9.0          3.0     2002            0        0               0   \n",
       "\n",
       "   tax_and_insurance  during_recession  property_age  school_score  \\\n",
       "0              315.0                 1             0          27.0   \n",
       "1              220.0                 0            41           9.0   \n",
       "2              290.0                 1            49          24.0   \n",
       "3              357.0                 0             5          27.0   \n",
       "4              118.0                 0            10          27.0   \n",
       "\n",
       "   exterior_walls_Brick  exterior_walls_Brick veneer  \\\n",
       "0                     0                            0   \n",
       "1                     1                            0   \n",
       "2                     0                            0   \n",
       "3                     0                            0   \n",
       "4                     1                            0   \n",
       "\n",
       "   exterior_walls_Combination  exterior_walls_Metal  exterior_walls_Missing  \\\n",
       "0                           0                     0                       0   \n",
       "1                           0                     0                       0   \n",
       "2                           0                     0                       0   \n",
       "3                           0                     0                       0   \n",
       "4                           0                     0                       0   \n",
       "\n",
       "   exterior_walls_Other  exterior_walls_Siding (Alum/Vinyl)  \\\n",
       "0                     0                                   0   \n",
       "1                     0                                   0   \n",
       "2                     0                                   0   \n",
       "3                     0                                   0   \n",
       "4                     0                                   0   \n",
       "\n",
       "   exterior_walls_Wood  roof_Asphalt  roof_Composition Shingle  roof_Missing  \\\n",
       "0                    1             0                         0             1   \n",
       "1                    0             0                         1             0   \n",
       "2                    1             0                         0             1   \n",
       "3                    1             0                         0             1   \n",
       "4                    0             0                         0             1   \n",
       "\n",
       "   roof_Other  roof_Shake Shingle  \\\n",
       "0           0                   0   \n",
       "1           0                   0   \n",
       "2           0                   0   \n",
       "3           0                   0   \n",
       "4           0                   0   \n",
       "\n",
       "   property_type_Apartment / Condo / Townhouse  property_type_Single-Family  \n",
       "0                                            1                            0  \n",
       "1                                            1                            0  \n",
       "2                                            1                            0  \n",
       "3                                            1                            0  \n",
       "4                                            1                            0  "
      ]
     },
     "execution_count": 63,
     "metadata": {},
     "output_type": "execute_result"
    }
   ],
   "source": [
    "df.head()"
   ]
  },
  {
   "cell_type": "markdown",
   "metadata": {},
   "source": [
    "## 5.5 Remove unused or redundant features\n",
    "* Unused features are those that don't make sense to pass into our machine learning algorithms.\n",
    "* Example ID columns, Features that wouldn't be available at the time of prediction (e.g. price of the property 5 years after the transaction), Other text descriptions, etc.\n",
    "* For this dataset, we don't have any unused features.\n",
    "* Redundant features would typically be those that have been **replaced by other features** that you've added.\n",
    "* For example, since we used 'tx_year' and 'year_built' to create the 'property_age' feature, we might consider removing them.\n",
    "\n",
    "Sometimes it's not quite black and white. There might be no clear right or wrong decision for this step, and that's OK."
   ]
  },
  {
   "cell_type": "code",
   "execution_count": 64,
   "metadata": {
    "collapsed": true
   },
   "outputs": [],
   "source": [
    "# Drop 'tx_year' and 'year_built' from the dataset\n",
    "df = df.drop(['tx_year', 'year_built'], axis=1)  ## axis=1 because we are dropping columns."
   ]
  },
  {
   "cell_type": "markdown",
   "metadata": {},
   "source": [
    "Finally, before we move on to the next module, let's save our new DataFrame we that augmented through feature engineering. We'll call it the analytical base table because we'll be building our models on it.\n",
    "* Remember to set the argument index=None to save only the data."
   ]
  },
  {
   "cell_type": "code",
   "execution_count": 65,
   "metadata": {
    "collapsed": true
   },
   "outputs": [],
   "source": [
    "# Save analytical base table\n",
    "df.to_csv('Files/analytical_base_table.csv', index=None)"
   ]
  },
  {
   "cell_type": "markdown",
   "metadata": {},
   "source": [
    "### Final Tip\n",
    "Not all of the features you engineer need to be winners.\n",
    "\n",
    "* In fact, you'll often find that many of them don't improve your model.\n",
    "* That's OK.\n",
    "* One highly predictive feature makes up for 10 duds.\n",
    "\n",
    "The key is choosing machine learning algorithms that can automatically select the best features among many options (built-in feature selection).\n",
    "\n",
    "This will allow you to avoid overfitting your model despite providing many input features. We'll cover this next."
   ]
  },
  {
   "cell_type": "markdown",
   "metadata": {},
   "source": [
    "# 6. Machine Learning Models\n",
    "## 6.1 Data Preparation"
   ]
  },
  {
   "cell_type": "code",
   "execution_count": 2,
   "metadata": {},
   "outputs": [
    {
     "name": "stdout",
     "output_type": "stream",
     "text": [
      "(1863, 43)\n"
     ]
    }
   ],
   "source": [
    "df = pd.read_csv(\"Files/analytical_base_table.csv\") # Loading the file\n",
    "print(df.shape)"
   ]
  },
  {
   "cell_type": "markdown",
   "metadata": {},
   "source": [
    "### 6.1.1 Train and Test Splits\n",
    "Separate your dataframe into separate objects for the target variable (y) and the input features (X) and perform the train and test split"
   ]
  },
  {
   "cell_type": "code",
   "execution_count": 3,
   "metadata": {
    "collapsed": true
   },
   "outputs": [],
   "source": [
    "# Create separate object for target variable\n",
    "y = df.tx_price\n",
    "# Create separate object for input features\n",
    "X = df.drop('tx_price', axis=1)"
   ]
  },
  {
   "cell_type": "code",
   "execution_count": 4,
   "metadata": {
    "collapsed": true
   },
   "outputs": [],
   "source": [
    "# Split X and y into train and test sets: 80-20\n",
    "X_train, X_test, y_train, y_test = train_test_split(X, y, test_size=0.2, random_state=1234)"
   ]
  },
  {
   "cell_type": "markdown",
   "metadata": {},
   "source": [
    "\n",
    "Let's confirm we have the right number of observations in each subset."
   ]
  },
  {
   "cell_type": "code",
   "execution_count": 5,
   "metadata": {},
   "outputs": [
    {
     "name": "stdout",
     "output_type": "stream",
     "text": [
      "(1490, 42) (373, 42) (1490,) (373,)\n"
     ]
    }
   ],
   "source": [
    "print(X_train.shape, X_test.shape, y_train.shape, y_test.shape)"
   ]
  },
  {
   "cell_type": "markdown",
   "metadata": {},
   "source": [
    "### 6.1.2 Data standardization\n",
    "* In Data Standardization we perform zero mean centring and unit scaling; i.e. we make the mean of all the features as zero and the standard deviation as 1.\n",
    "* Thus we use **mean** and **standard deviation** of each feature.\n",
    "* It is very important to save the **mean** and **standard deviation** for each of the feature from the **training set**, because we use the same mean and standard deviation in the test set."
   ]
  },
  {
   "cell_type": "code",
   "execution_count": 6,
   "metadata": {
    "collapsed": true
   },
   "outputs": [],
   "source": [
    "train_mean = X_train.mean()\n",
    "train_std = X_train.std()"
   ]
  },
  {
   "cell_type": "code",
   "execution_count": 7,
   "metadata": {
    "collapsed": true
   },
   "outputs": [],
   "source": [
    "## Standardize the train data set\n",
    "X_train = (X_train - train_mean) / train_std"
   ]
  },
  {
   "cell_type": "code",
   "execution_count": 8,
   "metadata": {},
   "outputs": [
    {
     "data": {
      "text/html": [
       "<div>\n",
       "<style>\n",
       "    .dataframe thead tr:only-child th {\n",
       "        text-align: right;\n",
       "    }\n",
       "\n",
       "    .dataframe thead th {\n",
       "        text-align: left;\n",
       "    }\n",
       "\n",
       "    .dataframe tbody tr th {\n",
       "        vertical-align: top;\n",
       "    }\n",
       "</style>\n",
       "<table border=\"1\" class=\"dataframe\">\n",
       "  <thead>\n",
       "    <tr style=\"text-align: right;\">\n",
       "      <th></th>\n",
       "      <th>beds</th>\n",
       "      <th>baths</th>\n",
       "      <th>sqft</th>\n",
       "      <th>lot_size</th>\n",
       "      <th>basement</th>\n",
       "      <th>restaurants</th>\n",
       "      <th>groceries</th>\n",
       "      <th>nightlife</th>\n",
       "      <th>cafes</th>\n",
       "      <th>shopping</th>\n",
       "      <th>...</th>\n",
       "      <th>exterior_walls_Other</th>\n",
       "      <th>exterior_walls_Siding (Alum/Vinyl)</th>\n",
       "      <th>exterior_walls_Wood</th>\n",
       "      <th>roof_Asphalt</th>\n",
       "      <th>roof_Composition Shingle</th>\n",
       "      <th>roof_Missing</th>\n",
       "      <th>roof_Other</th>\n",
       "      <th>roof_Shake Shingle</th>\n",
       "      <th>property_type_Apartment / Condo / Townhouse</th>\n",
       "      <th>property_type_Single-Family</th>\n",
       "    </tr>\n",
       "  </thead>\n",
       "  <tbody>\n",
       "    <tr>\n",
       "      <th>1689</th>\n",
       "      <td>1.459364</td>\n",
       "      <td>0.452247</td>\n",
       "      <td>1.356266</td>\n",
       "      <td>-0.153472</td>\n",
       "      <td>0.371727</td>\n",
       "      <td>-0.691612</td>\n",
       "      <td>-0.530994</td>\n",
       "      <td>-0.474378</td>\n",
       "      <td>-0.562417</td>\n",
       "      <td>-0.660384</td>\n",
       "      <td>...</td>\n",
       "      <td>-0.197548</td>\n",
       "      <td>-0.605579</td>\n",
       "      <td>-0.265245</td>\n",
       "      <td>-0.280848</td>\n",
       "      <td>0.743862</td>\n",
       "      <td>-0.482998</td>\n",
       "      <td>-0.253461</td>\n",
       "      <td>-0.186276</td>\n",
       "      <td>-0.84974</td>\n",
       "      <td>0.84974</td>\n",
       "    </tr>\n",
       "    <tr>\n",
       "      <th>1531</th>\n",
       "      <td>0.527323</td>\n",
       "      <td>1.526966</td>\n",
       "      <td>1.666188</td>\n",
       "      <td>0.422213</td>\n",
       "      <td>0.371727</td>\n",
       "      <td>-0.840593</td>\n",
       "      <td>-0.975602</td>\n",
       "      <td>-0.592834</td>\n",
       "      <td>-0.696777</td>\n",
       "      <td>-0.736814</td>\n",
       "      <td>...</td>\n",
       "      <td>-0.197548</td>\n",
       "      <td>-0.605579</td>\n",
       "      <td>-0.265245</td>\n",
       "      <td>-0.280848</td>\n",
       "      <td>0.743862</td>\n",
       "      <td>-0.482998</td>\n",
       "      <td>-0.253461</td>\n",
       "      <td>-0.186276</td>\n",
       "      <td>-0.84974</td>\n",
       "      <td>0.84974</td>\n",
       "    </tr>\n",
       "    <tr>\n",
       "      <th>668</th>\n",
       "      <td>-0.404719</td>\n",
       "      <td>-0.622471</td>\n",
       "      <td>0.128914</td>\n",
       "      <td>-0.291266</td>\n",
       "      <td>0.371727</td>\n",
       "      <td>-0.542631</td>\n",
       "      <td>-0.753298</td>\n",
       "      <td>-0.474378</td>\n",
       "      <td>-0.562417</td>\n",
       "      <td>-0.488414</td>\n",
       "      <td>...</td>\n",
       "      <td>-0.197548</td>\n",
       "      <td>-0.605579</td>\n",
       "      <td>-0.265245</td>\n",
       "      <td>-0.280848</td>\n",
       "      <td>-1.343434</td>\n",
       "      <td>2.069013</td>\n",
       "      <td>-0.253461</td>\n",
       "      <td>-0.186276</td>\n",
       "      <td>1.17604</td>\n",
       "      <td>-1.17604</td>\n",
       "    </tr>\n",
       "    <tr>\n",
       "      <th>1740</th>\n",
       "      <td>1.459364</td>\n",
       "      <td>1.526966</td>\n",
       "      <td>0.557562</td>\n",
       "      <td>0.209459</td>\n",
       "      <td>0.371727</td>\n",
       "      <td>-0.116971</td>\n",
       "      <td>-0.530994</td>\n",
       "      <td>0.117899</td>\n",
       "      <td>-0.024978</td>\n",
       "      <td>-0.144475</td>\n",
       "      <td>...</td>\n",
       "      <td>-0.197548</td>\n",
       "      <td>-0.605579</td>\n",
       "      <td>-0.265245</td>\n",
       "      <td>-0.280848</td>\n",
       "      <td>0.743862</td>\n",
       "      <td>-0.482998</td>\n",
       "      <td>-0.253461</td>\n",
       "      <td>-0.186276</td>\n",
       "      <td>-0.84974</td>\n",
       "      <td>0.84974</td>\n",
       "    </tr>\n",
       "    <tr>\n",
       "      <th>117</th>\n",
       "      <td>-1.336760</td>\n",
       "      <td>-1.697190</td>\n",
       "      <td>-1.056806</td>\n",
       "      <td>-0.366225</td>\n",
       "      <td>0.371727</td>\n",
       "      <td>1.904914</td>\n",
       "      <td>0.802832</td>\n",
       "      <td>2.013186</td>\n",
       "      <td>2.662216</td>\n",
       "      <td>5.320335</td>\n",
       "      <td>...</td>\n",
       "      <td>-0.197548</td>\n",
       "      <td>-0.605579</td>\n",
       "      <td>-0.265245</td>\n",
       "      <td>-0.280848</td>\n",
       "      <td>0.743862</td>\n",
       "      <td>-0.482998</td>\n",
       "      <td>-0.253461</td>\n",
       "      <td>-0.186276</td>\n",
       "      <td>1.17604</td>\n",
       "      <td>-1.17604</td>\n",
       "    </tr>\n",
       "    <tr>\n",
       "      <th>22</th>\n",
       "      <td>-2.268801</td>\n",
       "      <td>-1.697190</td>\n",
       "      <td>-1.248773</td>\n",
       "      <td>-0.366225</td>\n",
       "      <td>0.371727</td>\n",
       "      <td>0.904613</td>\n",
       "      <td>0.358223</td>\n",
       "      <td>0.236354</td>\n",
       "      <td>0.378101</td>\n",
       "      <td>0.103926</td>\n",
       "      <td>...</td>\n",
       "      <td>-0.197548</td>\n",
       "      <td>-0.605579</td>\n",
       "      <td>3.767565</td>\n",
       "      <td>-0.280848</td>\n",
       "      <td>0.743862</td>\n",
       "      <td>-0.482998</td>\n",
       "      <td>-0.253461</td>\n",
       "      <td>-0.186276</td>\n",
       "      <td>1.17604</td>\n",
       "      <td>-1.17604</td>\n",
       "    </tr>\n",
       "    <tr>\n",
       "      <th>1196</th>\n",
       "      <td>0.527323</td>\n",
       "      <td>0.452247</td>\n",
       "      <td>-0.557231</td>\n",
       "      <td>-0.320255</td>\n",
       "      <td>0.371727</td>\n",
       "      <td>-0.372367</td>\n",
       "      <td>-0.753298</td>\n",
       "      <td>-0.119012</td>\n",
       "      <td>-0.696777</td>\n",
       "      <td>-0.431091</td>\n",
       "      <td>...</td>\n",
       "      <td>-0.197548</td>\n",
       "      <td>1.650203</td>\n",
       "      <td>-0.265245</td>\n",
       "      <td>-0.280848</td>\n",
       "      <td>0.743862</td>\n",
       "      <td>-0.482998</td>\n",
       "      <td>-0.253461</td>\n",
       "      <td>-0.186276</td>\n",
       "      <td>1.17604</td>\n",
       "      <td>-1.17604</td>\n",
       "    </tr>\n",
       "    <tr>\n",
       "      <th>319</th>\n",
       "      <td>-1.336760</td>\n",
       "      <td>-0.622471</td>\n",
       "      <td>-0.652829</td>\n",
       "      <td>-0.327869</td>\n",
       "      <td>0.371727</td>\n",
       "      <td>0.159708</td>\n",
       "      <td>0.358223</td>\n",
       "      <td>0.117899</td>\n",
       "      <td>-0.159338</td>\n",
       "      <td>0.065710</td>\n",
       "      <td>...</td>\n",
       "      <td>-0.197548</td>\n",
       "      <td>1.650203</td>\n",
       "      <td>-0.265245</td>\n",
       "      <td>-0.280848</td>\n",
       "      <td>0.743862</td>\n",
       "      <td>-0.482998</td>\n",
       "      <td>-0.253461</td>\n",
       "      <td>-0.186276</td>\n",
       "      <td>1.17604</td>\n",
       "      <td>-1.17604</td>\n",
       "    </tr>\n",
       "    <tr>\n",
       "      <th>1667</th>\n",
       "      <td>1.459364</td>\n",
       "      <td>0.452247</td>\n",
       "      <td>1.037093</td>\n",
       "      <td>0.347138</td>\n",
       "      <td>0.371727</td>\n",
       "      <td>-0.798027</td>\n",
       "      <td>-0.975602</td>\n",
       "      <td>-0.474378</td>\n",
       "      <td>-0.562417</td>\n",
       "      <td>-0.679491</td>\n",
       "      <td>...</td>\n",
       "      <td>-0.197548</td>\n",
       "      <td>-0.605579</td>\n",
       "      <td>3.767565</td>\n",
       "      <td>-0.280848</td>\n",
       "      <td>0.743862</td>\n",
       "      <td>-0.482998</td>\n",
       "      <td>-0.253461</td>\n",
       "      <td>-0.186276</td>\n",
       "      <td>-0.84974</td>\n",
       "      <td>0.84974</td>\n",
       "    </tr>\n",
       "    <tr>\n",
       "      <th>821</th>\n",
       "      <td>-0.404719</td>\n",
       "      <td>0.452247</td>\n",
       "      <td>-0.335197</td>\n",
       "      <td>-0.318503</td>\n",
       "      <td>0.371727</td>\n",
       "      <td>0.925896</td>\n",
       "      <td>0.802832</td>\n",
       "      <td>-0.119012</td>\n",
       "      <td>0.512461</td>\n",
       "      <td>2.702576</td>\n",
       "      <td>...</td>\n",
       "      <td>-0.197548</td>\n",
       "      <td>-0.605579</td>\n",
       "      <td>-0.265245</td>\n",
       "      <td>-0.280848</td>\n",
       "      <td>0.743862</td>\n",
       "      <td>-0.482998</td>\n",
       "      <td>-0.253461</td>\n",
       "      <td>-0.186276</td>\n",
       "      <td>1.17604</td>\n",
       "      <td>-1.17604</td>\n",
       "    </tr>\n",
       "    <tr>\n",
       "      <th>406</th>\n",
       "      <td>-0.404719</td>\n",
       "      <td>-0.622471</td>\n",
       "      <td>-0.970460</td>\n",
       "      <td>-0.366225</td>\n",
       "      <td>0.371727</td>\n",
       "      <td>-0.159537</td>\n",
       "      <td>-0.308690</td>\n",
       "      <td>-0.592834</td>\n",
       "      <td>0.243741</td>\n",
       "      <td>0.887342</td>\n",
       "      <td>...</td>\n",
       "      <td>-0.197548</td>\n",
       "      <td>-0.605579</td>\n",
       "      <td>-0.265245</td>\n",
       "      <td>-0.280848</td>\n",
       "      <td>0.743862</td>\n",
       "      <td>-0.482998</td>\n",
       "      <td>-0.253461</td>\n",
       "      <td>-0.186276</td>\n",
       "      <td>1.17604</td>\n",
       "      <td>-1.17604</td>\n",
       "    </tr>\n",
       "    <tr>\n",
       "      <th>1515</th>\n",
       "      <td>0.527323</td>\n",
       "      <td>1.526966</td>\n",
       "      <td>1.293819</td>\n",
       "      <td>-0.053344</td>\n",
       "      <td>0.371727</td>\n",
       "      <td>-0.202103</td>\n",
       "      <td>-0.308690</td>\n",
       "      <td>-0.474378</td>\n",
       "      <td>-0.428057</td>\n",
       "      <td>-0.450199</td>\n",
       "      <td>...</td>\n",
       "      <td>-0.197548</td>\n",
       "      <td>-0.605579</td>\n",
       "      <td>-0.265245</td>\n",
       "      <td>3.558261</td>\n",
       "      <td>-1.343434</td>\n",
       "      <td>-0.482998</td>\n",
       "      <td>-0.253461</td>\n",
       "      <td>-0.186276</td>\n",
       "      <td>-0.84974</td>\n",
       "      <td>0.84974</td>\n",
       "    </tr>\n",
       "    <tr>\n",
       "      <th>879</th>\n",
       "      <td>-0.404719</td>\n",
       "      <td>0.452247</td>\n",
       "      <td>0.096534</td>\n",
       "      <td>-0.222570</td>\n",
       "      <td>0.371727</td>\n",
       "      <td>1.074877</td>\n",
       "      <td>0.135919</td>\n",
       "      <td>0.947087</td>\n",
       "      <td>2.124777</td>\n",
       "      <td>0.600726</td>\n",
       "      <td>...</td>\n",
       "      <td>-0.197548</td>\n",
       "      <td>-0.605579</td>\n",
       "      <td>-0.265245</td>\n",
       "      <td>3.558261</td>\n",
       "      <td>-1.343434</td>\n",
       "      <td>-0.482998</td>\n",
       "      <td>-0.253461</td>\n",
       "      <td>-0.186276</td>\n",
       "      <td>-0.84974</td>\n",
       "      <td>0.84974</td>\n",
       "    </tr>\n",
       "    <tr>\n",
       "      <th>395</th>\n",
       "      <td>-0.404719</td>\n",
       "      <td>-0.622471</td>\n",
       "      <td>-1.113086</td>\n",
       "      <td>-0.078943</td>\n",
       "      <td>0.371727</td>\n",
       "      <td>-0.287235</td>\n",
       "      <td>1.247440</td>\n",
       "      <td>-0.355923</td>\n",
       "      <td>-0.428057</td>\n",
       "      <td>-0.220906</td>\n",
       "      <td>...</td>\n",
       "      <td>-0.197548</td>\n",
       "      <td>1.650203</td>\n",
       "      <td>-0.265245</td>\n",
       "      <td>-0.280848</td>\n",
       "      <td>0.743862</td>\n",
       "      <td>-0.482998</td>\n",
       "      <td>-0.253461</td>\n",
       "      <td>-0.186276</td>\n",
       "      <td>-0.84974</td>\n",
       "      <td>0.84974</td>\n",
       "    </tr>\n",
       "    <tr>\n",
       "      <th>1802</th>\n",
       "      <td>1.459364</td>\n",
       "      <td>1.526966</td>\n",
       "      <td>2.111026</td>\n",
       "      <td>2.036697</td>\n",
       "      <td>0.371727</td>\n",
       "      <td>-0.819310</td>\n",
       "      <td>-0.975602</td>\n",
       "      <td>-0.592834</td>\n",
       "      <td>-0.696777</td>\n",
       "      <td>-0.717707</td>\n",
       "      <td>...</td>\n",
       "      <td>-0.197548</td>\n",
       "      <td>-0.605579</td>\n",
       "      <td>-0.265245</td>\n",
       "      <td>-0.280848</td>\n",
       "      <td>-1.343434</td>\n",
       "      <td>2.069013</td>\n",
       "      <td>-0.253461</td>\n",
       "      <td>-0.186276</td>\n",
       "      <td>-0.84974</td>\n",
       "      <td>0.84974</td>\n",
       "    </tr>\n",
       "    <tr>\n",
       "      <th>1653</th>\n",
       "      <td>1.459364</td>\n",
       "      <td>0.452247</td>\n",
       "      <td>0.818143</td>\n",
       "      <td>1.310807</td>\n",
       "      <td>0.371727</td>\n",
       "      <td>-0.819310</td>\n",
       "      <td>-0.975602</td>\n",
       "      <td>-0.592834</td>\n",
       "      <td>-0.696777</td>\n",
       "      <td>-0.679491</td>\n",
       "      <td>...</td>\n",
       "      <td>-0.197548</td>\n",
       "      <td>-0.605579</td>\n",
       "      <td>-0.265245</td>\n",
       "      <td>-0.280848</td>\n",
       "      <td>0.743862</td>\n",
       "      <td>-0.482998</td>\n",
       "      <td>-0.253461</td>\n",
       "      <td>-0.186276</td>\n",
       "      <td>-0.84974</td>\n",
       "      <td>0.84974</td>\n",
       "    </tr>\n",
       "    <tr>\n",
       "      <th>1858</th>\n",
       "      <td>1.459364</td>\n",
       "      <td>2.601685</td>\n",
       "      <td>4.255036</td>\n",
       "      <td>12.161520</td>\n",
       "      <td>0.371727</td>\n",
       "      <td>-0.840593</td>\n",
       "      <td>-0.975602</td>\n",
       "      <td>-0.592834</td>\n",
       "      <td>-0.696777</td>\n",
       "      <td>-0.755922</td>\n",
       "      <td>...</td>\n",
       "      <td>-0.197548</td>\n",
       "      <td>-0.605579</td>\n",
       "      <td>-0.265245</td>\n",
       "      <td>-0.280848</td>\n",
       "      <td>-1.343434</td>\n",
       "      <td>2.069013</td>\n",
       "      <td>-0.253461</td>\n",
       "      <td>-0.186276</td>\n",
       "      <td>-0.84974</td>\n",
       "      <td>0.84974</td>\n",
       "    </tr>\n",
       "    <tr>\n",
       "      <th>1217</th>\n",
       "      <td>0.527323</td>\n",
       "      <td>0.452247</td>\n",
       "      <td>-0.403041</td>\n",
       "      <td>-0.305918</td>\n",
       "      <td>0.371727</td>\n",
       "      <td>-0.840593</td>\n",
       "      <td>-0.753298</td>\n",
       "      <td>-0.592834</td>\n",
       "      <td>-0.696777</td>\n",
       "      <td>-0.622168</td>\n",
       "      <td>...</td>\n",
       "      <td>-0.197548</td>\n",
       "      <td>1.650203</td>\n",
       "      <td>-0.265245</td>\n",
       "      <td>-0.280848</td>\n",
       "      <td>0.743862</td>\n",
       "      <td>-0.482998</td>\n",
       "      <td>-0.253461</td>\n",
       "      <td>-0.186276</td>\n",
       "      <td>1.17604</td>\n",
       "      <td>-1.17604</td>\n",
       "    </tr>\n",
       "    <tr>\n",
       "      <th>1587</th>\n",
       "      <td>1.459364</td>\n",
       "      <td>-0.622471</td>\n",
       "      <td>0.420333</td>\n",
       "      <td>-0.116179</td>\n",
       "      <td>0.371727</td>\n",
       "      <td>-0.840593</td>\n",
       "      <td>-0.975602</td>\n",
       "      <td>-0.592834</td>\n",
       "      <td>-0.696777</td>\n",
       "      <td>-0.717707</td>\n",
       "      <td>...</td>\n",
       "      <td>-0.197548</td>\n",
       "      <td>1.650203</td>\n",
       "      <td>-0.265245</td>\n",
       "      <td>-0.280848</td>\n",
       "      <td>0.743862</td>\n",
       "      <td>-0.482998</td>\n",
       "      <td>-0.253461</td>\n",
       "      <td>-0.186276</td>\n",
       "      <td>-0.84974</td>\n",
       "      <td>0.84974</td>\n",
       "    </tr>\n",
       "    <tr>\n",
       "      <th>1670</th>\n",
       "      <td>1.459364</td>\n",
       "      <td>0.452247</td>\n",
       "      <td>1.091059</td>\n",
       "      <td>0.259537</td>\n",
       "      <td>0.371727</td>\n",
       "      <td>-0.457499</td>\n",
       "      <td>1.914353</td>\n",
       "      <td>-0.474378</td>\n",
       "      <td>-0.696777</td>\n",
       "      <td>-0.087152</td>\n",
       "      <td>...</td>\n",
       "      <td>-0.197548</td>\n",
       "      <td>1.650203</td>\n",
       "      <td>-0.265245</td>\n",
       "      <td>-0.280848</td>\n",
       "      <td>0.743862</td>\n",
       "      <td>-0.482998</td>\n",
       "      <td>-0.253461</td>\n",
       "      <td>-0.186276</td>\n",
       "      <td>-0.84974</td>\n",
       "      <td>0.84974</td>\n",
       "    </tr>\n",
       "    <tr>\n",
       "      <th>1295</th>\n",
       "      <td>0.527323</td>\n",
       "      <td>0.452247</td>\n",
       "      <td>0.136624</td>\n",
       "      <td>1.536087</td>\n",
       "      <td>0.371727</td>\n",
       "      <td>-0.840593</td>\n",
       "      <td>-0.975602</td>\n",
       "      <td>-0.592834</td>\n",
       "      <td>-0.696777</td>\n",
       "      <td>-0.755922</td>\n",
       "      <td>...</td>\n",
       "      <td>-0.197548</td>\n",
       "      <td>-0.605579</td>\n",
       "      <td>-0.265245</td>\n",
       "      <td>-0.280848</td>\n",
       "      <td>0.743862</td>\n",
       "      <td>-0.482998</td>\n",
       "      <td>-0.253461</td>\n",
       "      <td>-0.186276</td>\n",
       "      <td>-0.84974</td>\n",
       "      <td>0.84974</td>\n",
       "    </tr>\n",
       "    <tr>\n",
       "      <th>1066</th>\n",
       "      <td>0.527323</td>\n",
       "      <td>-0.622471</td>\n",
       "      <td>-0.162505</td>\n",
       "      <td>0.109331</td>\n",
       "      <td>0.371727</td>\n",
       "      <td>-0.585197</td>\n",
       "      <td>-0.530994</td>\n",
       "      <td>-0.592834</td>\n",
       "      <td>-0.696777</td>\n",
       "      <td>-0.545737</td>\n",
       "      <td>...</td>\n",
       "      <td>-0.197548</td>\n",
       "      <td>-0.605579</td>\n",
       "      <td>-0.265245</td>\n",
       "      <td>-0.280848</td>\n",
       "      <td>0.743862</td>\n",
       "      <td>-0.482998</td>\n",
       "      <td>-0.253461</td>\n",
       "      <td>-0.186276</td>\n",
       "      <td>-0.84974</td>\n",
       "      <td>0.84974</td>\n",
       "    </tr>\n",
       "    <tr>\n",
       "      <th>347</th>\n",
       "      <td>-1.336760</td>\n",
       "      <td>0.452247</td>\n",
       "      <td>-0.505577</td>\n",
       "      <td>-0.366225</td>\n",
       "      <td>0.371727</td>\n",
       "      <td>-0.393650</td>\n",
       "      <td>-0.086385</td>\n",
       "      <td>-0.474378</td>\n",
       "      <td>-0.293698</td>\n",
       "      <td>-0.431091</td>\n",
       "      <td>...</td>\n",
       "      <td>-0.197548</td>\n",
       "      <td>-0.605579</td>\n",
       "      <td>3.767565</td>\n",
       "      <td>-0.280848</td>\n",
       "      <td>0.743862</td>\n",
       "      <td>-0.482998</td>\n",
       "      <td>-0.253461</td>\n",
       "      <td>-0.186276</td>\n",
       "      <td>1.17604</td>\n",
       "      <td>-1.17604</td>\n",
       "    </tr>\n",
       "    <tr>\n",
       "      <th>381</th>\n",
       "      <td>-0.404719</td>\n",
       "      <td>-1.697190</td>\n",
       "      <td>-0.736091</td>\n",
       "      <td>-0.327725</td>\n",
       "      <td>0.371727</td>\n",
       "      <td>-0.457499</td>\n",
       "      <td>-0.530994</td>\n",
       "      <td>-0.592834</td>\n",
       "      <td>-0.696777</td>\n",
       "      <td>-0.316444</td>\n",
       "      <td>...</td>\n",
       "      <td>-0.197548</td>\n",
       "      <td>1.650203</td>\n",
       "      <td>-0.265245</td>\n",
       "      <td>-0.280848</td>\n",
       "      <td>0.743862</td>\n",
       "      <td>-0.482998</td>\n",
       "      <td>-0.253461</td>\n",
       "      <td>-0.186276</td>\n",
       "      <td>-0.84974</td>\n",
       "      <td>0.84974</td>\n",
       "    </tr>\n",
       "    <tr>\n",
       "      <th>66</th>\n",
       "      <td>-2.268801</td>\n",
       "      <td>-1.697190</td>\n",
       "      <td>-1.113086</td>\n",
       "      <td>-0.366225</td>\n",
       "      <td>-2.688343</td>\n",
       "      <td>3.373441</td>\n",
       "      <td>1.025136</td>\n",
       "      <td>3.908472</td>\n",
       "      <td>2.662216</td>\n",
       "      <td>1.651651</td>\n",
       "      <td>...</td>\n",
       "      <td>-0.197548</td>\n",
       "      <td>-0.605579</td>\n",
       "      <td>3.767565</td>\n",
       "      <td>-0.280848</td>\n",
       "      <td>-1.343434</td>\n",
       "      <td>2.069013</td>\n",
       "      <td>-0.253461</td>\n",
       "      <td>-0.186276</td>\n",
       "      <td>1.17604</td>\n",
       "      <td>-1.17604</td>\n",
       "    </tr>\n",
       "    <tr>\n",
       "      <th>1541</th>\n",
       "      <td>0.527323</td>\n",
       "      <td>1.526966</td>\n",
       "      <td>1.962232</td>\n",
       "      <td>0.034257</td>\n",
       "      <td>0.371727</td>\n",
       "      <td>-0.840593</td>\n",
       "      <td>-0.975602</td>\n",
       "      <td>-0.592834</td>\n",
       "      <td>-0.696777</td>\n",
       "      <td>-0.660384</td>\n",
       "      <td>...</td>\n",
       "      <td>-0.197548</td>\n",
       "      <td>1.650203</td>\n",
       "      <td>-0.265245</td>\n",
       "      <td>-0.280848</td>\n",
       "      <td>0.743862</td>\n",
       "      <td>-0.482998</td>\n",
       "      <td>-0.253461</td>\n",
       "      <td>-0.186276</td>\n",
       "      <td>-0.84974</td>\n",
       "      <td>0.84974</td>\n",
       "    </tr>\n",
       "    <tr>\n",
       "      <th>1635</th>\n",
       "      <td>1.459364</td>\n",
       "      <td>0.452247</td>\n",
       "      <td>0.492031</td>\n",
       "      <td>-0.003294</td>\n",
       "      <td>0.371727</td>\n",
       "      <td>-0.755461</td>\n",
       "      <td>-0.975602</td>\n",
       "      <td>-0.474378</td>\n",
       "      <td>-0.696777</td>\n",
       "      <td>-0.603060</td>\n",
       "      <td>...</td>\n",
       "      <td>-0.197548</td>\n",
       "      <td>-0.605579</td>\n",
       "      <td>-0.265245</td>\n",
       "      <td>-0.280848</td>\n",
       "      <td>0.743862</td>\n",
       "      <td>-0.482998</td>\n",
       "      <td>-0.253461</td>\n",
       "      <td>-0.186276</td>\n",
       "      <td>-0.84974</td>\n",
       "      <td>0.84974</td>\n",
       "    </tr>\n",
       "    <tr>\n",
       "      <th>1016</th>\n",
       "      <td>0.527323</td>\n",
       "      <td>-0.622471</td>\n",
       "      <td>-0.516371</td>\n",
       "      <td>0.134385</td>\n",
       "      <td>0.371727</td>\n",
       "      <td>-0.819310</td>\n",
       "      <td>-0.753298</td>\n",
       "      <td>-0.592834</td>\n",
       "      <td>-0.696777</td>\n",
       "      <td>-0.679491</td>\n",
       "      <td>...</td>\n",
       "      <td>-0.197548</td>\n",
       "      <td>-0.605579</td>\n",
       "      <td>-0.265245</td>\n",
       "      <td>-0.280848</td>\n",
       "      <td>0.743862</td>\n",
       "      <td>-0.482998</td>\n",
       "      <td>-0.253461</td>\n",
       "      <td>-0.186276</td>\n",
       "      <td>-0.84974</td>\n",
       "      <td>0.84974</td>\n",
       "    </tr>\n",
       "    <tr>\n",
       "      <th>1690</th>\n",
       "      <td>1.459364</td>\n",
       "      <td>0.452247</td>\n",
       "      <td>1.363975</td>\n",
       "      <td>0.009232</td>\n",
       "      <td>0.371727</td>\n",
       "      <td>-0.840593</td>\n",
       "      <td>-0.975602</td>\n",
       "      <td>-0.592834</td>\n",
       "      <td>-0.696777</td>\n",
       "      <td>-0.755922</td>\n",
       "      <td>...</td>\n",
       "      <td>-0.197548</td>\n",
       "      <td>1.650203</td>\n",
       "      <td>-0.265245</td>\n",
       "      <td>-0.280848</td>\n",
       "      <td>0.743862</td>\n",
       "      <td>-0.482998</td>\n",
       "      <td>-0.253461</td>\n",
       "      <td>-0.186276</td>\n",
       "      <td>-0.84974</td>\n",
       "      <td>0.84974</td>\n",
       "    </tr>\n",
       "    <tr>\n",
       "      <th>130</th>\n",
       "      <td>-1.336760</td>\n",
       "      <td>-1.697190</td>\n",
       "      <td>-1.013633</td>\n",
       "      <td>-0.308907</td>\n",
       "      <td>0.371727</td>\n",
       "      <td>-0.436216</td>\n",
       "      <td>-0.753298</td>\n",
       "      <td>-0.237467</td>\n",
       "      <td>-0.696777</td>\n",
       "      <td>-0.603060</td>\n",
       "      <td>...</td>\n",
       "      <td>-0.197548</td>\n",
       "      <td>1.650203</td>\n",
       "      <td>-0.265245</td>\n",
       "      <td>-0.280848</td>\n",
       "      <td>0.743862</td>\n",
       "      <td>-0.482998</td>\n",
       "      <td>-0.253461</td>\n",
       "      <td>-0.186276</td>\n",
       "      <td>1.17604</td>\n",
       "      <td>-1.17604</td>\n",
       "    </tr>\n",
       "    <tr>\n",
       "      <th>...</th>\n",
       "      <td>...</td>\n",
       "      <td>...</td>\n",
       "      <td>...</td>\n",
       "      <td>...</td>\n",
       "      <td>...</td>\n",
       "      <td>...</td>\n",
       "      <td>...</td>\n",
       "      <td>...</td>\n",
       "      <td>...</td>\n",
       "      <td>...</td>\n",
       "      <td>...</td>\n",
       "      <td>...</td>\n",
       "      <td>...</td>\n",
       "      <td>...</td>\n",
       "      <td>...</td>\n",
       "      <td>...</td>\n",
       "      <td>...</td>\n",
       "      <td>...</td>\n",
       "      <td>...</td>\n",
       "      <td>...</td>\n",
       "      <td>...</td>\n",
       "    </tr>\n",
       "    <tr>\n",
       "      <th>1776</th>\n",
       "      <td>1.459364</td>\n",
       "      <td>1.526966</td>\n",
       "      <td>1.572132</td>\n",
       "      <td>0.009232</td>\n",
       "      <td>0.371727</td>\n",
       "      <td>-0.414933</td>\n",
       "      <td>-0.753298</td>\n",
       "      <td>-0.000557</td>\n",
       "      <td>-0.428057</td>\n",
       "      <td>-0.603060</td>\n",
       "      <td>...</td>\n",
       "      <td>-0.197548</td>\n",
       "      <td>-0.605579</td>\n",
       "      <td>-0.265245</td>\n",
       "      <td>-0.280848</td>\n",
       "      <td>0.743862</td>\n",
       "      <td>-0.482998</td>\n",
       "      <td>-0.253461</td>\n",
       "      <td>-0.186276</td>\n",
       "      <td>-0.84974</td>\n",
       "      <td>0.84974</td>\n",
       "    </tr>\n",
       "    <tr>\n",
       "      <th>1586</th>\n",
       "      <td>1.459364</td>\n",
       "      <td>-0.622471</td>\n",
       "      <td>0.409540</td>\n",
       "      <td>0.121858</td>\n",
       "      <td>0.371727</td>\n",
       "      <td>-0.840593</td>\n",
       "      <td>-0.975602</td>\n",
       "      <td>-0.592834</td>\n",
       "      <td>-0.696777</td>\n",
       "      <td>-0.736814</td>\n",
       "      <td>...</td>\n",
       "      <td>-0.197548</td>\n",
       "      <td>-0.605579</td>\n",
       "      <td>-0.265245</td>\n",
       "      <td>-0.280848</td>\n",
       "      <td>0.743862</td>\n",
       "      <td>-0.482998</td>\n",
       "      <td>-0.253461</td>\n",
       "      <td>-0.186276</td>\n",
       "      <td>-0.84974</td>\n",
       "      <td>0.84974</td>\n",
       "    </tr>\n",
       "    <tr>\n",
       "      <th>1455</th>\n",
       "      <td>0.527323</td>\n",
       "      <td>0.452247</td>\n",
       "      <td>1.524333</td>\n",
       "      <td>-0.065009</td>\n",
       "      <td>0.371727</td>\n",
       "      <td>-0.798027</td>\n",
       "      <td>-0.975602</td>\n",
       "      <td>-0.592834</td>\n",
       "      <td>-0.696777</td>\n",
       "      <td>-0.717707</td>\n",
       "      <td>...</td>\n",
       "      <td>-0.197548</td>\n",
       "      <td>1.650203</td>\n",
       "      <td>-0.265245</td>\n",
       "      <td>-0.280848</td>\n",
       "      <td>-1.343434</td>\n",
       "      <td>2.069013</td>\n",
       "      <td>-0.253461</td>\n",
       "      <td>-0.186276</td>\n",
       "      <td>-0.84974</td>\n",
       "      <td>0.84974</td>\n",
       "    </tr>\n",
       "    <tr>\n",
       "      <th>510</th>\n",
       "      <td>-0.404719</td>\n",
       "      <td>-0.622471</td>\n",
       "      <td>-0.625075</td>\n",
       "      <td>-0.291151</td>\n",
       "      <td>0.371727</td>\n",
       "      <td>0.053293</td>\n",
       "      <td>-0.086385</td>\n",
       "      <td>-0.474378</td>\n",
       "      <td>0.243741</td>\n",
       "      <td>-0.087152</td>\n",
       "      <td>...</td>\n",
       "      <td>-0.197548</td>\n",
       "      <td>-0.605579</td>\n",
       "      <td>-0.265245</td>\n",
       "      <td>-0.280848</td>\n",
       "      <td>0.743862</td>\n",
       "      <td>-0.482998</td>\n",
       "      <td>-0.253461</td>\n",
       "      <td>-0.186276</td>\n",
       "      <td>1.17604</td>\n",
       "      <td>-1.17604</td>\n",
       "    </tr>\n",
       "    <tr>\n",
       "      <th>246</th>\n",
       "      <td>-1.336760</td>\n",
       "      <td>-0.622471</td>\n",
       "      <td>-0.902616</td>\n",
       "      <td>-0.366225</td>\n",
       "      <td>0.371727</td>\n",
       "      <td>-0.095688</td>\n",
       "      <td>-0.308690</td>\n",
       "      <td>-0.237467</td>\n",
       "      <td>-0.562417</td>\n",
       "      <td>-0.373768</td>\n",
       "      <td>...</td>\n",
       "      <td>-0.197548</td>\n",
       "      <td>-0.605579</td>\n",
       "      <td>-0.265245</td>\n",
       "      <td>-0.280848</td>\n",
       "      <td>0.743862</td>\n",
       "      <td>-0.482998</td>\n",
       "      <td>-0.253461</td>\n",
       "      <td>-0.186276</td>\n",
       "      <td>1.17604</td>\n",
       "      <td>-1.17604</td>\n",
       "    </tr>\n",
       "    <tr>\n",
       "      <th>383</th>\n",
       "      <td>-0.404719</td>\n",
       "      <td>-1.697190</td>\n",
       "      <td>-0.708337</td>\n",
       "      <td>-0.028319</td>\n",
       "      <td>0.371727</td>\n",
       "      <td>-0.776744</td>\n",
       "      <td>-0.753298</td>\n",
       "      <td>-0.592834</td>\n",
       "      <td>-0.696777</td>\n",
       "      <td>-0.469306</td>\n",
       "      <td>...</td>\n",
       "      <td>-0.197548</td>\n",
       "      <td>-0.605579</td>\n",
       "      <td>-0.265245</td>\n",
       "      <td>-0.280848</td>\n",
       "      <td>0.743862</td>\n",
       "      <td>-0.482998</td>\n",
       "      <td>-0.253461</td>\n",
       "      <td>-0.186276</td>\n",
       "      <td>-0.84974</td>\n",
       "      <td>0.84974</td>\n",
       "    </tr>\n",
       "    <tr>\n",
       "      <th>969</th>\n",
       "      <td>0.527323</td>\n",
       "      <td>-0.622471</td>\n",
       "      <td>-0.988963</td>\n",
       "      <td>-0.078886</td>\n",
       "      <td>0.371727</td>\n",
       "      <td>-0.287235</td>\n",
       "      <td>1.247440</td>\n",
       "      <td>-0.474378</td>\n",
       "      <td>-0.428057</td>\n",
       "      <td>-0.297337</td>\n",
       "      <td>...</td>\n",
       "      <td>-0.197548</td>\n",
       "      <td>1.650203</td>\n",
       "      <td>-0.265245</td>\n",
       "      <td>-0.280848</td>\n",
       "      <td>-1.343434</td>\n",
       "      <td>2.069013</td>\n",
       "      <td>-0.253461</td>\n",
       "      <td>-0.186276</td>\n",
       "      <td>-0.84974</td>\n",
       "      <td>0.84974</td>\n",
       "    </tr>\n",
       "    <tr>\n",
       "      <th>1360</th>\n",
       "      <td>0.527323</td>\n",
       "      <td>0.452247</td>\n",
       "      <td>0.539059</td>\n",
       "      <td>-0.222570</td>\n",
       "      <td>-2.688343</td>\n",
       "      <td>0.244840</td>\n",
       "      <td>0.580527</td>\n",
       "      <td>-0.237467</td>\n",
       "      <td>-0.024978</td>\n",
       "      <td>0.256787</td>\n",
       "      <td>...</td>\n",
       "      <td>-0.197548</td>\n",
       "      <td>-0.605579</td>\n",
       "      <td>-0.265245</td>\n",
       "      <td>-0.280848</td>\n",
       "      <td>0.743862</td>\n",
       "      <td>-0.482998</td>\n",
       "      <td>-0.253461</td>\n",
       "      <td>-0.186276</td>\n",
       "      <td>-0.84974</td>\n",
       "      <td>0.84974</td>\n",
       "    </tr>\n",
       "    <tr>\n",
       "      <th>1349</th>\n",
       "      <td>0.527323</td>\n",
       "      <td>0.452247</td>\n",
       "      <td>0.478925</td>\n",
       "      <td>3.688704</td>\n",
       "      <td>0.371727</td>\n",
       "      <td>-0.840593</td>\n",
       "      <td>-0.975602</td>\n",
       "      <td>-0.592834</td>\n",
       "      <td>-0.696777</td>\n",
       "      <td>-0.755922</td>\n",
       "      <td>...</td>\n",
       "      <td>-0.197548</td>\n",
       "      <td>1.650203</td>\n",
       "      <td>-0.265245</td>\n",
       "      <td>3.558261</td>\n",
       "      <td>-1.343434</td>\n",
       "      <td>-0.482998</td>\n",
       "      <td>-0.253461</td>\n",
       "      <td>-0.186276</td>\n",
       "      <td>-0.84974</td>\n",
       "      <td>0.84974</td>\n",
       "    </tr>\n",
       "    <tr>\n",
       "      <th>1500</th>\n",
       "      <td>0.527323</td>\n",
       "      <td>1.526966</td>\n",
       "      <td>0.737964</td>\n",
       "      <td>-0.156230</td>\n",
       "      <td>0.371727</td>\n",
       "      <td>0.500236</td>\n",
       "      <td>0.580527</td>\n",
       "      <td>0.473265</td>\n",
       "      <td>0.512461</td>\n",
       "      <td>-0.029829</td>\n",
       "      <td>...</td>\n",
       "      <td>-0.197548</td>\n",
       "      <td>1.650203</td>\n",
       "      <td>-0.265245</td>\n",
       "      <td>-0.280848</td>\n",
       "      <td>-1.343434</td>\n",
       "      <td>-0.482998</td>\n",
       "      <td>3.942729</td>\n",
       "      <td>-0.186276</td>\n",
       "      <td>-0.84974</td>\n",
       "      <td>0.84974</td>\n",
       "    </tr>\n",
       "    <tr>\n",
       "      <th>120</th>\n",
       "      <td>-1.336760</td>\n",
       "      <td>-1.697190</td>\n",
       "      <td>-1.050639</td>\n",
       "      <td>-0.366225</td>\n",
       "      <td>0.371727</td>\n",
       "      <td>0.691783</td>\n",
       "      <td>1.025136</td>\n",
       "      <td>0.354810</td>\n",
       "      <td>0.512461</td>\n",
       "      <td>1.154850</td>\n",
       "      <td>...</td>\n",
       "      <td>-0.197548</td>\n",
       "      <td>-0.605579</td>\n",
       "      <td>-0.265245</td>\n",
       "      <td>-0.280848</td>\n",
       "      <td>0.743862</td>\n",
       "      <td>-0.482998</td>\n",
       "      <td>-0.253461</td>\n",
       "      <td>-0.186276</td>\n",
       "      <td>1.17604</td>\n",
       "      <td>-1.17604</td>\n",
       "    </tr>\n",
       "    <tr>\n",
       "      <th>442</th>\n",
       "      <td>-0.404719</td>\n",
       "      <td>-0.622471</td>\n",
       "      <td>-0.800080</td>\n",
       "      <td>-0.028319</td>\n",
       "      <td>0.371727</td>\n",
       "      <td>-0.712895</td>\n",
       "      <td>-0.753298</td>\n",
       "      <td>-0.474378</td>\n",
       "      <td>-0.696777</td>\n",
       "      <td>-0.335552</td>\n",
       "      <td>...</td>\n",
       "      <td>-0.197548</td>\n",
       "      <td>-0.605579</td>\n",
       "      <td>-0.265245</td>\n",
       "      <td>-0.280848</td>\n",
       "      <td>0.743862</td>\n",
       "      <td>-0.482998</td>\n",
       "      <td>-0.253461</td>\n",
       "      <td>-0.186276</td>\n",
       "      <td>-0.84974</td>\n",
       "      <td>0.84974</td>\n",
       "    </tr>\n",
       "    <tr>\n",
       "      <th>1398</th>\n",
       "      <td>0.527323</td>\n",
       "      <td>0.452247</td>\n",
       "      <td>0.857462</td>\n",
       "      <td>0.071780</td>\n",
       "      <td>0.371727</td>\n",
       "      <td>-0.798027</td>\n",
       "      <td>-0.975602</td>\n",
       "      <td>-0.592834</td>\n",
       "      <td>-0.696777</td>\n",
       "      <td>-0.736814</td>\n",
       "      <td>...</td>\n",
       "      <td>-0.197548</td>\n",
       "      <td>-0.605579</td>\n",
       "      <td>-0.265245</td>\n",
       "      <td>-0.280848</td>\n",
       "      <td>0.743862</td>\n",
       "      <td>-0.482998</td>\n",
       "      <td>-0.253461</td>\n",
       "      <td>-0.186276</td>\n",
       "      <td>-0.84974</td>\n",
       "      <td>0.84974</td>\n",
       "    </tr>\n",
       "    <tr>\n",
       "      <th>1818</th>\n",
       "      <td>1.459364</td>\n",
       "      <td>1.526966</td>\n",
       "      <td>2.687696</td>\n",
       "      <td>0.497316</td>\n",
       "      <td>0.371727</td>\n",
       "      <td>-0.755461</td>\n",
       "      <td>-0.975602</td>\n",
       "      <td>-0.474378</td>\n",
       "      <td>-0.696777</td>\n",
       "      <td>-0.679491</td>\n",
       "      <td>...</td>\n",
       "      <td>-0.197548</td>\n",
       "      <td>-0.605579</td>\n",
       "      <td>-0.265245</td>\n",
       "      <td>3.558261</td>\n",
       "      <td>-1.343434</td>\n",
       "      <td>-0.482998</td>\n",
       "      <td>-0.253461</td>\n",
       "      <td>-0.186276</td>\n",
       "      <td>-0.84974</td>\n",
       "      <td>0.84974</td>\n",
       "    </tr>\n",
       "    <tr>\n",
       "      <th>1772</th>\n",
       "      <td>1.459364</td>\n",
       "      <td>1.526966</td>\n",
       "      <td>1.474221</td>\n",
       "      <td>1.310807</td>\n",
       "      <td>0.371727</td>\n",
       "      <td>-0.819310</td>\n",
       "      <td>-0.975602</td>\n",
       "      <td>-0.592834</td>\n",
       "      <td>-0.428057</td>\n",
       "      <td>-0.736814</td>\n",
       "      <td>...</td>\n",
       "      <td>-0.197548</td>\n",
       "      <td>-0.605579</td>\n",
       "      <td>-0.265245</td>\n",
       "      <td>3.558261</td>\n",
       "      <td>-1.343434</td>\n",
       "      <td>-0.482998</td>\n",
       "      <td>-0.253461</td>\n",
       "      <td>-0.186276</td>\n",
       "      <td>-0.84974</td>\n",
       "      <td>0.84974</td>\n",
       "    </tr>\n",
       "    <tr>\n",
       "      <th>1182</th>\n",
       "      <td>0.527323</td>\n",
       "      <td>0.452247</td>\n",
       "      <td>-0.637410</td>\n",
       "      <td>-0.321663</td>\n",
       "      <td>0.371727</td>\n",
       "      <td>0.415104</td>\n",
       "      <td>-0.086385</td>\n",
       "      <td>0.473265</td>\n",
       "      <td>-0.024978</td>\n",
       "      <td>0.715373</td>\n",
       "      <td>...</td>\n",
       "      <td>-0.197548</td>\n",
       "      <td>-0.605579</td>\n",
       "      <td>-0.265245</td>\n",
       "      <td>-0.280848</td>\n",
       "      <td>-1.343434</td>\n",
       "      <td>2.069013</td>\n",
       "      <td>-0.253461</td>\n",
       "      <td>-0.186276</td>\n",
       "      <td>1.17604</td>\n",
       "      <td>-1.17604</td>\n",
       "    </tr>\n",
       "    <tr>\n",
       "      <th>1707</th>\n",
       "      <td>1.459364</td>\n",
       "      <td>0.452247</td>\n",
       "      <td>1.740970</td>\n",
       "      <td>0.034257</td>\n",
       "      <td>0.371727</td>\n",
       "      <td>-0.840593</td>\n",
       "      <td>-0.975602</td>\n",
       "      <td>-0.592834</td>\n",
       "      <td>-0.696777</td>\n",
       "      <td>-0.717707</td>\n",
       "      <td>...</td>\n",
       "      <td>-0.197548</td>\n",
       "      <td>-0.605579</td>\n",
       "      <td>-0.265245</td>\n",
       "      <td>-0.280848</td>\n",
       "      <td>0.743862</td>\n",
       "      <td>-0.482998</td>\n",
       "      <td>-0.253461</td>\n",
       "      <td>-0.186276</td>\n",
       "      <td>-0.84974</td>\n",
       "      <td>0.84974</td>\n",
       "    </tr>\n",
       "    <tr>\n",
       "      <th>30</th>\n",
       "      <td>-2.268801</td>\n",
       "      <td>-1.697190</td>\n",
       "      <td>-1.233354</td>\n",
       "      <td>-0.366225</td>\n",
       "      <td>0.371727</td>\n",
       "      <td>1.330273</td>\n",
       "      <td>0.802832</td>\n",
       "      <td>0.354810</td>\n",
       "      <td>0.781180</td>\n",
       "      <td>1.212174</td>\n",
       "      <td>...</td>\n",
       "      <td>5.058652</td>\n",
       "      <td>-0.605579</td>\n",
       "      <td>-0.265245</td>\n",
       "      <td>-0.280848</td>\n",
       "      <td>-1.343434</td>\n",
       "      <td>-0.482998</td>\n",
       "      <td>3.942729</td>\n",
       "      <td>-0.186276</td>\n",
       "      <td>1.17604</td>\n",
       "      <td>-1.17604</td>\n",
       "    </tr>\n",
       "    <tr>\n",
       "      <th>1178</th>\n",
       "      <td>0.527323</td>\n",
       "      <td>0.452247</td>\n",
       "      <td>-0.660538</td>\n",
       "      <td>0.021730</td>\n",
       "      <td>0.371727</td>\n",
       "      <td>-0.691612</td>\n",
       "      <td>-0.753298</td>\n",
       "      <td>-0.592834</td>\n",
       "      <td>-0.293698</td>\n",
       "      <td>-0.564845</td>\n",
       "      <td>...</td>\n",
       "      <td>-0.197548</td>\n",
       "      <td>-0.605579</td>\n",
       "      <td>-0.265245</td>\n",
       "      <td>-0.280848</td>\n",
       "      <td>0.743862</td>\n",
       "      <td>-0.482998</td>\n",
       "      <td>-0.253461</td>\n",
       "      <td>-0.186276</td>\n",
       "      <td>-0.84974</td>\n",
       "      <td>0.84974</td>\n",
       "    </tr>\n",
       "    <tr>\n",
       "      <th>1257</th>\n",
       "      <td>0.527323</td>\n",
       "      <td>0.452247</td>\n",
       "      <td>-0.039153</td>\n",
       "      <td>0.009232</td>\n",
       "      <td>0.371727</td>\n",
       "      <td>-0.053122</td>\n",
       "      <td>-0.086385</td>\n",
       "      <td>-0.000557</td>\n",
       "      <td>0.109381</td>\n",
       "      <td>0.466972</td>\n",
       "      <td>...</td>\n",
       "      <td>-0.197548</td>\n",
       "      <td>-0.605579</td>\n",
       "      <td>-0.265245</td>\n",
       "      <td>-0.280848</td>\n",
       "      <td>0.743862</td>\n",
       "      <td>-0.482998</td>\n",
       "      <td>-0.253461</td>\n",
       "      <td>-0.186276</td>\n",
       "      <td>-0.84974</td>\n",
       "      <td>0.84974</td>\n",
       "    </tr>\n",
       "    <tr>\n",
       "      <th>279</th>\n",
       "      <td>-1.336760</td>\n",
       "      <td>-0.622471</td>\n",
       "      <td>-0.850192</td>\n",
       "      <td>-0.366225</td>\n",
       "      <td>0.371727</td>\n",
       "      <td>-0.500065</td>\n",
       "      <td>-0.753298</td>\n",
       "      <td>-0.474378</td>\n",
       "      <td>-0.293698</td>\n",
       "      <td>-0.660384</td>\n",
       "      <td>...</td>\n",
       "      <td>-0.197548</td>\n",
       "      <td>1.650203</td>\n",
       "      <td>-0.265245</td>\n",
       "      <td>-0.280848</td>\n",
       "      <td>0.743862</td>\n",
       "      <td>-0.482998</td>\n",
       "      <td>-0.253461</td>\n",
       "      <td>-0.186276</td>\n",
       "      <td>1.17604</td>\n",
       "      <td>-1.17604</td>\n",
       "    </tr>\n",
       "    <tr>\n",
       "      <th>689</th>\n",
       "      <td>-0.404719</td>\n",
       "      <td>-0.622471</td>\n",
       "      <td>0.445003</td>\n",
       "      <td>-0.266126</td>\n",
       "      <td>0.371727</td>\n",
       "      <td>-0.351084</td>\n",
       "      <td>-0.308690</td>\n",
       "      <td>-0.474378</td>\n",
       "      <td>0.109381</td>\n",
       "      <td>-0.335552</td>\n",
       "      <td>...</td>\n",
       "      <td>-0.197548</td>\n",
       "      <td>-0.605579</td>\n",
       "      <td>-0.265245</td>\n",
       "      <td>-0.280848</td>\n",
       "      <td>0.743862</td>\n",
       "      <td>-0.482998</td>\n",
       "      <td>-0.253461</td>\n",
       "      <td>-0.186276</td>\n",
       "      <td>1.17604</td>\n",
       "      <td>-1.17604</td>\n",
       "    </tr>\n",
       "    <tr>\n",
       "      <th>1679</th>\n",
       "      <td>1.459364</td>\n",
       "      <td>0.452247</td>\n",
       "      <td>1.208244</td>\n",
       "      <td>0.209459</td>\n",
       "      <td>0.371727</td>\n",
       "      <td>-0.627763</td>\n",
       "      <td>-0.308690</td>\n",
       "      <td>-0.355923</td>\n",
       "      <td>-0.562417</td>\n",
       "      <td>-0.431091</td>\n",
       "      <td>...</td>\n",
       "      <td>-0.197548</td>\n",
       "      <td>1.650203</td>\n",
       "      <td>-0.265245</td>\n",
       "      <td>3.558261</td>\n",
       "      <td>-1.343434</td>\n",
       "      <td>-0.482998</td>\n",
       "      <td>-0.253461</td>\n",
       "      <td>-0.186276</td>\n",
       "      <td>-0.84974</td>\n",
       "      <td>0.84974</td>\n",
       "    </tr>\n",
       "    <tr>\n",
       "      <th>664</th>\n",
       "      <td>-0.404719</td>\n",
       "      <td>-0.622471</td>\n",
       "      <td>0.084199</td>\n",
       "      <td>-0.298994</td>\n",
       "      <td>0.371727</td>\n",
       "      <td>-0.053122</td>\n",
       "      <td>0.135919</td>\n",
       "      <td>-0.119012</td>\n",
       "      <td>-0.159338</td>\n",
       "      <td>-0.029829</td>\n",
       "      <td>...</td>\n",
       "      <td>-0.197548</td>\n",
       "      <td>-0.605579</td>\n",
       "      <td>-0.265245</td>\n",
       "      <td>-0.280848</td>\n",
       "      <td>0.743862</td>\n",
       "      <td>-0.482998</td>\n",
       "      <td>-0.253461</td>\n",
       "      <td>-0.186276</td>\n",
       "      <td>1.17604</td>\n",
       "      <td>-1.17604</td>\n",
       "    </tr>\n",
       "    <tr>\n",
       "      <th>1396</th>\n",
       "      <td>0.527323</td>\n",
       "      <td>0.452247</td>\n",
       "      <td>0.846668</td>\n",
       "      <td>-0.053976</td>\n",
       "      <td>0.371727</td>\n",
       "      <td>-0.095688</td>\n",
       "      <td>0.135919</td>\n",
       "      <td>-0.237467</td>\n",
       "      <td>-0.159338</td>\n",
       "      <td>-0.144475</td>\n",
       "      <td>...</td>\n",
       "      <td>-0.197548</td>\n",
       "      <td>-0.605579</td>\n",
       "      <td>-0.265245</td>\n",
       "      <td>-0.280848</td>\n",
       "      <td>0.743862</td>\n",
       "      <td>-0.482998</td>\n",
       "      <td>-0.253461</td>\n",
       "      <td>-0.186276</td>\n",
       "      <td>-0.84974</td>\n",
       "      <td>0.84974</td>\n",
       "    </tr>\n",
       "    <tr>\n",
       "      <th>1228</th>\n",
       "      <td>0.527323</td>\n",
       "      <td>0.452247</td>\n",
       "      <td>-0.302818</td>\n",
       "      <td>-0.063630</td>\n",
       "      <td>0.371727</td>\n",
       "      <td>-0.606480</td>\n",
       "      <td>-0.753298</td>\n",
       "      <td>-0.592834</td>\n",
       "      <td>-0.562417</td>\n",
       "      <td>0.103926</td>\n",
       "      <td>...</td>\n",
       "      <td>-0.197548</td>\n",
       "      <td>-0.605579</td>\n",
       "      <td>-0.265245</td>\n",
       "      <td>-0.280848</td>\n",
       "      <td>0.743862</td>\n",
       "      <td>-0.482998</td>\n",
       "      <td>-0.253461</td>\n",
       "      <td>-0.186276</td>\n",
       "      <td>-0.84974</td>\n",
       "      <td>0.84974</td>\n",
       "    </tr>\n",
       "    <tr>\n",
       "      <th>1077</th>\n",
       "      <td>0.527323</td>\n",
       "      <td>-0.622471</td>\n",
       "      <td>-0.032985</td>\n",
       "      <td>-0.282646</td>\n",
       "      <td>0.371727</td>\n",
       "      <td>-0.798027</td>\n",
       "      <td>-0.975602</td>\n",
       "      <td>-0.592834</td>\n",
       "      <td>-0.696777</td>\n",
       "      <td>-0.603060</td>\n",
       "      <td>...</td>\n",
       "      <td>-0.197548</td>\n",
       "      <td>-0.605579</td>\n",
       "      <td>-0.265245</td>\n",
       "      <td>-0.280848</td>\n",
       "      <td>-1.343434</td>\n",
       "      <td>2.069013</td>\n",
       "      <td>-0.253461</td>\n",
       "      <td>-0.186276</td>\n",
       "      <td>1.17604</td>\n",
       "      <td>-1.17604</td>\n",
       "    </tr>\n",
       "    <tr>\n",
       "      <th>1318</th>\n",
       "      <td>0.527323</td>\n",
       "      <td>0.452247</td>\n",
       "      <td>0.250724</td>\n",
       "      <td>-0.061503</td>\n",
       "      <td>0.371727</td>\n",
       "      <td>-0.840593</td>\n",
       "      <td>-0.975602</td>\n",
       "      <td>-0.474378</td>\n",
       "      <td>-0.696777</td>\n",
       "      <td>-0.717707</td>\n",
       "      <td>...</td>\n",
       "      <td>-0.197548</td>\n",
       "      <td>-0.605579</td>\n",
       "      <td>-0.265245</td>\n",
       "      <td>-0.280848</td>\n",
       "      <td>0.743862</td>\n",
       "      <td>-0.482998</td>\n",
       "      <td>-0.253461</td>\n",
       "      <td>-0.186276</td>\n",
       "      <td>-0.84974</td>\n",
       "      <td>0.84974</td>\n",
       "    </tr>\n",
       "    <tr>\n",
       "      <th>723</th>\n",
       "      <td>-0.404719</td>\n",
       "      <td>0.452247</td>\n",
       "      <td>-0.742259</td>\n",
       "      <td>-0.312211</td>\n",
       "      <td>0.371727</td>\n",
       "      <td>-0.202103</td>\n",
       "      <td>0.580527</td>\n",
       "      <td>-0.474378</td>\n",
       "      <td>-0.024978</td>\n",
       "      <td>-0.240014</td>\n",
       "      <td>...</td>\n",
       "      <td>-0.197548</td>\n",
       "      <td>-0.605579</td>\n",
       "      <td>-0.265245</td>\n",
       "      <td>-0.280848</td>\n",
       "      <td>-1.343434</td>\n",
       "      <td>2.069013</td>\n",
       "      <td>-0.253461</td>\n",
       "      <td>-0.186276</td>\n",
       "      <td>-0.84974</td>\n",
       "      <td>0.84974</td>\n",
       "    </tr>\n",
       "    <tr>\n",
       "      <th>815</th>\n",
       "      <td>-0.404719</td>\n",
       "      <td>0.452247</td>\n",
       "      <td>-0.372203</td>\n",
       "      <td>-0.310171</td>\n",
       "      <td>0.371727</td>\n",
       "      <td>0.606651</td>\n",
       "      <td>1.469744</td>\n",
       "      <td>-0.119012</td>\n",
       "      <td>-0.024978</td>\n",
       "      <td>0.237680</td>\n",
       "      <td>...</td>\n",
       "      <td>-0.197548</td>\n",
       "      <td>1.650203</td>\n",
       "      <td>-0.265245</td>\n",
       "      <td>-0.280848</td>\n",
       "      <td>0.743862</td>\n",
       "      <td>-0.482998</td>\n",
       "      <td>-0.253461</td>\n",
       "      <td>-0.186276</td>\n",
       "      <td>1.17604</td>\n",
       "      <td>-1.17604</td>\n",
       "    </tr>\n",
       "  </tbody>\n",
       "</table>\n",
       "<p>1490 rows × 42 columns</p>\n",
       "</div>"
      ],
      "text/plain": [
       "          beds     baths      sqft   lot_size  basement  restaurants  \\\n",
       "1689  1.459364  0.452247  1.356266  -0.153472  0.371727    -0.691612   \n",
       "1531  0.527323  1.526966  1.666188   0.422213  0.371727    -0.840593   \n",
       "668  -0.404719 -0.622471  0.128914  -0.291266  0.371727    -0.542631   \n",
       "1740  1.459364  1.526966  0.557562   0.209459  0.371727    -0.116971   \n",
       "117  -1.336760 -1.697190 -1.056806  -0.366225  0.371727     1.904914   \n",
       "22   -2.268801 -1.697190 -1.248773  -0.366225  0.371727     0.904613   \n",
       "1196  0.527323  0.452247 -0.557231  -0.320255  0.371727    -0.372367   \n",
       "319  -1.336760 -0.622471 -0.652829  -0.327869  0.371727     0.159708   \n",
       "1667  1.459364  0.452247  1.037093   0.347138  0.371727    -0.798027   \n",
       "821  -0.404719  0.452247 -0.335197  -0.318503  0.371727     0.925896   \n",
       "406  -0.404719 -0.622471 -0.970460  -0.366225  0.371727    -0.159537   \n",
       "1515  0.527323  1.526966  1.293819  -0.053344  0.371727    -0.202103   \n",
       "879  -0.404719  0.452247  0.096534  -0.222570  0.371727     1.074877   \n",
       "395  -0.404719 -0.622471 -1.113086  -0.078943  0.371727    -0.287235   \n",
       "1802  1.459364  1.526966  2.111026   2.036697  0.371727    -0.819310   \n",
       "1653  1.459364  0.452247  0.818143   1.310807  0.371727    -0.819310   \n",
       "1858  1.459364  2.601685  4.255036  12.161520  0.371727    -0.840593   \n",
       "1217  0.527323  0.452247 -0.403041  -0.305918  0.371727    -0.840593   \n",
       "1587  1.459364 -0.622471  0.420333  -0.116179  0.371727    -0.840593   \n",
       "1670  1.459364  0.452247  1.091059   0.259537  0.371727    -0.457499   \n",
       "1295  0.527323  0.452247  0.136624   1.536087  0.371727    -0.840593   \n",
       "1066  0.527323 -0.622471 -0.162505   0.109331  0.371727    -0.585197   \n",
       "347  -1.336760  0.452247 -0.505577  -0.366225  0.371727    -0.393650   \n",
       "381  -0.404719 -1.697190 -0.736091  -0.327725  0.371727    -0.457499   \n",
       "66   -2.268801 -1.697190 -1.113086  -0.366225 -2.688343     3.373441   \n",
       "1541  0.527323  1.526966  1.962232   0.034257  0.371727    -0.840593   \n",
       "1635  1.459364  0.452247  0.492031  -0.003294  0.371727    -0.755461   \n",
       "1016  0.527323 -0.622471 -0.516371   0.134385  0.371727    -0.819310   \n",
       "1690  1.459364  0.452247  1.363975   0.009232  0.371727    -0.840593   \n",
       "130  -1.336760 -1.697190 -1.013633  -0.308907  0.371727    -0.436216   \n",
       "...        ...       ...       ...        ...       ...          ...   \n",
       "1776  1.459364  1.526966  1.572132   0.009232  0.371727    -0.414933   \n",
       "1586  1.459364 -0.622471  0.409540   0.121858  0.371727    -0.840593   \n",
       "1455  0.527323  0.452247  1.524333  -0.065009  0.371727    -0.798027   \n",
       "510  -0.404719 -0.622471 -0.625075  -0.291151  0.371727     0.053293   \n",
       "246  -1.336760 -0.622471 -0.902616  -0.366225  0.371727    -0.095688   \n",
       "383  -0.404719 -1.697190 -0.708337  -0.028319  0.371727    -0.776744   \n",
       "969   0.527323 -0.622471 -0.988963  -0.078886  0.371727    -0.287235   \n",
       "1360  0.527323  0.452247  0.539059  -0.222570 -2.688343     0.244840   \n",
       "1349  0.527323  0.452247  0.478925   3.688704  0.371727    -0.840593   \n",
       "1500  0.527323  1.526966  0.737964  -0.156230  0.371727     0.500236   \n",
       "120  -1.336760 -1.697190 -1.050639  -0.366225  0.371727     0.691783   \n",
       "442  -0.404719 -0.622471 -0.800080  -0.028319  0.371727    -0.712895   \n",
       "1398  0.527323  0.452247  0.857462   0.071780  0.371727    -0.798027   \n",
       "1818  1.459364  1.526966  2.687696   0.497316  0.371727    -0.755461   \n",
       "1772  1.459364  1.526966  1.474221   1.310807  0.371727    -0.819310   \n",
       "1182  0.527323  0.452247 -0.637410  -0.321663  0.371727     0.415104   \n",
       "1707  1.459364  0.452247  1.740970   0.034257  0.371727    -0.840593   \n",
       "30   -2.268801 -1.697190 -1.233354  -0.366225  0.371727     1.330273   \n",
       "1178  0.527323  0.452247 -0.660538   0.021730  0.371727    -0.691612   \n",
       "1257  0.527323  0.452247 -0.039153   0.009232  0.371727    -0.053122   \n",
       "279  -1.336760 -0.622471 -0.850192  -0.366225  0.371727    -0.500065   \n",
       "689  -0.404719 -0.622471  0.445003  -0.266126  0.371727    -0.351084   \n",
       "1679  1.459364  0.452247  1.208244   0.209459  0.371727    -0.627763   \n",
       "664  -0.404719 -0.622471  0.084199  -0.298994  0.371727    -0.053122   \n",
       "1396  0.527323  0.452247  0.846668  -0.053976  0.371727    -0.095688   \n",
       "1228  0.527323  0.452247 -0.302818  -0.063630  0.371727    -0.606480   \n",
       "1077  0.527323 -0.622471 -0.032985  -0.282646  0.371727    -0.798027   \n",
       "1318  0.527323  0.452247  0.250724  -0.061503  0.371727    -0.840593   \n",
       "723  -0.404719  0.452247 -0.742259  -0.312211  0.371727    -0.202103   \n",
       "815  -0.404719  0.452247 -0.372203  -0.310171  0.371727     0.606651   \n",
       "\n",
       "      groceries  nightlife     cafes  shopping             ...               \\\n",
       "1689  -0.530994  -0.474378 -0.562417 -0.660384             ...                \n",
       "1531  -0.975602  -0.592834 -0.696777 -0.736814             ...                \n",
       "668   -0.753298  -0.474378 -0.562417 -0.488414             ...                \n",
       "1740  -0.530994   0.117899 -0.024978 -0.144475             ...                \n",
       "117    0.802832   2.013186  2.662216  5.320335             ...                \n",
       "22     0.358223   0.236354  0.378101  0.103926             ...                \n",
       "1196  -0.753298  -0.119012 -0.696777 -0.431091             ...                \n",
       "319    0.358223   0.117899 -0.159338  0.065710             ...                \n",
       "1667  -0.975602  -0.474378 -0.562417 -0.679491             ...                \n",
       "821    0.802832  -0.119012  0.512461  2.702576             ...                \n",
       "406   -0.308690  -0.592834  0.243741  0.887342             ...                \n",
       "1515  -0.308690  -0.474378 -0.428057 -0.450199             ...                \n",
       "879    0.135919   0.947087  2.124777  0.600726             ...                \n",
       "395    1.247440  -0.355923 -0.428057 -0.220906             ...                \n",
       "1802  -0.975602  -0.592834 -0.696777 -0.717707             ...                \n",
       "1653  -0.975602  -0.592834 -0.696777 -0.679491             ...                \n",
       "1858  -0.975602  -0.592834 -0.696777 -0.755922             ...                \n",
       "1217  -0.753298  -0.592834 -0.696777 -0.622168             ...                \n",
       "1587  -0.975602  -0.592834 -0.696777 -0.717707             ...                \n",
       "1670   1.914353  -0.474378 -0.696777 -0.087152             ...                \n",
       "1295  -0.975602  -0.592834 -0.696777 -0.755922             ...                \n",
       "1066  -0.530994  -0.592834 -0.696777 -0.545737             ...                \n",
       "347   -0.086385  -0.474378 -0.293698 -0.431091             ...                \n",
       "381   -0.530994  -0.592834 -0.696777 -0.316444             ...                \n",
       "66     1.025136   3.908472  2.662216  1.651651             ...                \n",
       "1541  -0.975602  -0.592834 -0.696777 -0.660384             ...                \n",
       "1635  -0.975602  -0.474378 -0.696777 -0.603060             ...                \n",
       "1016  -0.753298  -0.592834 -0.696777 -0.679491             ...                \n",
       "1690  -0.975602  -0.592834 -0.696777 -0.755922             ...                \n",
       "130   -0.753298  -0.237467 -0.696777 -0.603060             ...                \n",
       "...         ...        ...       ...       ...             ...                \n",
       "1776  -0.753298  -0.000557 -0.428057 -0.603060             ...                \n",
       "1586  -0.975602  -0.592834 -0.696777 -0.736814             ...                \n",
       "1455  -0.975602  -0.592834 -0.696777 -0.717707             ...                \n",
       "510   -0.086385  -0.474378  0.243741 -0.087152             ...                \n",
       "246   -0.308690  -0.237467 -0.562417 -0.373768             ...                \n",
       "383   -0.753298  -0.592834 -0.696777 -0.469306             ...                \n",
       "969    1.247440  -0.474378 -0.428057 -0.297337             ...                \n",
       "1360   0.580527  -0.237467 -0.024978  0.256787             ...                \n",
       "1349  -0.975602  -0.592834 -0.696777 -0.755922             ...                \n",
       "1500   0.580527   0.473265  0.512461 -0.029829             ...                \n",
       "120    1.025136   0.354810  0.512461  1.154850             ...                \n",
       "442   -0.753298  -0.474378 -0.696777 -0.335552             ...                \n",
       "1398  -0.975602  -0.592834 -0.696777 -0.736814             ...                \n",
       "1818  -0.975602  -0.474378 -0.696777 -0.679491             ...                \n",
       "1772  -0.975602  -0.592834 -0.428057 -0.736814             ...                \n",
       "1182  -0.086385   0.473265 -0.024978  0.715373             ...                \n",
       "1707  -0.975602  -0.592834 -0.696777 -0.717707             ...                \n",
       "30     0.802832   0.354810  0.781180  1.212174             ...                \n",
       "1178  -0.753298  -0.592834 -0.293698 -0.564845             ...                \n",
       "1257  -0.086385  -0.000557  0.109381  0.466972             ...                \n",
       "279   -0.753298  -0.474378 -0.293698 -0.660384             ...                \n",
       "689   -0.308690  -0.474378  0.109381 -0.335552             ...                \n",
       "1679  -0.308690  -0.355923 -0.562417 -0.431091             ...                \n",
       "664    0.135919  -0.119012 -0.159338 -0.029829             ...                \n",
       "1396   0.135919  -0.237467 -0.159338 -0.144475             ...                \n",
       "1228  -0.753298  -0.592834 -0.562417  0.103926             ...                \n",
       "1077  -0.975602  -0.592834 -0.696777 -0.603060             ...                \n",
       "1318  -0.975602  -0.474378 -0.696777 -0.717707             ...                \n",
       "723    0.580527  -0.474378 -0.024978 -0.240014             ...                \n",
       "815    1.469744  -0.119012 -0.024978  0.237680             ...                \n",
       "\n",
       "      exterior_walls_Other  exterior_walls_Siding (Alum/Vinyl)  \\\n",
       "1689             -0.197548                           -0.605579   \n",
       "1531             -0.197548                           -0.605579   \n",
       "668              -0.197548                           -0.605579   \n",
       "1740             -0.197548                           -0.605579   \n",
       "117              -0.197548                           -0.605579   \n",
       "22               -0.197548                           -0.605579   \n",
       "1196             -0.197548                            1.650203   \n",
       "319              -0.197548                            1.650203   \n",
       "1667             -0.197548                           -0.605579   \n",
       "821              -0.197548                           -0.605579   \n",
       "406              -0.197548                           -0.605579   \n",
       "1515             -0.197548                           -0.605579   \n",
       "879              -0.197548                           -0.605579   \n",
       "395              -0.197548                            1.650203   \n",
       "1802             -0.197548                           -0.605579   \n",
       "1653             -0.197548                           -0.605579   \n",
       "1858             -0.197548                           -0.605579   \n",
       "1217             -0.197548                            1.650203   \n",
       "1587             -0.197548                            1.650203   \n",
       "1670             -0.197548                            1.650203   \n",
       "1295             -0.197548                           -0.605579   \n",
       "1066             -0.197548                           -0.605579   \n",
       "347              -0.197548                           -0.605579   \n",
       "381              -0.197548                            1.650203   \n",
       "66               -0.197548                           -0.605579   \n",
       "1541             -0.197548                            1.650203   \n",
       "1635             -0.197548                           -0.605579   \n",
       "1016             -0.197548                           -0.605579   \n",
       "1690             -0.197548                            1.650203   \n",
       "130              -0.197548                            1.650203   \n",
       "...                    ...                                 ...   \n",
       "1776             -0.197548                           -0.605579   \n",
       "1586             -0.197548                           -0.605579   \n",
       "1455             -0.197548                            1.650203   \n",
       "510              -0.197548                           -0.605579   \n",
       "246              -0.197548                           -0.605579   \n",
       "383              -0.197548                           -0.605579   \n",
       "969              -0.197548                            1.650203   \n",
       "1360             -0.197548                           -0.605579   \n",
       "1349             -0.197548                            1.650203   \n",
       "1500             -0.197548                            1.650203   \n",
       "120              -0.197548                           -0.605579   \n",
       "442              -0.197548                           -0.605579   \n",
       "1398             -0.197548                           -0.605579   \n",
       "1818             -0.197548                           -0.605579   \n",
       "1772             -0.197548                           -0.605579   \n",
       "1182             -0.197548                           -0.605579   \n",
       "1707             -0.197548                           -0.605579   \n",
       "30                5.058652                           -0.605579   \n",
       "1178             -0.197548                           -0.605579   \n",
       "1257             -0.197548                           -0.605579   \n",
       "279              -0.197548                            1.650203   \n",
       "689              -0.197548                           -0.605579   \n",
       "1679             -0.197548                            1.650203   \n",
       "664              -0.197548                           -0.605579   \n",
       "1396             -0.197548                           -0.605579   \n",
       "1228             -0.197548                           -0.605579   \n",
       "1077             -0.197548                           -0.605579   \n",
       "1318             -0.197548                           -0.605579   \n",
       "723              -0.197548                           -0.605579   \n",
       "815              -0.197548                            1.650203   \n",
       "\n",
       "      exterior_walls_Wood  roof_Asphalt  roof_Composition Shingle  \\\n",
       "1689            -0.265245     -0.280848                  0.743862   \n",
       "1531            -0.265245     -0.280848                  0.743862   \n",
       "668             -0.265245     -0.280848                 -1.343434   \n",
       "1740            -0.265245     -0.280848                  0.743862   \n",
       "117             -0.265245     -0.280848                  0.743862   \n",
       "22               3.767565     -0.280848                  0.743862   \n",
       "1196            -0.265245     -0.280848                  0.743862   \n",
       "319             -0.265245     -0.280848                  0.743862   \n",
       "1667             3.767565     -0.280848                  0.743862   \n",
       "821             -0.265245     -0.280848                  0.743862   \n",
       "406             -0.265245     -0.280848                  0.743862   \n",
       "1515            -0.265245      3.558261                 -1.343434   \n",
       "879             -0.265245      3.558261                 -1.343434   \n",
       "395             -0.265245     -0.280848                  0.743862   \n",
       "1802            -0.265245     -0.280848                 -1.343434   \n",
       "1653            -0.265245     -0.280848                  0.743862   \n",
       "1858            -0.265245     -0.280848                 -1.343434   \n",
       "1217            -0.265245     -0.280848                  0.743862   \n",
       "1587            -0.265245     -0.280848                  0.743862   \n",
       "1670            -0.265245     -0.280848                  0.743862   \n",
       "1295            -0.265245     -0.280848                  0.743862   \n",
       "1066            -0.265245     -0.280848                  0.743862   \n",
       "347              3.767565     -0.280848                  0.743862   \n",
       "381             -0.265245     -0.280848                  0.743862   \n",
       "66               3.767565     -0.280848                 -1.343434   \n",
       "1541            -0.265245     -0.280848                  0.743862   \n",
       "1635            -0.265245     -0.280848                  0.743862   \n",
       "1016            -0.265245     -0.280848                  0.743862   \n",
       "1690            -0.265245     -0.280848                  0.743862   \n",
       "130             -0.265245     -0.280848                  0.743862   \n",
       "...                   ...           ...                       ...   \n",
       "1776            -0.265245     -0.280848                  0.743862   \n",
       "1586            -0.265245     -0.280848                  0.743862   \n",
       "1455            -0.265245     -0.280848                 -1.343434   \n",
       "510             -0.265245     -0.280848                  0.743862   \n",
       "246             -0.265245     -0.280848                  0.743862   \n",
       "383             -0.265245     -0.280848                  0.743862   \n",
       "969             -0.265245     -0.280848                 -1.343434   \n",
       "1360            -0.265245     -0.280848                  0.743862   \n",
       "1349            -0.265245      3.558261                 -1.343434   \n",
       "1500            -0.265245     -0.280848                 -1.343434   \n",
       "120             -0.265245     -0.280848                  0.743862   \n",
       "442             -0.265245     -0.280848                  0.743862   \n",
       "1398            -0.265245     -0.280848                  0.743862   \n",
       "1818            -0.265245      3.558261                 -1.343434   \n",
       "1772            -0.265245      3.558261                 -1.343434   \n",
       "1182            -0.265245     -0.280848                 -1.343434   \n",
       "1707            -0.265245     -0.280848                  0.743862   \n",
       "30              -0.265245     -0.280848                 -1.343434   \n",
       "1178            -0.265245     -0.280848                  0.743862   \n",
       "1257            -0.265245     -0.280848                  0.743862   \n",
       "279             -0.265245     -0.280848                  0.743862   \n",
       "689             -0.265245     -0.280848                  0.743862   \n",
       "1679            -0.265245      3.558261                 -1.343434   \n",
       "664             -0.265245     -0.280848                  0.743862   \n",
       "1396            -0.265245     -0.280848                  0.743862   \n",
       "1228            -0.265245     -0.280848                  0.743862   \n",
       "1077            -0.265245     -0.280848                 -1.343434   \n",
       "1318            -0.265245     -0.280848                  0.743862   \n",
       "723             -0.265245     -0.280848                 -1.343434   \n",
       "815             -0.265245     -0.280848                  0.743862   \n",
       "\n",
       "      roof_Missing  roof_Other  roof_Shake Shingle  \\\n",
       "1689     -0.482998   -0.253461           -0.186276   \n",
       "1531     -0.482998   -0.253461           -0.186276   \n",
       "668       2.069013   -0.253461           -0.186276   \n",
       "1740     -0.482998   -0.253461           -0.186276   \n",
       "117      -0.482998   -0.253461           -0.186276   \n",
       "22       -0.482998   -0.253461           -0.186276   \n",
       "1196     -0.482998   -0.253461           -0.186276   \n",
       "319      -0.482998   -0.253461           -0.186276   \n",
       "1667     -0.482998   -0.253461           -0.186276   \n",
       "821      -0.482998   -0.253461           -0.186276   \n",
       "406      -0.482998   -0.253461           -0.186276   \n",
       "1515     -0.482998   -0.253461           -0.186276   \n",
       "879      -0.482998   -0.253461           -0.186276   \n",
       "395      -0.482998   -0.253461           -0.186276   \n",
       "1802      2.069013   -0.253461           -0.186276   \n",
       "1653     -0.482998   -0.253461           -0.186276   \n",
       "1858      2.069013   -0.253461           -0.186276   \n",
       "1217     -0.482998   -0.253461           -0.186276   \n",
       "1587     -0.482998   -0.253461           -0.186276   \n",
       "1670     -0.482998   -0.253461           -0.186276   \n",
       "1295     -0.482998   -0.253461           -0.186276   \n",
       "1066     -0.482998   -0.253461           -0.186276   \n",
       "347      -0.482998   -0.253461           -0.186276   \n",
       "381      -0.482998   -0.253461           -0.186276   \n",
       "66        2.069013   -0.253461           -0.186276   \n",
       "1541     -0.482998   -0.253461           -0.186276   \n",
       "1635     -0.482998   -0.253461           -0.186276   \n",
       "1016     -0.482998   -0.253461           -0.186276   \n",
       "1690     -0.482998   -0.253461           -0.186276   \n",
       "130      -0.482998   -0.253461           -0.186276   \n",
       "...            ...         ...                 ...   \n",
       "1776     -0.482998   -0.253461           -0.186276   \n",
       "1586     -0.482998   -0.253461           -0.186276   \n",
       "1455      2.069013   -0.253461           -0.186276   \n",
       "510      -0.482998   -0.253461           -0.186276   \n",
       "246      -0.482998   -0.253461           -0.186276   \n",
       "383      -0.482998   -0.253461           -0.186276   \n",
       "969       2.069013   -0.253461           -0.186276   \n",
       "1360     -0.482998   -0.253461           -0.186276   \n",
       "1349     -0.482998   -0.253461           -0.186276   \n",
       "1500     -0.482998    3.942729           -0.186276   \n",
       "120      -0.482998   -0.253461           -0.186276   \n",
       "442      -0.482998   -0.253461           -0.186276   \n",
       "1398     -0.482998   -0.253461           -0.186276   \n",
       "1818     -0.482998   -0.253461           -0.186276   \n",
       "1772     -0.482998   -0.253461           -0.186276   \n",
       "1182      2.069013   -0.253461           -0.186276   \n",
       "1707     -0.482998   -0.253461           -0.186276   \n",
       "30       -0.482998    3.942729           -0.186276   \n",
       "1178     -0.482998   -0.253461           -0.186276   \n",
       "1257     -0.482998   -0.253461           -0.186276   \n",
       "279      -0.482998   -0.253461           -0.186276   \n",
       "689      -0.482998   -0.253461           -0.186276   \n",
       "1679     -0.482998   -0.253461           -0.186276   \n",
       "664      -0.482998   -0.253461           -0.186276   \n",
       "1396     -0.482998   -0.253461           -0.186276   \n",
       "1228     -0.482998   -0.253461           -0.186276   \n",
       "1077      2.069013   -0.253461           -0.186276   \n",
       "1318     -0.482998   -0.253461           -0.186276   \n",
       "723       2.069013   -0.253461           -0.186276   \n",
       "815      -0.482998   -0.253461           -0.186276   \n",
       "\n",
       "      property_type_Apartment / Condo / Townhouse  property_type_Single-Family  \n",
       "1689                                     -0.84974                      0.84974  \n",
       "1531                                     -0.84974                      0.84974  \n",
       "668                                       1.17604                     -1.17604  \n",
       "1740                                     -0.84974                      0.84974  \n",
       "117                                       1.17604                     -1.17604  \n",
       "22                                        1.17604                     -1.17604  \n",
       "1196                                      1.17604                     -1.17604  \n",
       "319                                       1.17604                     -1.17604  \n",
       "1667                                     -0.84974                      0.84974  \n",
       "821                                       1.17604                     -1.17604  \n",
       "406                                       1.17604                     -1.17604  \n",
       "1515                                     -0.84974                      0.84974  \n",
       "879                                      -0.84974                      0.84974  \n",
       "395                                      -0.84974                      0.84974  \n",
       "1802                                     -0.84974                      0.84974  \n",
       "1653                                     -0.84974                      0.84974  \n",
       "1858                                     -0.84974                      0.84974  \n",
       "1217                                      1.17604                     -1.17604  \n",
       "1587                                     -0.84974                      0.84974  \n",
       "1670                                     -0.84974                      0.84974  \n",
       "1295                                     -0.84974                      0.84974  \n",
       "1066                                     -0.84974                      0.84974  \n",
       "347                                       1.17604                     -1.17604  \n",
       "381                                      -0.84974                      0.84974  \n",
       "66                                        1.17604                     -1.17604  \n",
       "1541                                     -0.84974                      0.84974  \n",
       "1635                                     -0.84974                      0.84974  \n",
       "1016                                     -0.84974                      0.84974  \n",
       "1690                                     -0.84974                      0.84974  \n",
       "130                                       1.17604                     -1.17604  \n",
       "...                                           ...                          ...  \n",
       "1776                                     -0.84974                      0.84974  \n",
       "1586                                     -0.84974                      0.84974  \n",
       "1455                                     -0.84974                      0.84974  \n",
       "510                                       1.17604                     -1.17604  \n",
       "246                                       1.17604                     -1.17604  \n",
       "383                                      -0.84974                      0.84974  \n",
       "969                                      -0.84974                      0.84974  \n",
       "1360                                     -0.84974                      0.84974  \n",
       "1349                                     -0.84974                      0.84974  \n",
       "1500                                     -0.84974                      0.84974  \n",
       "120                                       1.17604                     -1.17604  \n",
       "442                                      -0.84974                      0.84974  \n",
       "1398                                     -0.84974                      0.84974  \n",
       "1818                                     -0.84974                      0.84974  \n",
       "1772                                     -0.84974                      0.84974  \n",
       "1182                                      1.17604                     -1.17604  \n",
       "1707                                     -0.84974                      0.84974  \n",
       "30                                        1.17604                     -1.17604  \n",
       "1178                                     -0.84974                      0.84974  \n",
       "1257                                     -0.84974                      0.84974  \n",
       "279                                       1.17604                     -1.17604  \n",
       "689                                       1.17604                     -1.17604  \n",
       "1679                                     -0.84974                      0.84974  \n",
       "664                                       1.17604                     -1.17604  \n",
       "1396                                     -0.84974                      0.84974  \n",
       "1228                                     -0.84974                      0.84974  \n",
       "1077                                      1.17604                     -1.17604  \n",
       "1318                                     -0.84974                      0.84974  \n",
       "723                                      -0.84974                      0.84974  \n",
       "815                                       1.17604                     -1.17604  \n",
       "\n",
       "[1490 rows x 42 columns]"
      ]
     },
     "execution_count": 8,
     "metadata": {},
     "output_type": "execute_result"
    }
   ],
   "source": [
    "X_train"
   ]
  },
  {
   "cell_type": "code",
   "execution_count": 9,
   "metadata": {},
   "outputs": [
    {
     "data": {
      "text/html": [
       "<div>\n",
       "<style>\n",
       "    .dataframe thead tr:only-child th {\n",
       "        text-align: right;\n",
       "    }\n",
       "\n",
       "    .dataframe thead th {\n",
       "        text-align: left;\n",
       "    }\n",
       "\n",
       "    .dataframe tbody tr th {\n",
       "        vertical-align: top;\n",
       "    }\n",
       "</style>\n",
       "<table border=\"1\" class=\"dataframe\">\n",
       "  <thead>\n",
       "    <tr style=\"text-align: right;\">\n",
       "      <th></th>\n",
       "      <th>beds</th>\n",
       "      <th>baths</th>\n",
       "      <th>sqft</th>\n",
       "      <th>lot_size</th>\n",
       "      <th>basement</th>\n",
       "      <th>restaurants</th>\n",
       "      <th>groceries</th>\n",
       "      <th>nightlife</th>\n",
       "      <th>cafes</th>\n",
       "      <th>shopping</th>\n",
       "      <th>...</th>\n",
       "      <th>exterior_walls_Other</th>\n",
       "      <th>exterior_walls_Siding (Alum/Vinyl)</th>\n",
       "      <th>exterior_walls_Wood</th>\n",
       "      <th>roof_Asphalt</th>\n",
       "      <th>roof_Composition Shingle</th>\n",
       "      <th>roof_Missing</th>\n",
       "      <th>roof_Other</th>\n",
       "      <th>roof_Shake Shingle</th>\n",
       "      <th>property_type_Apartment / Condo / Townhouse</th>\n",
       "      <th>property_type_Single-Family</th>\n",
       "    </tr>\n",
       "  </thead>\n",
       "  <tbody>\n",
       "    <tr>\n",
       "      <th>count</th>\n",
       "      <td>1.490000e+03</td>\n",
       "      <td>1.490000e+03</td>\n",
       "      <td>1.490000e+03</td>\n",
       "      <td>1.490000e+03</td>\n",
       "      <td>1.490000e+03</td>\n",
       "      <td>1.490000e+03</td>\n",
       "      <td>1.490000e+03</td>\n",
       "      <td>1.490000e+03</td>\n",
       "      <td>1.490000e+03</td>\n",
       "      <td>1.490000e+03</td>\n",
       "      <td>...</td>\n",
       "      <td>1.490000e+03</td>\n",
       "      <td>1.490000e+03</td>\n",
       "      <td>1.490000e+03</td>\n",
       "      <td>1.490000e+03</td>\n",
       "      <td>1.490000e+03</td>\n",
       "      <td>1.490000e+03</td>\n",
       "      <td>1.490000e+03</td>\n",
       "      <td>1.490000e+03</td>\n",
       "      <td>1.490000e+03</td>\n",
       "      <td>1.490000e+03</td>\n",
       "    </tr>\n",
       "    <tr>\n",
       "      <th>mean</th>\n",
       "      <td>-1.902281e-16</td>\n",
       "      <td>-4.254613e-17</td>\n",
       "      <td>7.663519e-17</td>\n",
       "      <td>3.911860e-17</td>\n",
       "      <td>9.746119e-17</td>\n",
       "      <td>1.409760e-16</td>\n",
       "      <td>1.621373e-16</td>\n",
       "      <td>2.827995e-16</td>\n",
       "      <td>8.946050e-18</td>\n",
       "      <td>2.315448e-17</td>\n",
       "      <td>...</td>\n",
       "      <td>1.184362e-16</td>\n",
       "      <td>1.359092e-16</td>\n",
       "      <td>-2.747988e-16</td>\n",
       "      <td>-8.278240e-17</td>\n",
       "      <td>-2.752459e-16</td>\n",
       "      <td>2.772577e-16</td>\n",
       "      <td>-2.613867e-16</td>\n",
       "      <td>7.708226e-17</td>\n",
       "      <td>8.941393e-17</td>\n",
       "      <td>-8.941393e-17</td>\n",
       "    </tr>\n",
       "    <tr>\n",
       "      <th>std</th>\n",
       "      <td>1.000000e+00</td>\n",
       "      <td>1.000000e+00</td>\n",
       "      <td>1.000000e+00</td>\n",
       "      <td>1.000000e+00</td>\n",
       "      <td>1.000000e+00</td>\n",
       "      <td>1.000000e+00</td>\n",
       "      <td>1.000000e+00</td>\n",
       "      <td>1.000000e+00</td>\n",
       "      <td>1.000000e+00</td>\n",
       "      <td>1.000000e+00</td>\n",
       "      <td>...</td>\n",
       "      <td>1.000000e+00</td>\n",
       "      <td>1.000000e+00</td>\n",
       "      <td>1.000000e+00</td>\n",
       "      <td>1.000000e+00</td>\n",
       "      <td>1.000000e+00</td>\n",
       "      <td>1.000000e+00</td>\n",
       "      <td>1.000000e+00</td>\n",
       "      <td>1.000000e+00</td>\n",
       "      <td>1.000000e+00</td>\n",
       "      <td>1.000000e+00</td>\n",
       "    </tr>\n",
       "    <tr>\n",
       "      <th>min</th>\n",
       "      <td>-2.268801e+00</td>\n",
       "      <td>-1.697190e+00</td>\n",
       "      <td>-1.405276e+00</td>\n",
       "      <td>-3.662250e-01</td>\n",
       "      <td>-2.688343e+00</td>\n",
       "      <td>-8.405927e-01</td>\n",
       "      <td>-9.756023e-01</td>\n",
       "      <td>-5.928336e-01</td>\n",
       "      <td>-6.967768e-01</td>\n",
       "      <td>-7.559221e-01</td>\n",
       "      <td>...</td>\n",
       "      <td>-1.975485e-01</td>\n",
       "      <td>-6.055792e-01</td>\n",
       "      <td>-2.652453e-01</td>\n",
       "      <td>-2.808475e-01</td>\n",
       "      <td>-1.343434e+00</td>\n",
       "      <td>-4.829980e-01</td>\n",
       "      <td>-2.534612e-01</td>\n",
       "      <td>-1.862765e-01</td>\n",
       "      <td>-8.497402e-01</td>\n",
       "      <td>-1.176040e+00</td>\n",
       "    </tr>\n",
       "    <tr>\n",
       "      <th>25%</th>\n",
       "      <td>-4.047185e-01</td>\n",
       "      <td>-6.224713e-01</td>\n",
       "      <td>-7.491974e-01</td>\n",
       "      <td>-3.219217e-01</td>\n",
       "      <td>3.717266e-01</td>\n",
       "      <td>-7.128947e-01</td>\n",
       "      <td>-7.532980e-01</td>\n",
       "      <td>-5.928336e-01</td>\n",
       "      <td>-6.967768e-01</td>\n",
       "      <td>-6.412758e-01</td>\n",
       "      <td>...</td>\n",
       "      <td>-1.975485e-01</td>\n",
       "      <td>-6.055792e-01</td>\n",
       "      <td>-2.652453e-01</td>\n",
       "      <td>-2.808475e-01</td>\n",
       "      <td>-1.343434e+00</td>\n",
       "      <td>-4.829980e-01</td>\n",
       "      <td>-2.534612e-01</td>\n",
       "      <td>-1.862765e-01</td>\n",
       "      <td>-8.497402e-01</td>\n",
       "      <td>-1.176040e+00</td>\n",
       "    </tr>\n",
       "    <tr>\n",
       "      <th>50%</th>\n",
       "      <td>5.273226e-01</td>\n",
       "      <td>4.522474e-01</td>\n",
       "      <td>-3.155383e-01</td>\n",
       "      <td>-1.885809e-01</td>\n",
       "      <td>3.717266e-01</td>\n",
       "      <td>-3.936498e-01</td>\n",
       "      <td>-3.086896e-01</td>\n",
       "      <td>-3.559228e-01</td>\n",
       "      <td>-2.936977e-01</td>\n",
       "      <td>-3.737676e-01</td>\n",
       "      <td>...</td>\n",
       "      <td>-1.975485e-01</td>\n",
       "      <td>-6.055792e-01</td>\n",
       "      <td>-2.652453e-01</td>\n",
       "      <td>-2.808475e-01</td>\n",
       "      <td>7.438617e-01</td>\n",
       "      <td>-4.829980e-01</td>\n",
       "      <td>-2.534612e-01</td>\n",
       "      <td>-1.862765e-01</td>\n",
       "      <td>-8.497402e-01</td>\n",
       "      <td>8.497402e-01</td>\n",
       "    </tr>\n",
       "    <tr>\n",
       "      <th>75%</th>\n",
       "      <td>5.273226e-01</td>\n",
       "      <td>4.522474e-01</td>\n",
       "      <td>5.334699e-01</td>\n",
       "      <td>-2.831904e-02</td>\n",
       "      <td>3.717266e-01</td>\n",
       "      <td>3.512552e-01</td>\n",
       "      <td>5.805274e-01</td>\n",
       "      <td>1.178989e-01</td>\n",
       "      <td>1.093814e-01</td>\n",
       "      <td>1.994641e-01</td>\n",
       "      <td>...</td>\n",
       "      <td>-1.975485e-01</td>\n",
       "      <td>1.650203e+00</td>\n",
       "      <td>-2.652453e-01</td>\n",
       "      <td>-2.808475e-01</td>\n",
       "      <td>7.438617e-01</td>\n",
       "      <td>-4.829980e-01</td>\n",
       "      <td>-2.534612e-01</td>\n",
       "      <td>-1.862765e-01</td>\n",
       "      <td>1.176040e+00</td>\n",
       "      <td>8.497402e-01</td>\n",
       "    </tr>\n",
       "    <tr>\n",
       "      <th>max</th>\n",
       "      <td>1.459364e+00</td>\n",
       "      <td>3.676403e+00</td>\n",
       "      <td>4.255036e+00</td>\n",
       "      <td>1.217405e+01</td>\n",
       "      <td>3.717266e-01</td>\n",
       "      <td>4.820685e+00</td>\n",
       "      <td>4.359699e+00</td>\n",
       "      <td>5.685304e+00</td>\n",
       "      <td>5.618130e+00</td>\n",
       "      <td>5.740705e+00</td>\n",
       "      <td>...</td>\n",
       "      <td>5.058652e+00</td>\n",
       "      <td>1.650203e+00</td>\n",
       "      <td>3.767565e+00</td>\n",
       "      <td>3.558261e+00</td>\n",
       "      <td>7.438617e-01</td>\n",
       "      <td>2.069013e+00</td>\n",
       "      <td>3.942729e+00</td>\n",
       "      <td>5.364762e+00</td>\n",
       "      <td>1.176040e+00</td>\n",
       "      <td>8.497402e-01</td>\n",
       "    </tr>\n",
       "  </tbody>\n",
       "</table>\n",
       "<p>8 rows × 42 columns</p>\n",
       "</div>"
      ],
      "text/plain": [
       "               beds         baths          sqft      lot_size      basement  \\\n",
       "count  1.490000e+03  1.490000e+03  1.490000e+03  1.490000e+03  1.490000e+03   \n",
       "mean  -1.902281e-16 -4.254613e-17  7.663519e-17  3.911860e-17  9.746119e-17   \n",
       "std    1.000000e+00  1.000000e+00  1.000000e+00  1.000000e+00  1.000000e+00   \n",
       "min   -2.268801e+00 -1.697190e+00 -1.405276e+00 -3.662250e-01 -2.688343e+00   \n",
       "25%   -4.047185e-01 -6.224713e-01 -7.491974e-01 -3.219217e-01  3.717266e-01   \n",
       "50%    5.273226e-01  4.522474e-01 -3.155383e-01 -1.885809e-01  3.717266e-01   \n",
       "75%    5.273226e-01  4.522474e-01  5.334699e-01 -2.831904e-02  3.717266e-01   \n",
       "max    1.459364e+00  3.676403e+00  4.255036e+00  1.217405e+01  3.717266e-01   \n",
       "\n",
       "        restaurants     groceries     nightlife         cafes      shopping  \\\n",
       "count  1.490000e+03  1.490000e+03  1.490000e+03  1.490000e+03  1.490000e+03   \n",
       "mean   1.409760e-16  1.621373e-16  2.827995e-16  8.946050e-18  2.315448e-17   \n",
       "std    1.000000e+00  1.000000e+00  1.000000e+00  1.000000e+00  1.000000e+00   \n",
       "min   -8.405927e-01 -9.756023e-01 -5.928336e-01 -6.967768e-01 -7.559221e-01   \n",
       "25%   -7.128947e-01 -7.532980e-01 -5.928336e-01 -6.967768e-01 -6.412758e-01   \n",
       "50%   -3.936498e-01 -3.086896e-01 -3.559228e-01 -2.936977e-01 -3.737676e-01   \n",
       "75%    3.512552e-01  5.805274e-01  1.178989e-01  1.093814e-01  1.994641e-01   \n",
       "max    4.820685e+00  4.359699e+00  5.685304e+00  5.618130e+00  5.740705e+00   \n",
       "\n",
       "                  ...               exterior_walls_Other  \\\n",
       "count             ...                       1.490000e+03   \n",
       "mean              ...                       1.184362e-16   \n",
       "std               ...                       1.000000e+00   \n",
       "min               ...                      -1.975485e-01   \n",
       "25%               ...                      -1.975485e-01   \n",
       "50%               ...                      -1.975485e-01   \n",
       "75%               ...                      -1.975485e-01   \n",
       "max               ...                       5.058652e+00   \n",
       "\n",
       "       exterior_walls_Siding (Alum/Vinyl)  exterior_walls_Wood  roof_Asphalt  \\\n",
       "count                        1.490000e+03         1.490000e+03  1.490000e+03   \n",
       "mean                         1.359092e-16        -2.747988e-16 -8.278240e-17   \n",
       "std                          1.000000e+00         1.000000e+00  1.000000e+00   \n",
       "min                         -6.055792e-01        -2.652453e-01 -2.808475e-01   \n",
       "25%                         -6.055792e-01        -2.652453e-01 -2.808475e-01   \n",
       "50%                         -6.055792e-01        -2.652453e-01 -2.808475e-01   \n",
       "75%                          1.650203e+00        -2.652453e-01 -2.808475e-01   \n",
       "max                          1.650203e+00         3.767565e+00  3.558261e+00   \n",
       "\n",
       "       roof_Composition Shingle  roof_Missing    roof_Other  \\\n",
       "count              1.490000e+03  1.490000e+03  1.490000e+03   \n",
       "mean              -2.752459e-16  2.772577e-16 -2.613867e-16   \n",
       "std                1.000000e+00  1.000000e+00  1.000000e+00   \n",
       "min               -1.343434e+00 -4.829980e-01 -2.534612e-01   \n",
       "25%               -1.343434e+00 -4.829980e-01 -2.534612e-01   \n",
       "50%                7.438617e-01 -4.829980e-01 -2.534612e-01   \n",
       "75%                7.438617e-01 -4.829980e-01 -2.534612e-01   \n",
       "max                7.438617e-01  2.069013e+00  3.942729e+00   \n",
       "\n",
       "       roof_Shake Shingle  property_type_Apartment / Condo / Townhouse  \\\n",
       "count        1.490000e+03                                 1.490000e+03   \n",
       "mean         7.708226e-17                                 8.941393e-17   \n",
       "std          1.000000e+00                                 1.000000e+00   \n",
       "min         -1.862765e-01                                -8.497402e-01   \n",
       "25%         -1.862765e-01                                -8.497402e-01   \n",
       "50%         -1.862765e-01                                -8.497402e-01   \n",
       "75%         -1.862765e-01                                 1.176040e+00   \n",
       "max          5.364762e+00                                 1.176040e+00   \n",
       "\n",
       "       property_type_Single-Family  \n",
       "count                 1.490000e+03  \n",
       "mean                 -8.941393e-17  \n",
       "std                   1.000000e+00  \n",
       "min                  -1.176040e+00  \n",
       "25%                  -1.176040e+00  \n",
       "50%                   8.497402e-01  \n",
       "75%                   8.497402e-01  \n",
       "max                   8.497402e-01  \n",
       "\n",
       "[8 rows x 42 columns]"
      ]
     },
     "execution_count": 9,
     "metadata": {},
     "output_type": "execute_result"
    }
   ],
   "source": [
    "## Check for mean and std dev.\n",
    "X_train.describe()"
   ]
  },
  {
   "cell_type": "code",
   "execution_count": 10,
   "metadata": {
    "collapsed": true
   },
   "outputs": [],
   "source": [
    "## Note: We use train_mean and train_std_dev to standardize test data set\n",
    "X_test = (X_test - train_mean) / train_std"
   ]
  },
  {
   "cell_type": "code",
   "execution_count": 11,
   "metadata": {},
   "outputs": [
    {
     "data": {
      "text/html": [
       "<div>\n",
       "<style>\n",
       "    .dataframe thead tr:only-child th {\n",
       "        text-align: right;\n",
       "    }\n",
       "\n",
       "    .dataframe thead th {\n",
       "        text-align: left;\n",
       "    }\n",
       "\n",
       "    .dataframe tbody tr th {\n",
       "        vertical-align: top;\n",
       "    }\n",
       "</style>\n",
       "<table border=\"1\" class=\"dataframe\">\n",
       "  <thead>\n",
       "    <tr style=\"text-align: right;\">\n",
       "      <th></th>\n",
       "      <th>beds</th>\n",
       "      <th>baths</th>\n",
       "      <th>sqft</th>\n",
       "      <th>lot_size</th>\n",
       "      <th>basement</th>\n",
       "      <th>restaurants</th>\n",
       "      <th>groceries</th>\n",
       "      <th>nightlife</th>\n",
       "      <th>cafes</th>\n",
       "      <th>shopping</th>\n",
       "      <th>...</th>\n",
       "      <th>exterior_walls_Other</th>\n",
       "      <th>exterior_walls_Siding (Alum/Vinyl)</th>\n",
       "      <th>exterior_walls_Wood</th>\n",
       "      <th>roof_Asphalt</th>\n",
       "      <th>roof_Composition Shingle</th>\n",
       "      <th>roof_Missing</th>\n",
       "      <th>roof_Other</th>\n",
       "      <th>roof_Shake Shingle</th>\n",
       "      <th>property_type_Apartment / Condo / Townhouse</th>\n",
       "      <th>property_type_Single-Family</th>\n",
       "    </tr>\n",
       "  </thead>\n",
       "  <tbody>\n",
       "    <tr>\n",
       "      <th>count</th>\n",
       "      <td>373.000000</td>\n",
       "      <td>373.000000</td>\n",
       "      <td>373.000000</td>\n",
       "      <td>373.000000</td>\n",
       "      <td>373.000000</td>\n",
       "      <td>373.000000</td>\n",
       "      <td>373.000000</td>\n",
       "      <td>373.000000</td>\n",
       "      <td>373.000000</td>\n",
       "      <td>373.000000</td>\n",
       "      <td>...</td>\n",
       "      <td>373.000000</td>\n",
       "      <td>373.000000</td>\n",
       "      <td>373.000000</td>\n",
       "      <td>373.000000</td>\n",
       "      <td>373.000000</td>\n",
       "      <td>373.000000</td>\n",
       "      <td>373.000000</td>\n",
       "      <td>373.000000</td>\n",
       "      <td>373.000000</td>\n",
       "      <td>373.000000</td>\n",
       "    </tr>\n",
       "    <tr>\n",
       "      <th>mean</th>\n",
       "      <td>-0.117360</td>\n",
       "      <td>-0.080790</td>\n",
       "      <td>-0.090918</td>\n",
       "      <td>-0.032233</td>\n",
       "      <td>0.010753</td>\n",
       "      <td>0.091066</td>\n",
       "      <td>0.141283</td>\n",
       "      <td>0.056925</td>\n",
       "      <td>0.109381</td>\n",
       "      <td>0.132152</td>\n",
       "      <td>...</td>\n",
       "      <td>-0.042540</td>\n",
       "      <td>-0.025002</td>\n",
       "      <td>-0.005761</td>\n",
       "      <td>-0.002950</td>\n",
       "      <td>0.010790</td>\n",
       "      <td>-0.004068</td>\n",
       "      <td>0.027785</td>\n",
       "      <td>-0.052337</td>\n",
       "      <td>0.111555</td>\n",
       "      <td>-0.111555</td>\n",
       "    </tr>\n",
       "    <tr>\n",
       "      <th>std</th>\n",
       "      <td>0.958651</td>\n",
       "      <td>0.989343</td>\n",
       "      <td>1.001612</td>\n",
       "      <td>1.034313</td>\n",
       "      <td>0.988393</td>\n",
       "      <td>1.003586</td>\n",
       "      <td>0.996496</td>\n",
       "      <td>1.034407</td>\n",
       "      <td>1.077763</td>\n",
       "      <td>1.121003</td>\n",
       "      <td>...</td>\n",
       "      <td>0.890424</td>\n",
       "      <td>0.987522</td>\n",
       "      <td>0.990833</td>\n",
       "      <td>0.996149</td>\n",
       "      <td>0.997703</td>\n",
       "      <td>0.997762</td>\n",
       "      <td>1.050725</td>\n",
       "      <td>0.852944</td>\n",
       "      <td>1.012934</td>\n",
       "      <td>1.012934</td>\n",
       "    </tr>\n",
       "    <tr>\n",
       "      <th>min</th>\n",
       "      <td>-2.268801</td>\n",
       "      <td>-1.697190</td>\n",
       "      <td>-1.261108</td>\n",
       "      <td>-0.366225</td>\n",
       "      <td>-2.688343</td>\n",
       "      <td>-0.840593</td>\n",
       "      <td>-0.975602</td>\n",
       "      <td>-0.592834</td>\n",
       "      <td>-0.696777</td>\n",
       "      <td>-0.755922</td>\n",
       "      <td>...</td>\n",
       "      <td>-0.197548</td>\n",
       "      <td>-0.605579</td>\n",
       "      <td>-0.265245</td>\n",
       "      <td>-0.280848</td>\n",
       "      <td>-1.343434</td>\n",
       "      <td>-0.482998</td>\n",
       "      <td>-0.253461</td>\n",
       "      <td>-0.186276</td>\n",
       "      <td>-0.849740</td>\n",
       "      <td>-1.176040</td>\n",
       "    </tr>\n",
       "    <tr>\n",
       "      <th>25%</th>\n",
       "      <td>-0.404719</td>\n",
       "      <td>-0.622471</td>\n",
       "      <td>-0.803935</td>\n",
       "      <td>-0.324824</td>\n",
       "      <td>0.371727</td>\n",
       "      <td>-0.627763</td>\n",
       "      <td>-0.753298</td>\n",
       "      <td>-0.474378</td>\n",
       "      <td>-0.562417</td>\n",
       "      <td>-0.564845</td>\n",
       "      <td>...</td>\n",
       "      <td>-0.197548</td>\n",
       "      <td>-0.605579</td>\n",
       "      <td>-0.265245</td>\n",
       "      <td>-0.280848</td>\n",
       "      <td>-1.343434</td>\n",
       "      <td>-0.482998</td>\n",
       "      <td>-0.253461</td>\n",
       "      <td>-0.186276</td>\n",
       "      <td>-0.849740</td>\n",
       "      <td>-1.176040</td>\n",
       "    </tr>\n",
       "    <tr>\n",
       "      <th>50%</th>\n",
       "      <td>-0.404719</td>\n",
       "      <td>-0.622471</td>\n",
       "      <td>-0.386851</td>\n",
       "      <td>-0.266126</td>\n",
       "      <td>0.371727</td>\n",
       "      <td>-0.287235</td>\n",
       "      <td>-0.086385</td>\n",
       "      <td>-0.355923</td>\n",
       "      <td>-0.293698</td>\n",
       "      <td>-0.259121</td>\n",
       "      <td>...</td>\n",
       "      <td>-0.197548</td>\n",
       "      <td>-0.605579</td>\n",
       "      <td>-0.265245</td>\n",
       "      <td>-0.280848</td>\n",
       "      <td>0.743862</td>\n",
       "      <td>-0.482998</td>\n",
       "      <td>-0.253461</td>\n",
       "      <td>-0.186276</td>\n",
       "      <td>-0.849740</td>\n",
       "      <td>0.849740</td>\n",
       "    </tr>\n",
       "    <tr>\n",
       "      <th>75%</th>\n",
       "      <td>0.527323</td>\n",
       "      <td>0.452247</td>\n",
       "      <td>0.306233</td>\n",
       "      <td>-0.062883</td>\n",
       "      <td>0.371727</td>\n",
       "      <td>0.500236</td>\n",
       "      <td>0.580527</td>\n",
       "      <td>0.117899</td>\n",
       "      <td>0.243741</td>\n",
       "      <td>0.333218</td>\n",
       "      <td>...</td>\n",
       "      <td>-0.197548</td>\n",
       "      <td>1.650203</td>\n",
       "      <td>-0.265245</td>\n",
       "      <td>-0.280848</td>\n",
       "      <td>0.743862</td>\n",
       "      <td>-0.482998</td>\n",
       "      <td>-0.253461</td>\n",
       "      <td>-0.186276</td>\n",
       "      <td>1.176040</td>\n",
       "      <td>0.849740</td>\n",
       "    </tr>\n",
       "    <tr>\n",
       "      <th>max</th>\n",
       "      <td>1.459364</td>\n",
       "      <td>3.676403</td>\n",
       "      <td>4.127830</td>\n",
       "      <td>12.149022</td>\n",
       "      <td>0.371727</td>\n",
       "      <td>4.820685</td>\n",
       "      <td>3.915091</td>\n",
       "      <td>5.803759</td>\n",
       "      <td>5.349410</td>\n",
       "      <td>5.740705</td>\n",
       "      <td>...</td>\n",
       "      <td>5.058652</td>\n",
       "      <td>1.650203</td>\n",
       "      <td>3.767565</td>\n",
       "      <td>3.558261</td>\n",
       "      <td>0.743862</td>\n",
       "      <td>2.069013</td>\n",
       "      <td>3.942729</td>\n",
       "      <td>5.364762</td>\n",
       "      <td>1.176040</td>\n",
       "      <td>0.849740</td>\n",
       "    </tr>\n",
       "  </tbody>\n",
       "</table>\n",
       "<p>8 rows × 42 columns</p>\n",
       "</div>"
      ],
      "text/plain": [
       "             beds       baths        sqft    lot_size    basement  \\\n",
       "count  373.000000  373.000000  373.000000  373.000000  373.000000   \n",
       "mean    -0.117360   -0.080790   -0.090918   -0.032233    0.010753   \n",
       "std      0.958651    0.989343    1.001612    1.034313    0.988393   \n",
       "min     -2.268801   -1.697190   -1.261108   -0.366225   -2.688343   \n",
       "25%     -0.404719   -0.622471   -0.803935   -0.324824    0.371727   \n",
       "50%     -0.404719   -0.622471   -0.386851   -0.266126    0.371727   \n",
       "75%      0.527323    0.452247    0.306233   -0.062883    0.371727   \n",
       "max      1.459364    3.676403    4.127830   12.149022    0.371727   \n",
       "\n",
       "       restaurants   groceries   nightlife       cafes    shopping  \\\n",
       "count   373.000000  373.000000  373.000000  373.000000  373.000000   \n",
       "mean      0.091066    0.141283    0.056925    0.109381    0.132152   \n",
       "std       1.003586    0.996496    1.034407    1.077763    1.121003   \n",
       "min      -0.840593   -0.975602   -0.592834   -0.696777   -0.755922   \n",
       "25%      -0.627763   -0.753298   -0.474378   -0.562417   -0.564845   \n",
       "50%      -0.287235   -0.086385   -0.355923   -0.293698   -0.259121   \n",
       "75%       0.500236    0.580527    0.117899    0.243741    0.333218   \n",
       "max       4.820685    3.915091    5.803759    5.349410    5.740705   \n",
       "\n",
       "                  ...               exterior_walls_Other  \\\n",
       "count             ...                         373.000000   \n",
       "mean              ...                          -0.042540   \n",
       "std               ...                           0.890424   \n",
       "min               ...                          -0.197548   \n",
       "25%               ...                          -0.197548   \n",
       "50%               ...                          -0.197548   \n",
       "75%               ...                          -0.197548   \n",
       "max               ...                           5.058652   \n",
       "\n",
       "       exterior_walls_Siding (Alum/Vinyl)  exterior_walls_Wood  roof_Asphalt  \\\n",
       "count                          373.000000           373.000000    373.000000   \n",
       "mean                            -0.025002            -0.005761     -0.002950   \n",
       "std                              0.987522             0.990833      0.996149   \n",
       "min                             -0.605579            -0.265245     -0.280848   \n",
       "25%                             -0.605579            -0.265245     -0.280848   \n",
       "50%                             -0.605579            -0.265245     -0.280848   \n",
       "75%                              1.650203            -0.265245     -0.280848   \n",
       "max                              1.650203             3.767565      3.558261   \n",
       "\n",
       "       roof_Composition Shingle  roof_Missing  roof_Other  roof_Shake Shingle  \\\n",
       "count                373.000000    373.000000  373.000000          373.000000   \n",
       "mean                   0.010790     -0.004068    0.027785           -0.052337   \n",
       "std                    0.997703      0.997762    1.050725            0.852944   \n",
       "min                   -1.343434     -0.482998   -0.253461           -0.186276   \n",
       "25%                   -1.343434     -0.482998   -0.253461           -0.186276   \n",
       "50%                    0.743862     -0.482998   -0.253461           -0.186276   \n",
       "75%                    0.743862     -0.482998   -0.253461           -0.186276   \n",
       "max                    0.743862      2.069013    3.942729            5.364762   \n",
       "\n",
       "       property_type_Apartment / Condo / Townhouse  \\\n",
       "count                                   373.000000   \n",
       "mean                                      0.111555   \n",
       "std                                       1.012934   \n",
       "min                                      -0.849740   \n",
       "25%                                      -0.849740   \n",
       "50%                                      -0.849740   \n",
       "75%                                       1.176040   \n",
       "max                                       1.176040   \n",
       "\n",
       "       property_type_Single-Family  \n",
       "count                   373.000000  \n",
       "mean                     -0.111555  \n",
       "std                       1.012934  \n",
       "min                      -1.176040  \n",
       "25%                      -1.176040  \n",
       "50%                       0.849740  \n",
       "75%                       0.849740  \n",
       "max                       0.849740  \n",
       "\n",
       "[8 rows x 42 columns]"
      ]
     },
     "execution_count": 11,
     "metadata": {},
     "output_type": "execute_result"
    }
   ],
   "source": [
    "## Check for mean and std dev. - not exactly 0 and 1\n",
    "X_test.describe()"
   ]
  },
  {
   "cell_type": "markdown",
   "metadata": {},
   "source": [
    "## 6.3 Model 1 - Baseline Model\n",
    "* In this model, for every test data point, we will simply predict the average of the train labels as the output.\n",
    "* We will use this simple model to perform hypothesis testing for other complex models."
   ]
  },
  {
   "cell_type": "code",
   "execution_count": 13,
   "metadata": {
    "collapsed": true
   },
   "outputs": [],
   "source": [
    "## Predict Train results\n",
    "y_train_pred = np.ones(y_train.shape[0])*y_train.mean()"
   ]
  },
  {
   "cell_type": "code",
   "execution_count": 14,
   "metadata": {
    "collapsed": true
   },
   "outputs": [],
   "source": [
    "## Predict Test results\n",
    "y_pred = np.ones(y_test.shape[0])*y_train.mean()"
   ]
  },
  {
   "cell_type": "code",
   "execution_count": 15,
   "metadata": {},
   "outputs": [
    {
     "name": "stdout",
     "output_type": "stream",
     "text": [
      "Train Results for Baseline Model:\n",
      "*******************************\n",
      "Root mean squared error:  153791.70506675562\n",
      "R-squared:  0.0\n",
      "Mean Absolute Error:  127271.757171\n"
     ]
    }
   ],
   "source": [
    "print(\"Train Results for Baseline Model:\")\n",
    "print(\"*******************************\")\n",
    "print(\"Root mean squared error: \", sqrt(mse(y_train.values, y_train_pred)))\n",
    "print(\"R-squared: \", r2_score(y_train.values, y_train_pred))\n",
    "print(\"Mean Absolute Error: \", mae(y_train.values, y_train_pred))"
   ]
  },
  {
   "cell_type": "code",
   "execution_count": 16,
   "metadata": {},
   "outputs": [
    {
     "name": "stdout",
     "output_type": "stream",
     "text": [
      "Results for Baseline Model:\n",
      "*******************************\n",
      "Root mean squared error:  143268.37228905046\n",
      "R-squared:  -0.00731881601388\n",
      "Mean Absolute Error:  120855.475979\n"
     ]
    }
   ],
   "source": [
    "print(\"Results for Baseline Model:\")\n",
    "print(\"*******************************\")\n",
    "print(\"Root mean squared error: \", sqrt(mse(y_test, y_pred)))\n",
    "print(\"R-squared: \", r2_score(y_test, y_pred))\n",
    "print(\"Mean Absolute Error: \", mae(y_test, y_pred))"
   ]
  },
  {
   "cell_type": "markdown",
   "metadata": {},
   "source": [
    "#### Mean Absolute Error : https://medium.com/@ewuramaminka/mean-absolute-error-mae-machine-learning-ml-b9b4afc63077"
   ]
  },
  {
   "cell_type": "markdown",
   "metadata": {},
   "source": [
    "## 6.3 Model-2 Ridge Regression\n",
    "tune Algorithms Parameter : https://machinelearningmastery.com/how-to-tune-algorithm-parameters-with-scikit-learn/\n"
   ]
  },
  {
   "cell_type": "code",
   "execution_count": 18,
   "metadata": {},
   "outputs": [
    {
     "data": {
      "text/plain": [
       "GridSearchCV(cv=10, error_score='raise',\n",
       "       estimator=Ridge(alpha=1.0, copy_X=True, fit_intercept=True, max_iter=None,\n",
       "   normalize=False, random_state=None, solver='auto', tol=0.001),\n",
       "       fit_params=None, iid=True, n_jobs=-1,\n",
       "       param_grid={'alpha': [0.0001, 0.001, 0.01, 0.1, 1, 10, 100, 1000, 10000, 100000]},\n",
       "       pre_dispatch='2*n_jobs', refit=True, return_train_score='warn',\n",
       "       scoring='neg_mean_absolute_error', verbose=0)"
      ]
     },
     "execution_count": 18,
     "metadata": {},
     "output_type": "execute_result"
    }
   ],
   "source": [
    "## prepare a range of alpha values to test\n",
    "tuned_params = {'alpha': [0.0001, 0.001, 0.01, 0.1, 1, 10, 100, 1000, 10000, 100000]}\n",
    "\n",
    "#create and fit a ridge regression model, testing each alpha\n",
    "model = GridSearchCV(Ridge(), tuned_params, scoring = 'neg_mean_absolute_error', cv=10, n_jobs=-1)\n",
    "model.fit(X_train, y_train)"
   ]
  },
  {
   "cell_type": "code",
   "execution_count": 19,
   "metadata": {},
   "outputs": [
    {
     "data": {
      "text/plain": [
       "Ridge(alpha=100, copy_X=True, fit_intercept=True, max_iter=None,\n",
       "   normalize=False, random_state=None, solver='auto', tol=0.001)"
      ]
     },
     "execution_count": 19,
     "metadata": {},
     "output_type": "execute_result"
    }
   ],
   "source": [
    "## summarize the results of the grid search\n",
    "model.best_estimator_"
   ]
  },
  {
   "cell_type": "code",
   "execution_count": 20,
   "metadata": {},
   "outputs": [
    {
     "data": {
      "text/plain": [
       "array([ 497198.16692868,  453917.05201083,  330995.2047155 , ...,\n",
       "        491141.85962915,  455257.06349452,  376663.75055036])"
      ]
     },
     "execution_count": 20,
     "metadata": {},
     "output_type": "execute_result"
    }
   ],
   "source": [
    "## Predict Train results\n",
    "y_train_pred = model.predict(X_train)\n",
    "y_train_pred"
   ]
  },
  {
   "cell_type": "code",
   "execution_count": 21,
   "metadata": {},
   "outputs": [
    {
     "data": {
      "text/plain": [
       "array([ 443755.49971938,  453267.2257306 ,  281423.68168996,\n",
       "        315896.95788338,  449736.05232474,  334499.31332705,\n",
       "        361894.53995506,  373040.48928474,  306562.14885903,\n",
       "        498834.98684826,  359731.65857348,  349311.92923137,\n",
       "        351858.78446807,  338784.45004392,  309034.92669731,\n",
       "        369699.03811273,  458637.8616302 ,  437886.27331552,\n",
       "        460564.89845639,  399116.6399976 ,  398420.44210066,\n",
       "        257566.75024973,  379423.30172873,  415044.94924522,\n",
       "        321454.08128171,  634664.13040935,  402784.93435308,\n",
       "        359028.93790122,  343876.37787793,  563502.64834672,\n",
       "        546054.74805121,  396900.99839534,  383879.05526593,\n",
       "        396049.09036899,  445276.54990092,  492543.53488738,\n",
       "        254067.08446499,  319268.74246317,  338696.40206955,\n",
       "        302578.6021627 ,  424189.39335341,  426297.47620738,\n",
       "        468193.67372893,  268018.28727627,  316942.47690684,\n",
       "        708331.95286051,  473544.87710018,  581680.08560464,\n",
       "        546581.22828841,  390491.17834349,  468473.73773097,\n",
       "        452144.11226011,  464012.6477086 ,  347174.16138147,\n",
       "        462845.8115793 ,  397297.235203  ,  407168.62950201,\n",
       "        399057.15111954,  484046.73209587,  410225.58167355,\n",
       "        363266.54725199,  476451.60460277,  583513.30940882,\n",
       "        386844.42103183,  472723.17211482,  407990.34567157,\n",
       "        549374.38117817,  686166.99557429,  400141.89421802,\n",
       "        414997.92055286,  548490.06553964,  422588.5760887 ,\n",
       "        491734.36567601,  366222.28673724,  488899.99031237,\n",
       "        458916.14651915,  408479.94797411,  442481.28599359,\n",
       "        285388.398967  ,  451199.37167365,  453752.00382872,\n",
       "        391015.22486578,  505638.07925233,  342188.90136018,\n",
       "        598162.80423323,  293942.46935766,  480648.79831065,\n",
       "        275651.69724573,  471346.03415363,  382550.03382092,\n",
       "        480963.97719702,  646418.47707565,  378188.19634871,\n",
       "        429273.8134092 ,  410259.97875595,  403545.07154395,\n",
       "        263682.27961673,  421696.45275412,  457460.05570884,\n",
       "        456467.33961661,  458727.2791864 ,  356994.66823499,\n",
       "        450385.29474733,  340384.12069548,  316114.49058094,\n",
       "        271931.84766626,  431095.97909246,  551588.7398901 ,\n",
       "        386978.59696132,  406766.80646809,  429262.21193722,\n",
       "        384706.91179157,  452155.5116325 ,  403732.99410223,\n",
       "        580466.83745211,  527125.45771826,  495568.73910605,\n",
       "        394029.03575123,  505595.71350787,  376956.78003834,\n",
       "        344601.49940674,  469245.65895558,  481268.18777314,\n",
       "        376348.21432349,  464042.74151028,  361003.69165532,\n",
       "        423842.29991596,  324833.19809419,  432183.59818113,\n",
       "        478192.1393598 ,  779580.87436357,  415512.46961256,\n",
       "        264720.47176588,  360514.21309093,  421092.2038866 ,\n",
       "        353771.03048168,  393496.75343196,  467535.17398714,\n",
       "        331728.384858  ,  512697.55309972,  487149.99434021,\n",
       "        258926.53749008,  514645.44299296,  457438.45999833,\n",
       "        397960.53684133,  306389.77048301,  317293.55552429,\n",
       "        362864.84864622,  387796.76027155,  326115.8735935 ,\n",
       "        335028.96013667,  382038.93724745,  708927.32340821,\n",
       "        593798.55654738,  443900.29514221,  395635.05337429,\n",
       "        452362.54174536,  494306.38310995,  475525.56346648,\n",
       "        403818.04511803,  445598.50529452,  436883.68267467,\n",
       "        297878.22500931,  419842.7724094 ,  426402.42525636,\n",
       "        507716.49513484,  326045.65499431,  427229.25675119,\n",
       "        547653.22485468,  351504.08813795,  309804.2647506 ,\n",
       "        591026.97437901,  340813.99299086,  341001.26156611,\n",
       "        507654.27374671,  426412.77076057,  374813.98112941,\n",
       "        407185.65233702,  371265.08818235,  526678.26807627,\n",
       "        425269.30852468,  264050.23088203,  441909.34682763,\n",
       "        411932.45395453,  544403.84930678,  405511.16495667,\n",
       "        322283.61038009,  305881.37893958,  577132.71766631,\n",
       "        341472.8616329 ,  515396.52287705,  544388.85153295,\n",
       "        426915.7472981 ,  341980.530831  ,  401125.75028177,\n",
       "        396740.84252892,  372155.34386785,  480560.01447669,\n",
       "        524337.14637987,  272627.35422378,  407377.52959402,\n",
       "        357489.85831711,  390502.10236998,  703045.46582138,\n",
       "        553677.46857168,  365619.88559913,  510182.56179051,\n",
       "        453268.43411836,  329771.1059692 ,  365664.07183996,\n",
       "        327106.21721159,  293137.00429886,  557827.82682185,\n",
       "        395173.21201945,  383617.01727265,  501864.11912499,\n",
       "        441472.3491583 ,  492118.16111199,  385826.26428973,\n",
       "        470560.93027157,  325465.16076753,  417336.35185826,\n",
       "        381537.64514264,  339786.08316874,  352024.09748825,\n",
       "        406365.55676967,  435107.06836437,  337010.3917659 ,\n",
       "        494003.3662182 ,  318441.82558343,  394450.13589882,\n",
       "        268264.29617563,  373336.53501643,  342167.53805475,\n",
       "        418684.07946434,  454100.26600126,  368240.81092613,\n",
       "        365686.95582847,  359857.45383273,  462569.39299661,\n",
       "        244256.76742973,  442248.7165669 ,  696857.52355706,\n",
       "        451338.62562788,  310040.37535829,  479821.15755513,\n",
       "        406066.91945074,  415273.44946139,  512012.7494983 ,\n",
       "        435715.42574786,  345401.12284082,  534144.25109257,\n",
       "        401263.76266876,  483326.52134092,  423793.8617958 ,\n",
       "        463233.88983462,  422917.44077303,  325046.33653701,\n",
       "        365468.07361509,  488431.76747503,  299997.21148946,\n",
       "        397856.49435276,  519491.39549901,  774332.98696748,\n",
       "        467083.16463334,  309786.60452   ,  540040.56630997,\n",
       "        418645.94974609,  481871.0770951 ,  361419.39385816,\n",
       "        335308.06382998,  276232.92609182,  314392.36369122,\n",
       "        483486.60140238,  388435.18606082,  334704.34269981,\n",
       "        483278.98723328,  437121.60844655,  422973.78224812,\n",
       "        369414.85522251,  290899.76096847,  397104.90301467,\n",
       "        733758.51024562,  338267.10180547,  359677.43309848,\n",
       "        440296.39018884,  337752.06685793,  553479.63512722,\n",
       "        290002.66923198,  438256.07217164,  363031.65038225,\n",
       "        338845.73217884,  498823.99447681,  439563.49741052,\n",
       "        538828.32232554,  555387.77824905,  394255.81328286,\n",
       "        276664.31854377,  306666.70853161,  335236.83429502,\n",
       "        519239.29411089,  268295.30600849,  600625.30805379,\n",
       "        522495.62310277,  321462.89890672,  447263.75296476,\n",
       "        380204.30191253,  365960.03929144,  436485.52540383,\n",
       "        361944.80919894,  497625.03461828,  346364.11395804,\n",
       "        374413.43599567,  409026.02524678,  347019.10361604,\n",
       "        475100.23418087,  391193.92305136,  397359.86787062,\n",
       "        496387.71375088,  388786.65207038,  493384.40802698,\n",
       "        282782.32013078,  433878.4805536 ,  368962.47686014,\n",
       "        484807.38551106,  465020.7895975 ,  406732.31504415,\n",
       "        415397.34092459,  376140.74166173,  432317.0647237 ,\n",
       "        342613.6433383 ,  344949.76474918,  477167.1625913 ,\n",
       "        622257.21165622,  344975.97552966,  542005.34706559,\n",
       "        374747.72061974,  431811.80970215,  407267.89613609,\n",
       "        243699.63538965,  537572.68694718,  431562.65898461,\n",
       "        500057.82055507,  404738.01637205,  477385.93682704,\n",
       "        346420.08333148,  445615.68266533,  405783.64584885,\n",
       "        385418.27811898,  421527.74552825,  372207.62976764,\n",
       "        335894.02459542,  425032.39303143,  485595.42668161,\n",
       "        307480.08914875,  339017.32200501,  291083.02054236,\n",
       "        428031.71121405,  343575.8677846 ,  388903.07481822,\n",
       "        332535.05210379,  500175.99432077,  399648.15753909,\n",
       "        384077.96908208,  424697.00458861,  448133.78316609,\n",
       "        319981.21817609,  511264.39190178,  415227.62844227,\n",
       "        588596.26605189,  283413.30397692,  435366.74761451,\n",
       "        433508.85985752])"
      ]
     },
     "execution_count": 21,
     "metadata": {},
     "output_type": "execute_result"
    }
   ],
   "source": [
    "## Predict Test results\n",
    "y_pred = model.predict(X_test)\n",
    "y_pred"
   ]
  },
  {
   "cell_type": "code",
   "execution_count": 22,
   "metadata": {},
   "outputs": [
    {
     "name": "stdout",
     "output_type": "stream",
     "text": [
      "Train Results for Ridge Regression:\n",
      "*******************************\n",
      "Root mean squared error:  118366.31663162686\n",
      "R-squared:  0.407633564445\n",
      "Mean Absolute Error:  92194.9754984\n"
     ]
    }
   ],
   "source": [
    "print(\"Train Results for Ridge Regression:\")\n",
    "print(\"*******************************\")\n",
    "print(\"Root mean squared error: \", sqrt(mse(y_train.values, y_train_pred)))\n",
    "print(\"R-squared: \", r2_score(y_train.values, y_train_pred))\n",
    "print(\"Mean Absolute Error: \", mae(y_train.values, y_train_pred))"
   ]
  },
  {
   "cell_type": "code",
   "execution_count": 23,
   "metadata": {},
   "outputs": [
    {
     "name": "stdout",
     "output_type": "stream",
     "text": [
      "Test Results for Ridge Regression:\n",
      "*******************************\n",
      "Root mean squared error:  109589.65766218318\n",
      "R-squared:  0.410606376061\n",
      "Mean Absolute Error:  85241.315051\n"
     ]
    }
   ],
   "source": [
    "print(\"Test Results for Ridge Regression:\")\n",
    "print(\"*******************************\")\n",
    "print(\"Root mean squared error: \", sqrt(mse(y_test, y_pred)))\n",
    "print(\"R-squared: \", r2_score(y_test, y_pred))\n",
    "print(\"Mean Absolute Error: \", mae(y_test, y_pred))"
   ]
  },
  {
   "cell_type": "markdown",
   "metadata": {},
   "source": [
    "### Feature Importance"
   ]
  },
  {
   "cell_type": "code",
   "execution_count": 24,
   "metadata": {},
   "outputs": [
    {
     "data": {
      "text/plain": [
       "Ridge(alpha=100, copy_X=True, fit_intercept=True, max_iter=None,\n",
       "   normalize=False, random_state=None, solver='auto', tol=0.001)"
      ]
     },
     "execution_count": 24,
     "metadata": {},
     "output_type": "execute_result"
    }
   ],
   "source": [
    "## Building the model again with the best hyperparameters\n",
    "model = Ridge(alpha=100)\n",
    "model.fit(X_train, y_train)"
   ]
  },
  {
   "cell_type": "code",
   "execution_count": 183,
   "metadata": {},
   "outputs": [
    {
     "name": "stdout",
     "output_type": "stream",
     "text": [
      "The features in order of importance are:\n",
      "--------------------------------------------------\n",
      "sqft\n",
      "college_grad\n",
      "3-4 bed\n",
      "baths\n",
      "property_tax\n",
      "tax_and_insurance\n",
      "older_property\n",
      "insurance\n",
      "property_age\n",
      "cafes\n",
      "beauty_spas\n",
      "during_recession\n",
      "groceries\n",
      "lot_size\n",
      "property_type_Apartment / Condo / Townhouse\n",
      "property_type_Single-Family\n",
      "shopping\n",
      "restaurants\n",
      "nightlife\n",
      "exterior_walls_Wood\n",
      "exterior_walls_Missing\n",
      "exterior_walls_Combination\n",
      "exterior_walls_Brick\n",
      "active_life\n",
      "exterior_walls_Brick veneer\n",
      "two_and_two\n",
      "school_score\n",
      "roof_Asphalt\n",
      "num_schools\n",
      "arts_entertainment\n",
      "roof_Composition Shingle\n",
      "median_age\n",
      "exterior_walls_Siding (Alum/Vinyl)\n",
      "married\n",
      "exterior_walls_Metal\n",
      "beds\n",
      "basement\n",
      "median_school\n",
      "roof_Shake Shingle\n",
      "exterior_walls_Other\n",
      "roof_Missing\n",
      "roof_Other\n"
     ]
    }
   ],
   "source": [
    "indices = np.argsort(-abs(model.coef_))\n",
    "print(\"The features in order of importance are:\")\n",
    "print(50*'-')\n",
    "for feature in X.columns[indices]:\n",
    "    print(feature)"
   ]
  },
  {
   "cell_type": "markdown",
   "metadata": {},
   "source": [
    "## 6.4 Model-3 Support Vector Regression\n",
    "With an RBF Kernel"
   ]
  },
  {
   "cell_type": "code",
   "execution_count": 25,
   "metadata": {},
   "outputs": [
    {
     "data": {
      "text/plain": [
       "GridSearchCV(cv=5, error_score='raise',\n",
       "       estimator=SVR(C=1.0, cache_size=200, coef0=0.0, degree=3, epsilon=0.1, gamma='auto',\n",
       "  kernel='rbf', max_iter=-1, shrinking=True, tol=0.001, verbose=False),\n",
       "       fit_params=None, iid=True, n_jobs=-1,\n",
       "       param_grid={'C': [0.0001, 0.001, 0.01, 0.1, 1, 10, 100, 1000, 10000, 100000], 'gamma': [0.0001, 0.001, 0.01, 0.1, 1, 10, 100, 1000, 10000, 100000]},\n",
       "       pre_dispatch='2*n_jobs', refit=True, return_train_score='warn',\n",
       "       scoring='neg_mean_absolute_error', verbose=0)"
      ]
     },
     "execution_count": 25,
     "metadata": {},
     "output_type": "execute_result"
    }
   ],
   "source": [
    "## prepare a range of C and gamma  values to test\n",
    "tuned_params = {'C': [0.0001, 0.001, 0.01, 0.1, 1, 10, 100, 1000, 10000, 100000], 'gamma': [0.0001, 0.001, 0.01, 0.1, 1, 10, 100, 1000, 10000, 100000]}\n",
    "model = GridSearchCV(SVR(), tuned_params, scoring = 'neg_mean_absolute_error', cv=5, n_jobs=-1)\n",
    "model.fit(X_train, y_train)"
   ]
  },
  {
   "cell_type": "code",
   "execution_count": 26,
   "metadata": {},
   "outputs": [
    {
     "data": {
      "text/plain": [
       "SVR(C=100000, cache_size=200, coef0=0.0, degree=3, epsilon=0.1, gamma=0.01,\n",
       "  kernel='rbf', max_iter=-1, shrinking=True, tol=0.001, verbose=False)"
      ]
     },
     "execution_count": 26,
     "metadata": {},
     "output_type": "execute_result"
    }
   ],
   "source": [
    " model.best_estimator_"
   ]
  },
  {
   "cell_type": "code",
   "execution_count": 27,
   "metadata": {},
   "outputs": [
    {
     "data": {
      "text/plain": [
       "SVR(C=100000, cache_size=200, coef0=0.0, degree=3, epsilon=0.1, gamma=0.01,\n",
       "  kernel='rbf', max_iter=-1, shrinking=True, tol=0.001, verbose=False)"
      ]
     },
     "execution_count": 27,
     "metadata": {},
     "output_type": "execute_result"
    }
   ],
   "source": [
    "## Building the model again with the best hyperparameters\n",
    "model = SVR(C=100000, gamma=0.01)\n",
    "model.fit(X_train, y_train)"
   ]
  },
  {
   "cell_type": "code",
   "execution_count": 28,
   "metadata": {
    "collapsed": true
   },
   "outputs": [],
   "source": [
    "## Predict Train results\n",
    "y_train_pred = model.predict(X_train)"
   ]
  },
  {
   "cell_type": "code",
   "execution_count": 29,
   "metadata": {
    "collapsed": true
   },
   "outputs": [],
   "source": [
    "## Predict Test results\n",
    "y_pred = model.predict(X_test)"
   ]
  },
  {
   "cell_type": "code",
   "execution_count": 30,
   "metadata": {},
   "outputs": [
    {
     "name": "stdout",
     "output_type": "stream",
     "text": [
      "Train Results for Support Vector Regression:\n",
      "*******************************\n",
      "Root mean squared error:  103092.4847586762\n",
      "R-squared:  0.550646436015\n",
      "Mean Absolute Error:  73906.8903487\n"
     ]
    }
   ],
   "source": [
    "print(\"Train Results for Support Vector Regression:\")\n",
    "print(\"*******************************\")\n",
    "print(\"Root mean squared error: \", sqrt(mse(y_train.values, y_train_pred)))\n",
    "print(\"R-squared: \", r2_score(y_train.values, y_train_pred))\n",
    "print(\"Mean Absolute Error: \", mae(y_train.values, y_train_pred))"
   ]
  },
  {
   "cell_type": "code",
   "execution_count": 31,
   "metadata": {},
   "outputs": [
    {
     "name": "stdout",
     "output_type": "stream",
     "text": [
      "Test Results for Support Vector Regression:\n",
      "*******************************\n",
      "Root mean squared error:  100062.95936478293\n",
      "R-squared:  0.508625088281\n",
      "Mean Absolute Error:  71665.4661373\n"
     ]
    }
   ],
   "source": [
    "print(\"Test Results for Support Vector Regression:\")\n",
    "print(\"*******************************\")\n",
    "print(\"Root mean squared error: \", sqrt(mse(y_test, y_pred)))\n",
    "print(\"R-squared: \", r2_score(y_test, y_pred))\n",
    "print(\"Mean Absolute Error: \", mae(y_test, y_pred))"
   ]
  },
  {
   "cell_type": "markdown",
   "metadata": {},
   "source": [
    "### Unfortunately getting feature importance from RBF SVM is non trivial"
   ]
  },
  {
   "cell_type": "markdown",
   "metadata": {},
   "source": [
    "## 6.5 Model-4 Random Forest Regression"
   ]
  },
  {
   "cell_type": "code",
   "execution_count": 32,
   "metadata": {},
   "outputs": [
    {
     "data": {
      "text/plain": [
       "RandomizedSearchCV(cv=5, error_score='raise',\n",
       "          estimator=RandomForestRegressor(bootstrap=True, criterion='mse', max_depth=None,\n",
       "           max_features='auto', max_leaf_nodes=None,\n",
       "           min_impurity_decrease=0.0, min_impurity_split=None,\n",
       "           min_samples_leaf=1, min_samples_split=2,\n",
       "           min_weight_fraction_leaf=0.0, n_estimators=10, n_jobs=1,\n",
       "           oob_score=False, random_state=None, verbose=0, warm_start=False),\n",
       "          fit_params=None, iid=True, n_iter=20, n_jobs=-1,\n",
       "          param_distributions={'n_estimators': [100, 200, 300, 400, 500], 'min_samples_split': [2, 5, 10], 'min_samples_leaf': [1, 2, 4]},\n",
       "          pre_dispatch='2*n_jobs', random_state=None, refit=True,\n",
       "          return_train_score='warn', scoring='neg_mean_absolute_error',\n",
       "          verbose=0)"
      ]
     },
     "execution_count": 32,
     "metadata": {},
     "output_type": "execute_result"
    }
   ],
   "source": [
    "## Reference for random search on random forest\n",
    "## https://towardsdatascience.com/hyperparameter-tuning-the-random-forest-in-python-using-scikit-learn-28d2aa77dd74\n",
    "\n",
    "# Create the parameter grid based on the results of random search \n",
    "tuned_params = {'n_estimators': [100, 200, 300, 400, 500], 'min_samples_split': [2, 5, 10], 'min_samples_leaf': [1, 2, 4]}\n",
    "\n",
    "# Instantiate the grid search model\n",
    "model = RandomizedSearchCV(RandomForestRegressor(), tuned_params, n_iter=20, scoring = 'neg_mean_absolute_error', cv=5, n_jobs=-1)\n",
    "model.fit(X_train, y_train)"
   ]
  },
  {
   "cell_type": "code",
   "execution_count": 33,
   "metadata": {},
   "outputs": [
    {
     "data": {
      "text/plain": [
       "RandomForestRegressor(bootstrap=True, criterion='mse', max_depth=None,\n",
       "           max_features='auto', max_leaf_nodes=None,\n",
       "           min_impurity_decrease=0.0, min_impurity_split=None,\n",
       "           min_samples_leaf=4, min_samples_split=2,\n",
       "           min_weight_fraction_leaf=0.0, n_estimators=300, n_jobs=1,\n",
       "           oob_score=False, random_state=None, verbose=0, warm_start=False)"
      ]
     },
     "execution_count": 33,
     "metadata": {},
     "output_type": "execute_result"
    }
   ],
   "source": [
    "model.best_estimator_"
   ]
  },
  {
   "cell_type": "code",
   "execution_count": 34,
   "metadata": {
    "collapsed": true
   },
   "outputs": [],
   "source": [
    "## Predict Train results\n",
    "y_train_pred = model.predict(X_train)"
   ]
  },
  {
   "cell_type": "code",
   "execution_count": 35,
   "metadata": {
    "collapsed": true
   },
   "outputs": [],
   "source": [
    "## Predict Test results\n",
    "y_pred = model.predict(X_test)"
   ]
  },
  {
   "cell_type": "code",
   "execution_count": 36,
   "metadata": {},
   "outputs": [
    {
     "name": "stdout",
     "output_type": "stream",
     "text": [
      "Train Results for Random Forest Regression:\n",
      "*******************************\n",
      "Root mean squared error:  62922.989142979124\n",
      "R-squared:  0.832600996966\n",
      "Mean Absolute Error:  45862.5912466\n"
     ]
    }
   ],
   "source": [
    "print(\"Train Results for Random Forest Regression:\")\n",
    "print(\"*******************************\")\n",
    "print(\"Root mean squared error: \", sqrt(mse(y_train.values, y_train_pred)))\n",
    "print(\"R-squared: \", r2_score(y_train.values, y_train_pred))\n",
    "print(\"Mean Absolute Error: \", mae(y_train.values, y_train_pred))"
   ]
  },
  {
   "cell_type": "code",
   "execution_count": 37,
   "metadata": {},
   "outputs": [
    {
     "name": "stdout",
     "output_type": "stream",
     "text": [
      "Test Results for Random Forest Regression:\n",
      "*******************************\n",
      "Root mean squared error:  93579.56159047553\n",
      "R-squared:  0.570237709879\n",
      "Mean Absolute Error:  68469.2732765\n"
     ]
    }
   ],
   "source": [
    "print(\"Test Results for Random Forest Regression:\")\n",
    "print(\"*******************************\")\n",
    "print(\"Root mean squared error: \", sqrt(mse(y_test, y_pred)))\n",
    "print(\"R-squared: \", r2_score(y_test, y_pred))\n",
    "print(\"Mean Absolute Error: \", mae(y_test, y_pred))"
   ]
  },
  {
   "cell_type": "markdown",
   "metadata": {},
   "source": [
    "### Feature Importance"
   ]
  },
  {
   "cell_type": "code",
   "execution_count": 38,
   "metadata": {},
   "outputs": [
    {
     "data": {
      "text/plain": [
       "RandomForestRegressor(bootstrap=True, criterion='mse', max_depth=None,\n",
       "           max_features='auto', max_leaf_nodes=None,\n",
       "           min_impurity_decrease=0.0, min_impurity_split=None,\n",
       "           min_samples_leaf=4, min_samples_split=2,\n",
       "           min_weight_fraction_leaf=0.0, n_estimators=300, n_jobs=1,\n",
       "           oob_score=False, random_state=None, verbose=0, warm_start=False)"
      ]
     },
     "execution_count": 38,
     "metadata": {},
     "output_type": "execute_result"
    }
   ],
   "source": [
    "## Building the model again with the best hyperparameters\n",
    "model = RandomForestRegressor(n_estimators=300, min_samples_split=2, min_samples_leaf=4)\n",
    "model.fit(X_train, y_train)"
   ]
  },
  {
   "cell_type": "code",
   "execution_count": 39,
   "metadata": {},
   "outputs": [
    {
     "name": "stdout",
     "output_type": "stream",
     "text": [
      "The features in order of importance are:\n",
      "--------------------------------------------------\n",
      "insurance\n",
      "tax_and_insurance\n",
      "property_tax\n",
      "sqft\n",
      "property_age\n",
      "college_grad\n",
      "lot_size\n",
      "median_age\n",
      "married\n",
      "during_recession\n",
      "beauty_spas\n",
      "active_life\n",
      "shopping\n",
      "restaurants\n",
      "school_score\n",
      "baths\n",
      "median_school\n",
      "groceries\n",
      "arts_entertainment\n",
      "nightlife\n",
      "cafes\n",
      "beds\n",
      "exterior_walls_Siding (Alum/Vinyl)\n",
      "older_property\n",
      "exterior_walls_Brick\n",
      "roof_Composition Shingle\n",
      "exterior_walls_Metal\n",
      "num_schools\n",
      "exterior_walls_Missing\n",
      "roof_Missing\n",
      "roof_Asphalt\n",
      "roof_Shake Shingle\n",
      "exterior_walls_Brick veneer\n",
      "exterior_walls_Combination\n",
      "basement\n",
      "property_type_Apartment / Condo / Townhouse\n",
      "two_and_two\n",
      "property_type_Single-Family\n",
      "roof_Other\n",
      "3-4 bed\n",
      "exterior_walls_Wood\n",
      "exterior_walls_Other\n"
     ]
    }
   ],
   "source": [
    "indices = np.argsort(-model.feature_importances_)\n",
    "print(\"The features in order of importance are:\")\n",
    "print(50*'-')\n",
    "for feature in X.columns[indices]:\n",
    "    print(feature)"
   ]
  },
  {
   "cell_type": "markdown",
   "metadata": {},
   "source": [
    "## 6.5 Model-5 Lasso Regression"
   ]
  },
  {
   "cell_type": "code",
   "execution_count": 40,
   "metadata": {},
   "outputs": [
    {
     "data": {
      "text/plain": [
       "GridSearchCV(cv=20, error_score='raise',\n",
       "       estimator=Lasso(alpha=1.0, copy_X=True, fit_intercept=True, max_iter=1000,\n",
       "   normalize=False, positive=False, precompute=False, random_state=None,\n",
       "   selection='cyclic', tol=0.0001, warm_start=False),\n",
       "       fit_params=None, iid=True, n_jobs=-1,\n",
       "       param_grid={'alpha': [0.0001, 0.001, 0.01, 0.1, 1, 10, 100, 1000, 10000, 100000]},\n",
       "       pre_dispatch='2*n_jobs', refit=True, return_train_score='warn',\n",
       "       scoring='neg_mean_absolute_error', verbose=0)"
      ]
     },
     "execution_count": 40,
     "metadata": {},
     "output_type": "execute_result"
    }
   ],
   "source": [
    "tuned_params = {'alpha': [0.0001, 0.001, 0.01, 0.1, 1, 10, 100, 1000, 10000, 100000]}\n",
    "model = GridSearchCV(Lasso(), tuned_params, scoring = 'neg_mean_absolute_error', cv=20, n_jobs=-1)\n",
    "model.fit(X_train, y_train)"
   ]
  },
  {
   "cell_type": "code",
   "execution_count": 41,
   "metadata": {},
   "outputs": [
    {
     "data": {
      "text/plain": [
       "Lasso(alpha=1000, copy_X=True, fit_intercept=True, max_iter=1000,\n",
       "   normalize=False, positive=False, precompute=False, random_state=None,\n",
       "   selection='cyclic', tol=0.0001, warm_start=False)"
      ]
     },
     "execution_count": 41,
     "metadata": {},
     "output_type": "execute_result"
    }
   ],
   "source": [
    "model.best_estimator_"
   ]
  },
  {
   "cell_type": "code",
   "execution_count": 42,
   "metadata": {
    "collapsed": true
   },
   "outputs": [],
   "source": [
    "## Predict Train results\n",
    "y_train_pred = model.predict(X_train)"
   ]
  },
  {
   "cell_type": "code",
   "execution_count": 43,
   "metadata": {
    "collapsed": true
   },
   "outputs": [],
   "source": [
    "## Predict Test results\n",
    "y_pred = model.predict(X_test)"
   ]
  },
  {
   "cell_type": "code",
   "execution_count": 44,
   "metadata": {},
   "outputs": [
    {
     "name": "stdout",
     "output_type": "stream",
     "text": [
      "Train Results for Lasso Regression:\n",
      "*******************************\n",
      "Root mean squared error:  118486.30779921192\n",
      "R-squared:  0.406431959639\n",
      "Mean Absolute Error:  92407.9568146\n"
     ]
    }
   ],
   "source": [
    "print(\"Train Results for Lasso Regression:\")\n",
    "print(\"*******************************\")\n",
    "print(\"Root mean squared error: \", sqrt(mse(y_train.values, y_train_pred)))\n",
    "print(\"R-squared: \", r2_score(y_train.values, y_train_pred))\n",
    "print(\"Mean Absolute Error: \", mae(y_train.values, y_train_pred))"
   ]
  },
  {
   "cell_type": "code",
   "execution_count": 45,
   "metadata": {},
   "outputs": [
    {
     "name": "stdout",
     "output_type": "stream",
     "text": [
      "Test Results for Lasso Regression:\n",
      "*******************************\n",
      "Root mean squared error:  109712.56120046602\n",
      "R-squared:  0.409283638443\n",
      "Mean Absolute Error:  85172.2389506\n"
     ]
    }
   ],
   "source": [
    "print(\"Test Results for Lasso Regression:\")\n",
    "print(\"*******************************\")\n",
    "print(\"Root mean squared error: \", sqrt(mse(y_test, y_pred)))\n",
    "print(\"R-squared: \", r2_score(y_test, y_pred))\n",
    "print(\"Mean Absolute Error: \", mae(y_test, y_pred))"
   ]
  },
  {
   "cell_type": "markdown",
   "metadata": {},
   "source": [
    "### Feature Importance"
   ]
  },
  {
   "cell_type": "code",
   "execution_count": 46,
   "metadata": {},
   "outputs": [
    {
     "data": {
      "text/plain": [
       "Lasso(alpha=1000, copy_X=True, fit_intercept=True, max_iter=1000,\n",
       "   normalize=False, positive=False, precompute=False, random_state=None,\n",
       "   selection='cyclic', tol=0.0001, warm_start=False)"
      ]
     },
     "execution_count": 46,
     "metadata": {},
     "output_type": "execute_result"
    }
   ],
   "source": [
    "## Building the model again with the best hyperparameters\n",
    "model = Lasso(alpha=1000)\n",
    "model.fit(X_train, y_train)"
   ]
  },
  {
   "cell_type": "code",
   "execution_count": 47,
   "metadata": {},
   "outputs": [
    {
     "name": "stdout",
     "output_type": "stream",
     "text": [
      "The features in order of importance are:\n",
      "--------------------------------------------------\n",
      "sqft\n",
      "insurance\n",
      "college_grad\n",
      "3-4 bed\n",
      "property_age\n",
      "baths\n",
      "property_type_Apartment / Condo / Townhouse\n",
      "older_property\n",
      "property_tax\n",
      "groceries\n",
      "during_recession\n",
      "cafes\n",
      "exterior_walls_Wood\n",
      "nightlife\n",
      "lot_size\n",
      "active_life\n",
      "exterior_walls_Brick\n",
      "beauty_spas\n",
      "school_score\n",
      "two_and_two\n",
      "roof_Asphalt\n",
      "exterior_walls_Brick veneer\n",
      "exterior_walls_Combination\n",
      "shopping\n",
      "exterior_walls_Missing\n",
      "restaurants\n",
      "married\n",
      "median_age\n",
      "num_schools\n",
      "roof_Composition Shingle\n",
      "exterior_walls_Metal\n",
      "exterior_walls_Other\n",
      "arts_entertainment\n",
      "roof_Other\n",
      "roof_Missing\n",
      "roof_Shake Shingle\n",
      "beds\n",
      "tax_and_insurance\n",
      "median_school\n",
      "basement\n",
      "exterior_walls_Siding (Alum/Vinyl)\n",
      "property_type_Single-Family\n"
     ]
    }
   ],
   "source": [
    "indices = np.argsort(-abs(model.coef_))\n",
    "print(\"The features in order of importance are:\")\n",
    "print(50*'-')\n",
    "for feature in X.columns[indices]:\n",
    "    print(feature)"
   ]
  },
  {
   "cell_type": "markdown",
   "metadata": {},
   "source": [
    "## 6.5 Model-6 KNN Regression"
   ]
  },
  {
   "cell_type": "code",
   "execution_count": 48,
   "metadata": {},
   "outputs": [
    {
     "name": "stdout",
     "output_type": "stream",
     "text": [
      "\n",
      "The optimal number of neighbors is 13.\n"
     ]
    }
   ],
   "source": [
    "# creating odd list of K for KNN\n",
    "neighbors = list(range(1,50,2))\n",
    "# empty list that will hold cv scores\n",
    "cv_scores = []\n",
    "\n",
    "# perform 10-fold cross validation\n",
    "for k in neighbors:\n",
    "    knn = KNeighborsRegressor(n_neighbors=k)\n",
    "    scores = cross_val_score(knn, X_train, y_train, cv=10, scoring='neg_mean_absolute_error')\n",
    "    cv_scores.append(scores.mean())\n",
    "\n",
    "# changing to misclassification error\n",
    "MSE = [1 - x for x in cv_scores]\n",
    "\n",
    "# determining best k\n",
    "optimal_k = neighbors[MSE.index(min(MSE))]\n",
    "print('\\nThe optimal number of neighbors is %d.' % optimal_k)"
   ]
  },
  {
   "cell_type": "code",
   "execution_count": 49,
   "metadata": {},
   "outputs": [
    {
     "data": {
      "text/plain": [
       "KNeighborsRegressor(algorithm='auto', leaf_size=30, metric='minkowski',\n",
       "          metric_params=None, n_jobs=1, n_neighbors=13, p=2,\n",
       "          weights='uniform')"
      ]
     },
     "execution_count": 49,
     "metadata": {},
     "output_type": "execute_result"
    }
   ],
   "source": [
    "model = KNeighborsRegressor(n_neighbors = optimal_k)\n",
    "model.fit(X_train, y_train)"
   ]
  },
  {
   "cell_type": "code",
   "execution_count": 50,
   "metadata": {
    "collapsed": true
   },
   "outputs": [],
   "source": [
    "## Predict Train results\n",
    "y_train_pred = model.predict(X_train)"
   ]
  },
  {
   "cell_type": "code",
   "execution_count": 51,
   "metadata": {
    "collapsed": true
   },
   "outputs": [],
   "source": [
    "## Predict Test results\n",
    "y_pred = model.predict(X_test)"
   ]
  },
  {
   "cell_type": "code",
   "execution_count": 52,
   "metadata": {},
   "outputs": [
    {
     "name": "stdout",
     "output_type": "stream",
     "text": [
      "Train Results for KN Regression:\n",
      "*******************************\n",
      "Root mean squared error:  114895.58193502143\n",
      "R-squared:  0.441862973362\n",
      "Mean Absolute Error:  89612.4573051\n"
     ]
    }
   ],
   "source": [
    "print(\"Train Results for KN Regression:\")\n",
    "print(\"*******************************\")\n",
    "print(\"Root mean squared error: \", sqrt(mse(y_train.values, y_train_pred)))\n",
    "print(\"R-squared: \", r2_score(y_train.values, y_train_pred))\n",
    "print(\"Mean Absolute Error: \", mae(y_train.values, y_train_pred))"
   ]
  },
  {
   "cell_type": "code",
   "execution_count": 53,
   "metadata": {},
   "outputs": [
    {
     "name": "stdout",
     "output_type": "stream",
     "text": [
      "Test Results for KN Regression:\n",
      "*******************************\n",
      "Root mean squared error:  107796.23123522308\n",
      "R-squared:  0.429739293929\n",
      "Mean Absolute Error:  83847.2445865\n"
     ]
    }
   ],
   "source": [
    "print(\"Test Results for KN Regression:\")\n",
    "print(\"*******************************\")\n",
    "print(\"Root mean squared error: \", sqrt(mse(y_test, y_pred)))\n",
    "print(\"R-squared: \", r2_score(y_test, y_pred))\n",
    "print(\"Mean Absolute Error: \", mae(y_test, y_pred))"
   ]
  },
  {
   "cell_type": "markdown",
   "metadata": {},
   "source": [
    "## 6.5 Model-7 Decision Tree Regression"
   ]
  },
  {
   "cell_type": "code",
   "execution_count": 66,
   "metadata": {},
   "outputs": [
    {
     "data": {
      "text/plain": [
       "RandomizedSearchCV(cv=10, error_score='raise',\n",
       "          estimator=DecisionTreeRegressor(criterion='mse', max_depth=None, max_features=None,\n",
       "           max_leaf_nodes=None, min_impurity_decrease=0.0,\n",
       "           min_impurity_split=None, min_samples_leaf=1,\n",
       "           min_samples_split=2, min_weight_fraction_leaf=0.0,\n",
       "           presort=False, random_state=None, splitter='best'),\n",
       "          fit_params=None, iid=True, n_iter=20, n_jobs=-1,\n",
       "          param_distributions={'min_samples_split': [2, 3, 4, 5, 7], 'min_samples_leaf': [1, 2, 3, 4, 6], 'max_depth': [2, 3, 4, 5, 6, 7]},\n",
       "          pre_dispatch='2*n_jobs', random_state=None, refit=True,\n",
       "          return_train_score='warn', scoring='neg_mean_absolute_error',\n",
       "          verbose=0)"
      ]
     },
     "execution_count": 66,
     "metadata": {},
     "output_type": "execute_result"
    }
   ],
   "source": [
    "tuned_params = {'min_samples_split': [2, 3, 4, 5, 7], 'min_samples_leaf': [1, 2, 3, 4, 6], 'max_depth': [2, 3, 4, 5, 6, 7]}\n",
    "model = RandomizedSearchCV(DecisionTreeRegressor(), tuned_params, n_iter=20, scoring = 'neg_mean_absolute_error', cv=10, n_jobs=-1)\n",
    "model.fit(X_train, y_train)"
   ]
  },
  {
   "cell_type": "code",
   "execution_count": 69,
   "metadata": {},
   "outputs": [
    {
     "data": {
      "text/plain": [
       "DecisionTreeRegressor(criterion='mse', max_depth=4, max_features=None,\n",
       "           max_leaf_nodes=None, min_impurity_decrease=0.0,\n",
       "           min_impurity_split=None, min_samples_leaf=3,\n",
       "           min_samples_split=3, min_weight_fraction_leaf=0.0,\n",
       "           presort=False, random_state=None, splitter='best')"
      ]
     },
     "execution_count": 69,
     "metadata": {},
     "output_type": "execute_result"
    }
   ],
   "source": [
    "model.best_estimator_"
   ]
  },
  {
   "cell_type": "code",
   "execution_count": 70,
   "metadata": {
    "collapsed": true
   },
   "outputs": [],
   "source": [
    "## Predict Train results\n",
    "y_train_pred = model.predict(X_train)"
   ]
  },
  {
   "cell_type": "code",
   "execution_count": 71,
   "metadata": {
    "collapsed": true
   },
   "outputs": [],
   "source": [
    "## Predict Test results\n",
    "y_pred = model.predict(X_test)"
   ]
  },
  {
   "cell_type": "code",
   "execution_count": 73,
   "metadata": {},
   "outputs": [
    {
     "name": "stdout",
     "output_type": "stream",
     "text": [
      "Train Results for Decision Tree Regression:\n",
      "*******************************\n",
      "Root mean squared error:  104478.4751248797\n",
      "R-squared:  0.538482868183\n",
      "Mean Absolute Error:  78134.4814877\n"
     ]
    }
   ],
   "source": [
    "print(\"Train Results for Decision Tree Regression:\")\n",
    "print(\"*******************************\")\n",
    "print(\"Root mean squared error: \", sqrt(mse(y_train.values, y_train_pred)))\n",
    "print(\"R-squared: \", r2_score(y_train.values, y_train_pred))\n",
    "print(\"Mean Absolute Error: \", mae(y_train.values, y_train_pred))"
   ]
  },
  {
   "cell_type": "code",
   "execution_count": 75,
   "metadata": {},
   "outputs": [
    {
     "name": "stdout",
     "output_type": "stream",
     "text": [
      "Test Results for Decision Tree Regression:\n",
      "*******************************\n",
      "Root mean squared error:  103448.59365273765\n",
      "R-squared:  0.474811177254\n",
      "Mean Absolute Error:  77289.7832468\n"
     ]
    }
   ],
   "source": [
    "print(\"Test Results for Decision Tree Regression:\")\n",
    "print(\"*******************************\")\n",
    "print(\"Root mean squared error: \", sqrt(mse(y_test, y_pred)))\n",
    "print(\"R-squared: \", r2_score(y_test, y_pred))\n",
    "print(\"Mean Absolute Error: \", mae(y_test, y_pred))"
   ]
  },
  {
   "cell_type": "markdown",
   "metadata": {},
   "source": [
    "### Features Importance"
   ]
  },
  {
   "cell_type": "code",
   "execution_count": 76,
   "metadata": {},
   "outputs": [
    {
     "data": {
      "text/plain": [
       "DecisionTreeRegressor(criterion='mse', max_depth=4, max_features=None,\n",
       "           max_leaf_nodes=None, min_impurity_decrease=0.0,\n",
       "           min_impurity_split=None, min_samples_leaf=3,\n",
       "           min_samples_split=3, min_weight_fraction_leaf=0.0,\n",
       "           presort=False, random_state=None, splitter='best')"
      ]
     },
     "execution_count": 76,
     "metadata": {},
     "output_type": "execute_result"
    }
   ],
   "source": [
    "## Building the model again with the best hyperparameters\n",
    "model = DecisionTreeRegressor(max_depth=4, min_samples_split=3, min_samples_leaf=3)\n",
    "model.fit(X_train, y_train)"
   ]
  },
  {
   "cell_type": "code",
   "execution_count": 77,
   "metadata": {},
   "outputs": [
    {
     "name": "stdout",
     "output_type": "stream",
     "text": [
      "The features in order of importance are:\n",
      "--------------------------------------------------\n",
      "tax_and_insurance\n",
      "insurance\n",
      "during_recession\n",
      "sqft\n",
      "active_life\n",
      "cafes\n",
      "college_grad\n",
      "property_age\n",
      "median_school\n",
      "school_score\n",
      "exterior_walls_Brick\n",
      "exterior_walls_Brick veneer\n",
      "exterior_walls_Combination\n",
      "beds\n",
      "exterior_walls_Other\n",
      "exterior_walls_Siding (Alum/Vinyl)\n",
      "exterior_walls_Wood\n",
      "roof_Asphalt\n",
      "roof_Composition Shingle\n",
      "roof_Missing\n",
      "roof_Other\n",
      "roof_Shake Shingle\n",
      "exterior_walls_Metal\n",
      "exterior_walls_Missing\n",
      "two_and_two\n",
      "3-4 bed\n",
      "baths\n",
      "lot_size\n",
      "basement\n",
      "restaurants\n",
      "groceries\n",
      "nightlife\n",
      "older_property\n",
      "shopping\n",
      "beauty_spas\n",
      "median_age\n",
      "married\n",
      "property_tax\n",
      "num_schools\n",
      "property_type_Apartment / Condo / Townhouse\n",
      "arts_entertainment\n",
      "property_type_Single-Family\n"
     ]
    }
   ],
   "source": [
    "indices = np.argsort(-model.feature_importances_)\n",
    "print(\"The features in order of importance are:\")\n",
    "print(50*'-')\n",
    "for feature in X.columns[indices]:\n",
    "    print(feature)"
   ]
  },
  {
   "cell_type": "markdown",
   "metadata": {},
   "source": [
    "## 6.5 Model-8 Xgboost Regression"
   ]
  },
  {
   "cell_type": "code",
   "execution_count": 54,
   "metadata": {},
   "outputs": [
    {
     "data": {
      "text/plain": [
       "RandomizedSearchCV(cv=5, error_score='raise',\n",
       "          estimator=XGBRegressor(base_score=0.5, booster='gbtree', colsample_bylevel=1,\n",
       "       colsample_bytree=1, gamma=0, learning_rate=0.1, max_delta_step=0,\n",
       "       max_depth=3, min_child_weight=1, missing=None, n_estimators=100,\n",
       "       n_jobs=1, nthread=None, objective='reg:linear', random_state=0,\n",
       "       reg_alpha=0, reg_lambda=1, scale_pos_weight=1, seed=None,\n",
       "       silent=True, subsample=1),\n",
       "          fit_params=None, iid=True, n_iter=20, n_jobs=-1,\n",
       "          param_distributions={'max_depth': [1, 2, 3, 4, 5], 'learning_rate': [0.01, 0.05, 0.1], 'n_estimators': [100, 200, 300, 400, 500], 'reg_lambda': [0.001, 0.1, 1.0, 10.0, 100.0]},\n",
       "          pre_dispatch='2*n_jobs', random_state=None, refit=True,\n",
       "          return_train_score='warn', scoring='neg_mean_absolute_error',\n",
       "          verbose=0)"
      ]
     },
     "execution_count": 54,
     "metadata": {},
     "output_type": "execute_result"
    }
   ],
   "source": [
    "## Reference for random search on xgboost\n",
    "## https://gist.github.com/wrwr/3f6b66bf4ee01bf48be965f60d14454d\n",
    "tuned_params = {'max_depth': [1, 2, 3, 4, 5], 'learning_rate': [0.01, 0.05, 0.1], 'n_estimators': [100, 200, 300, 400, 500], 'reg_lambda': [0.001, 0.1, 1.0, 10.0, 100.0]}\n",
    "model = RandomizedSearchCV(XGBRegressor(), tuned_params, n_iter=20, scoring = 'neg_mean_absolute_error', cv=5, n_jobs=-1)\n",
    "model.fit(X_train, y_train)"
   ]
  },
  {
   "cell_type": "code",
   "execution_count": 55,
   "metadata": {},
   "outputs": [
    {
     "data": {
      "text/plain": [
       "XGBRegressor(base_score=0.5, booster='gbtree', colsample_bylevel=1,\n",
       "       colsample_bytree=1, gamma=0, learning_rate=0.05, max_delta_step=0,\n",
       "       max_depth=2, min_child_weight=1, missing=None, n_estimators=300,\n",
       "       n_jobs=1, nthread=None, objective='reg:linear', random_state=0,\n",
       "       reg_alpha=0, reg_lambda=10.0, scale_pos_weight=1, seed=None,\n",
       "       silent=True, subsample=1)"
      ]
     },
     "execution_count": 55,
     "metadata": {},
     "output_type": "execute_result"
    }
   ],
   "source": [
    "model.best_estimator_"
   ]
  },
  {
   "cell_type": "code",
   "execution_count": 56,
   "metadata": {
    "collapsed": true
   },
   "outputs": [],
   "source": [
    "## Predict Train results\n",
    "y_train_pred = model.predict(X_train)"
   ]
  },
  {
   "cell_type": "code",
   "execution_count": 57,
   "metadata": {
    "collapsed": true
   },
   "outputs": [],
   "source": [
    "\n",
    "## Predict Test results## Predic \n",
    "y_pred = model.predict(X_test)"
   ]
  },
  {
   "cell_type": "code",
   "execution_count": 59,
   "metadata": {},
   "outputs": [
    {
     "name": "stdout",
     "output_type": "stream",
     "text": [
      "Train Results for XGBoost Regression:\n",
      "*******************************\n",
      "Root mean squared error:  96052.55115848806\n",
      "R-squared:  0.609921526326\n",
      "Mean Absolute Error:  72587.6521393\n"
     ]
    }
   ],
   "source": [
    "print(\"Train Results for XGBoost Regression:\")\n",
    "print(\"*******************************\")\n",
    "print(\"Root mean squared error: \", sqrt(mse(y_train.values, y_train_pred)))\n",
    "print(\"R-squared: \", r2_score(y_train.values, y_train_pred))\n",
    "print(\"Mean Absolute Error: \", mae(y_train.values, y_train_pred))"
   ]
  },
  {
   "cell_type": "code",
   "execution_count": 60,
   "metadata": {},
   "outputs": [
    {
     "name": "stdout",
     "output_type": "stream",
     "text": [
      "Test Results for XGBoost Regression:\n",
      "*******************************\n",
      "Root mean squared error:  96529.90387668562\n",
      "R-squared:  0.542711752224\n",
      "Mean Absolute Error:  70395.2871146\n"
     ]
    }
   ],
   "source": [
    "print(\"Test Results for XGBoost Regression:\")\n",
    "print(\"*******************************\")\n",
    "print(\"Root mean squared error: \", sqrt(mse(y_test, y_pred)))\n",
    "print(\"R-squared: \", r2_score(y_test, y_pred))\n",
    "print(\"Mean Absolute Error: \", mae(y_test, y_pred))"
   ]
  },
  {
   "cell_type": "markdown",
   "metadata": {},
   "source": [
    "### Feature Importance"
   ]
  },
  {
   "cell_type": "code",
   "execution_count": 61,
   "metadata": {},
   "outputs": [
    {
     "data": {
      "text/plain": [
       "XGBRegressor(base_score=0.5, booster='gbtree', colsample_bylevel=1,\n",
       "       colsample_bytree=1, gamma=0, learning_rate=0.05, max_delta_step=0,\n",
       "       max_depth=2, min_child_weight=1, missing=None, n_estimators=300,\n",
       "       n_jobs=1, nthread=None, objective='reg:linear', random_state=0,\n",
       "       reg_alpha=0, reg_lambda=10.0, scale_pos_weight=1, seed=None,\n",
       "       silent=True, subsample=1)"
      ]
     },
     "execution_count": 61,
     "metadata": {},
     "output_type": "execute_result"
    }
   ],
   "source": [
    "## Building the model again with the best hyperparameters\n",
    "model = XGBRegressor(max_depth=2,learning_rate=0.05,n_estimators=300, reg_lambda=10.0)\n",
    "model.fit(X_train, y_train)"
   ]
  },
  {
   "cell_type": "code",
   "execution_count": 62,
   "metadata": {
    "collapsed": true
   },
   "outputs": [],
   "source": [
    "## Function to include figsize parameter\n",
    "## Reference: https://stackoverflow.com/questions/40081888/xgboost-plot-importance-figure-size\n",
    "def my_plot_importance(booster, figsize, **kwargs): \n",
    "    from matplotlib import pyplot as plt\n",
    "    from xgboost import plot_importance\n",
    "    fig, ax = plt.subplots(1,1,figsize=figsize)\n",
    "    return plot_importance(booster=booster, ax=ax, **kwargs)"
   ]
  },
  {
   "cell_type": "code",
   "execution_count": 64,
   "metadata": {},
   "outputs": [
    {
     "data": {
      "text/plain": [
       "<matplotlib.axes._subplots.AxesSubplot at 0xbfc1e10>"
      ]
     },
     "execution_count": 64,
     "metadata": {},
     "output_type": "execute_result"
    },
    {
     "data": {
      "image/png": "[encoded data removed]",
      "text/plain": [
       "<matplotlib.figure.Figure at 0xbfc11d0>"
      ]
     },
     "metadata": {},
     "output_type": "display_data"
    }
   ],
   "source": [
    "my_plot_importance(model, (10,10))"
   ]
  },
  {
   "cell_type": "markdown",
   "metadata": {},
   "source": [
    "### Compare all models"
   ]
  },
  {
   "cell_type": "markdown",
   "metadata": {},
   "source": [
    "![title](Images/Capture.jpg)\n",
    "* From Above table RSE and MAE of Random Forest Regressor is lower then the all other model.\n",
    "* Therfore Random Forest Regressor is best model."
   ]
  },
  {
   "cell_type": "markdown",
   "metadata": {},
   "source": [
    "# 7. Save the winning model to disk"
   ]
  },
  {
   "cell_type": "code",
   "execution_count": 82,
   "metadata": {},
   "outputs": [
    {
     "data": {
      "text/plain": [
       "['Save/rfr_real_estate.pkl']"
      ]
     },
     "execution_count": 82,
     "metadata": {},
     "output_type": "execute_result"
    }
   ],
   "source": [
    "win_model = RandomForestRegressor(n_estimators=300, min_samples_split=2, min_samples_leaf=4)\n",
    "win_model.fit(X_train, y_train)\n",
    "joblib.dump(win_model, 'Save/rfr_real_estate.pkl') "
   ]
  },
  {
   "cell_type": "code",
   "execution_count": null,
   "metadata": {
    "collapsed": true
   },
   "outputs": [],
   "source": []
  }
 ],
 "metadata": {
  "kernelspec": {
   "display_name": "Python 3",
   "language": "python",
   "name": "python3"
  },
  "language_info": {
   "codemirror_mode": {
    "name": "ipython",
    "version": 3
   },
   "file_extension": ".py",
   "mimetype": "text/x-python",
   "name": "python",
   "nbconvert_exporter": "python",
   "pygments_lexer": "ipython3",
   "version": "3.6.3"
  }
 },
 "nbformat": 4,
 "nbformat_minor": 2
}
